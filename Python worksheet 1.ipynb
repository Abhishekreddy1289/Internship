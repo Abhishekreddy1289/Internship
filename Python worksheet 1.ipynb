{
 "cells": [
  {
   "cell_type": "markdown",
   "id": "477e366d",
   "metadata": {},
   "source": [
    "### Q11) Write a python program to find the factorial of a number."
   ]
  },
  {
   "cell_type": "code",
   "execution_count": 30,
   "id": "634d6011",
   "metadata": {},
   "outputs": [
    {
     "name": "stdout",
     "output_type": "stream",
     "text": [
      "Enter num value:5\n",
      "Factorial of a 5 is:- 120\n"
     ]
    }
   ],
   "source": [
    "#factorial of a number\n",
    "def fact(num):\n",
    "    y=1\n",
    "    for x in range(1,num+1):\n",
    "        x=y*x\n",
    "        y=x\n",
    "    print(\"Factorial of a\",num,\"is:-\",y)\n",
    "fact(int(input(\"Enter num value:\")))"
   ]
  },
  {
   "cell_type": "markdown",
   "id": "c52db0be",
   "metadata": {},
   "source": [
    "### Q12)Write a python program to find whether a number is prime or composite."
   ]
  },
  {
   "cell_type": "code",
   "execution_count": 95,
   "id": "e1b41935",
   "metadata": {},
   "outputs": [
    {
     "name": "stdout",
     "output_type": "stream",
     "text": [
      "Enter num value :63\n",
      "63 is composite.\n"
     ]
    }
   ],
   "source": [
    "#find whether a number is prime or composite\n",
    "\n",
    "def prime(num):\n",
    "    if num==2:\n",
    "        print(num,\"is prime number.\")\n",
    "    else:\n",
    "        for x in range(2,num):\n",
    "            if num%x==0:\n",
    "                print(num,\"is composite.\")\n",
    "                break\n",
    "        else:\n",
    "            print(num,\"is prime number.\")\n",
    "\n",
    "prime(int(input(\"Enter num value :\")))"
   ]
  },
  {
   "cell_type": "markdown",
   "id": "bda74436",
   "metadata": {},
   "source": [
    "### Q13)Write a python program to check whether a given string is palindrome or not."
   ]
  },
  {
   "cell_type": "code",
   "execution_count": 122,
   "id": "e8596cfe",
   "metadata": {},
   "outputs": [
    {
     "name": "stdout",
     "output_type": "stream",
     "text": [
      "Enter string :madam\n",
      "madam  is a palindrome.\n"
     ]
    }
   ],
   "source": [
    "#check whether a given string is palindrome or not\n",
    "\n",
    "def string(str1):\n",
    "    str1=[letter for letter in str1]\n",
    "    rev_str1=str1[::-1]\n",
    "    if str1==rev_str1:\n",
    "        str1=''.join(str1)\n",
    "        print(str1,\" is a palindrome.\")\n",
    "    else:\n",
    "        str1=''.join(str1)\n",
    "        print(str1,\"is not palindrome.\")\n",
    "\n",
    "string(input(\"Enter string :\"))"
   ]
  },
  {
   "cell_type": "markdown",
   "id": "4ca32ca4",
   "metadata": {},
   "source": [
    "### Q14)Write a Python program to get the third side of right-angled triangle from two given sides."
   ]
  },
  {
   "cell_type": "code",
   "execution_count": 133,
   "id": "2e1a55c3",
   "metadata": {},
   "outputs": [
    {
     "name": "stdout",
     "output_type": "stream",
     "text": [
      "Enter Perpendicular value in right-angled triangle: 10\n",
      "Enter opposite/base value in right-angled triangle:20\n",
      "The Hypotenuse value of right-angled triangle: 22.360679774997898\n"
     ]
    }
   ],
   "source": [
    "def triangle(a,b):\n",
    "    import math\n",
    "    from math import sqrt\n",
    "    #To find third side value in right-angled triangle there is formula in mathametics c=sqrt(a square + b square) \n",
    "    c=sqrt((a**2)+(b**2))\n",
    "    print(\"The Hypotenuse value of right-angled triangle:\",c)\n",
    "triangle(a=int(input(\"Enter Perpendicular value in right-angled triangle: \")),b=int(input(\"Enter opposite/base value in right-angled triangle:\")))"
   ]
  },
  {
   "cell_type": "markdown",
   "id": "d2bdd83f",
   "metadata": {},
   "source": [
    "### Q15)Write a python program to print the frequency of each of the characters present in a given string."
   ]
  },
  {
   "cell_type": "code",
   "execution_count": 152,
   "id": "451e8e0d",
   "metadata": {},
   "outputs": [
    {
     "name": "stdout",
     "output_type": "stream",
     "text": [
      "Enter string:abhiabhi\n",
      "Frequency of each of the characters present in a given string {'a': 2, 'b': 2, 'h': 2, 'i': 2}\n"
     ]
    }
   ],
   "source": [
    "#program to print the frequency of each of the characters present in a given string\n",
    "def string(str1):\n",
    "    freq={}\n",
    "    for i in str1:\n",
    "        if i in freq:\n",
    "            freq[i]+=1\n",
    "        else:\n",
    "            freq[i]=1\n",
    "    print(\"Frequency of each of the characters present in a given string\",freq)\n",
    "            \n",
    "#call function          \n",
    "string(input(\"Enter string:\"))\n",
    "    "
   ]
  }
 ],
 "metadata": {
  "kernelspec": {
   "display_name": "Python 3",
   "language": "python",
   "name": "python3"
  },
  "language_info": {
   "codemirror_mode": {
    "name": "ipython",
    "version": 3
   },
   "file_extension": ".py",
   "mimetype": "text/x-python",
   "name": "python",
   "nbconvert_exporter": "python",
   "pygments_lexer": "ipython3",
   "version": "3.8.8"
  }
 },
 "nbformat": 4,
 "nbformat_minor": 5
}
