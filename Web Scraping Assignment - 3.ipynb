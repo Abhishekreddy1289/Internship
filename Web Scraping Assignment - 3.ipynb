{
 "cells": [
  {
   "cell_type": "code",
   "execution_count": 12,
   "id": "152caef2",
   "metadata": {},
   "outputs": [
    {
     "name": "stdout",
     "output_type": "stream",
     "text": [
      "Collecting webdriver-managerNote: you may need to restart the kernel to use updated packages.\n",
      "\n",
      "  Downloading webdriver_manager-3.5.4-py2.py3-none-any.whl (18 kB)\n",
      "Requirement already satisfied: requests in c:\\users\\dell\\anaconda3\\lib\\site-packages (from webdriver-manager) (2.25.1)\n",
      "Requirement already satisfied: idna<3,>=2.5 in c:\\users\\dell\\anaconda3\\lib\\site-packages (from requests->webdriver-manager) (2.10)\n",
      "Requirement already satisfied: certifi>=2017.4.17 in c:\\users\\dell\\anaconda3\\lib\\site-packages (from requests->webdriver-manager) (2020.12.5)\n",
      "Requirement already satisfied: chardet<5,>=3.0.2 in c:\\users\\dell\\anaconda3\\lib\\site-packages (from requests->webdriver-manager) (4.0.0)\n",
      "Requirement already satisfied: urllib3<1.27,>=1.21.1 in c:\\users\\dell\\anaconda3\\lib\\site-packages (from requests->webdriver-manager) (1.26.4)\n",
      "Installing collected packages: webdriver-manager\n",
      "Successfully installed webdriver-manager-3.5.4\n"
     ]
    }
   ],
   "source": [
    "pip install webdriver-manager"
   ]
  },
  {
   "cell_type": "code",
   "execution_count": 13,
   "id": "de462998",
   "metadata": {},
   "outputs": [
    {
     "name": "stdout",
     "output_type": "stream",
     "text": [
      "Collecting selectorlib\n",
      "  Downloading selectorlib-0.16.0-py2.py3-none-any.whl (5.8 kB)\n",
      "Requirement already satisfied: Click>=6.0 in c:\\users\\dell\\anaconda3\\lib\\site-packages (from selectorlib) (7.1.2)\n",
      "Requirement already satisfied: pyyaml>=3.12 in c:\\users\\dell\\anaconda3\\lib\\site-packages (from selectorlib) (5.4.1)\n",
      "Collecting parsel>=1.5.1\n",
      "  Downloading parsel-1.6.0-py2.py3-none-any.whl (13 kB)\n",
      "Collecting w3lib>=1.19.0\n",
      "  Downloading w3lib-1.22.0-py2.py3-none-any.whl (20 kB)\n",
      "Requirement already satisfied: six>=1.6.0 in c:\\users\\dell\\anaconda3\\lib\\site-packages (from parsel>=1.5.1->selectorlib) (1.15.0)\n",
      "Requirement already satisfied: lxml in c:\\users\\dell\\anaconda3\\lib\\site-packages (from parsel>=1.5.1->selectorlib) (4.6.3)\n",
      "Collecting cssselect>=0.9\n",
      "  Downloading cssselect-1.1.0-py2.py3-none-any.whl (16 kB)\n",
      "Installing collected packages: w3lib, cssselect, parsel, selectorlib\n",
      "Successfully installed cssselect-1.1.0 parsel-1.6.0 selectorlib-0.16.0 w3lib-1.22.0\n",
      "Note: you may need to restart the kernel to use updated packages.\n"
     ]
    }
   ],
   "source": [
    "pip install selectorlib"
   ]
  },
  {
   "cell_type": "markdown",
   "id": "bc06940a",
   "metadata": {},
   "source": [
    "### 1. Write a python program which searches all the product under a particular product from www.amazon.in. The product to be searched will be taken as input from user. For e.g. If user input is ‘guitar’. Then search for guitars. "
   ]
  },
  {
   "cell_type": "markdown",
   "id": "2f3eaa1d",
   "metadata": {},
   "source": [
    "### 2. In the above question, now scrape the following details of each product listed in first 3 pages of your search results and save it in a data frame and csv. In case if any product has less than 3 pages in search results then scrape all the products available under that product name. Details to be scraped are: \"Brand Name\", \"Name of the Product\", \"Price\", \"Return/Exchange\", \"Expected Delivery\", \"Availability\" and “Product URL”. In case, if any of the details are missing for any of the product then replace it by “-“. "
   ]
  },
  {
   "cell_type": "code",
   "execution_count": 85,
   "id": "255f69c5",
   "metadata": {},
   "outputs": [],
   "source": [
    "#import needed libraries\n",
    "from selenium import webdriver\n",
    "import numpy as np\n",
    "import pandas as pd\n",
    "import time\n",
    "import warnings\n",
    "warnings.filterwarnings('ignore')\n",
    "\n",
    "from selenium.common.exceptions import NoSuchElementException"
   ]
  },
  {
   "cell_type": "code",
   "execution_count": 17,
   "id": "2a66ddbc",
   "metadata": {},
   "outputs": [],
   "source": [
    "#open empty web driver\n",
    "driver=webdriver.Chrome(r\"C:\\Users\\dell\\Downloads\\chromedriver_win32\\chromedriver.exe\")\n",
    "driver.get('https://www.amazon.in/')"
   ]
  },
  {
   "cell_type": "code",
   "execution_count": 18,
   "id": "27583163",
   "metadata": {},
   "outputs": [
    {
     "name": "stdout",
     "output_type": "stream",
     "text": [
      "Enter the Product:-guitar\n"
     ]
    }
   ],
   "source": [
    "#for job search bar\n",
    "search_for_job_role=driver.find_element_by_xpath('/html/body/div[1]/header/div/div[1]/div[2]/div/form/div[2]/div[1]/input')\n",
    "search_for_job_role.send_keys(input(\"Enter the Product:-\"))"
   ]
  },
  {
   "cell_type": "code",
   "execution_count": 23,
   "id": "34fd418e",
   "metadata": {},
   "outputs": [],
   "source": [
    "#for clicking search button\n",
    "search_button=driver.find_element_by_xpath('/html/body/div[1]/header/div/div[1]/div[2]/div/form/div[3]/div/span/input')\n",
    "search_button.click()\n",
    "time.sleep(5)\n",
    "driver.implicitly_wait(5)"
   ]
  },
  {
   "cell_type": "code",
   "execution_count": 45,
   "id": "6a76f8d2",
   "metadata": {},
   "outputs": [],
   "source": [
    "guitar_name=[]\n",
    "try:\n",
    "    guitar_tag=driver.find_elements_by_xpath('//span[@class=\"a-size-base-plus a-color-base a-text-normal\"]')\n",
    "except NoSuchElementException as e:\n",
    "    print('Type of Error:',e) \n",
    "for x in guitar_tag:\n",
    "    guitar_name.append(x.text)\n",
    "time.sleep(4)"
   ]
  },
  {
   "cell_type": "code",
   "execution_count": 53,
   "id": "707fe0ad",
   "metadata": {},
   "outputs": [],
   "source": [
    "guitar_price=[]\n",
    "try:\n",
    "    guitar_tag=driver.find_elements_by_xpath('//span[@class=\"a-price-whole\"]')\n",
    "except NoSuchElementException as e:\n",
    "    print('Type of Error:',e)\n",
    "for x in guitar_tag:\n",
    "    guitar_price.append(x.text)\n",
    "time.sleep(5)\n",
    "guitar_price.insert(25,'-')\n",
    "time.sleep(5)\n",
    "guitar_price.insert(51,'-')"
   ]
  },
  {
   "cell_type": "code",
   "execution_count": 55,
   "id": "616c9053",
   "metadata": {},
   "outputs": [],
   "source": [
    "guitar_delivery=[]\n",
    "try:\n",
    "    guitar_tag=driver.find_elements_by_xpath('//span[@class=\"a-color-secondary\"]')\n",
    "except NoSuchElementException as e:\n",
    "    print('Type of Error:',e)\n",
    "for x in guitar_tag:\n",
    "    guitar_delivery.append(x.text)\n",
    "time.sleep(5)\n",
    "guitar_delivery.insert(20,'-')\n",
    "time.sleep(5)\n",
    "guitar_delivery.insert(25,'-')\n",
    "time.sleep(5)\n",
    "guitar_delivery.insert(51,'-')"
   ]
  },
  {
   "cell_type": "code",
   "execution_count": 63,
   "id": "726def17",
   "metadata": {},
   "outputs": [],
   "source": [
    "next_page=driver.find_element_by_xpath('/html/body/div[1]/div[2]/div[1]/div[1]/div/span[3]/div[2]/div[64]/div/div/span/a[1]')\n",
    "next_page.click()"
   ]
  },
  {
   "cell_type": "code",
   "execution_count": 65,
   "id": "8788d621",
   "metadata": {},
   "outputs": [],
   "source": [
    "guitar_tag=driver.find_elements_by_xpath('//span[@class=\"a-size-base-plus a-color-base a-text-normal\"]')\n",
    "for x in guitar_tag:\n",
    "    guitar_name.append(x.text)\n",
    "time.sleep(5)"
   ]
  },
  {
   "cell_type": "code",
   "execution_count": 67,
   "id": "965cc905",
   "metadata": {},
   "outputs": [],
   "source": [
    "guitar_tag=driver.find_elements_by_xpath('//span[@class=\"a-price-whole\"]')\n",
    "for x in guitar_tag:\n",
    "    guitar_price.append(x.text)\n",
    "time.sleep(5)\n",
    "guitar_price.insert(93,'-')"
   ]
  },
  {
   "cell_type": "code",
   "execution_count": 69,
   "id": "94dc3079",
   "metadata": {},
   "outputs": [
    {
     "data": {
      "text/plain": [
       "'Thursday, June 2'"
      ]
     },
     "execution_count": 69,
     "metadata": {},
     "output_type": "execute_result"
    }
   ],
   "source": [
    "guitar_tag=driver.find_elements_by_xpath('//span[@class=\"a-color-secondary\"]')\n",
    "for x in guitar_tag:\n",
    "    guitar_delivery.append(x.text)\n",
    "time.sleep(5)\n",
    "guitar_delivery.insert(62,'-')\n",
    "time.sleep(5)\n",
    "guitar_delivery.insert(79,'-')\n",
    "time.sleep(5)\n",
    "guitar_delivery.insert(90,'-')\n",
    "time.sleep(5)\n",
    "guitar_delivery.insert(93,'-')\n",
    "time.sleep(5)\n",
    "\n",
    "#In this 117 index Item there are two dates so drop 1 date\n",
    "guitar_delivery.pop(117)"
   ]
  },
  {
   "cell_type": "code",
   "execution_count": 78,
   "id": "2d274073",
   "metadata": {},
   "outputs": [
    {
     "name": "stdout",
     "output_type": "stream",
     "text": [
      "120 120 120\n"
     ]
    }
   ],
   "source": [
    "print(len(guitar_name),len(guitar_price),len(guitar_delivery))"
   ]
  },
  {
   "cell_type": "code",
   "execution_count": 79,
   "id": "2d1bc46e",
   "metadata": {},
   "outputs": [],
   "source": [
    "#create dataframe\n",
    "df=pd.DataFrame()\n",
    "df['Guitar Name']=guitar_name\n",
    "df['Guitar Price']=guitar_price\n",
    "df['Guitar Delivery Date']=guitar_delivery"
   ]
  },
  {
   "cell_type": "code",
   "execution_count": 80,
   "id": "81e6adbc",
   "metadata": {},
   "outputs": [
    {
     "data": {
      "text/html": [
       "<div>\n",
       "<style scoped>\n",
       "    .dataframe tbody tr th:only-of-type {\n",
       "        vertical-align: middle;\n",
       "    }\n",
       "\n",
       "    .dataframe tbody tr th {\n",
       "        vertical-align: top;\n",
       "    }\n",
       "\n",
       "    .dataframe thead th {\n",
       "        text-align: right;\n",
       "    }\n",
       "</style>\n",
       "<table border=\"1\" class=\"dataframe\">\n",
       "  <thead>\n",
       "    <tr style=\"text-align: right;\">\n",
       "      <th></th>\n",
       "      <th>Guitar Name</th>\n",
       "      <th>Guitar Price</th>\n",
       "      <th>Guitar Delivery Date</th>\n",
       "    </tr>\n",
       "  </thead>\n",
       "  <tbody>\n",
       "    <tr>\n",
       "      <th>0</th>\n",
       "      <td>Medellin carbn fiber guitar 38inch (BROWN)</td>\n",
       "      <td>2,499</td>\n",
       "      <td>Monday, May 23</td>\n",
       "    </tr>\n",
       "    <tr>\n",
       "      <th>1</th>\n",
       "      <td>Kadence Frontier guitar with Online Guitar lea...</td>\n",
       "      <td>5,399</td>\n",
       "      <td>Tomorrow, May 22</td>\n",
       "    </tr>\n",
       "    <tr>\n",
       "      <th>2</th>\n",
       "      <td>Kadence Frontier Jumbo Semi Acoustic Guitar Wi...</td>\n",
       "      <td>7,348</td>\n",
       "      <td>Monday, May 23</td>\n",
       "    </tr>\n",
       "    <tr>\n",
       "      <th>3</th>\n",
       "      <td>Vault Traveller 34 Inch Acoustic Guitar With B...</td>\n",
       "      <td>3,799</td>\n",
       "      <td>Wednesday, May 25</td>\n",
       "    </tr>\n",
       "    <tr>\n",
       "      <th>4</th>\n",
       "      <td>Intern INT-38C Acoustic Guitar Kit, With Bag, ...</td>\n",
       "      <td>3,053</td>\n",
       "      <td>Tomorrow, May 22</td>\n",
       "    </tr>\n",
       "    <tr>\n",
       "      <th>...</th>\n",
       "      <td>...</td>\n",
       "      <td>...</td>\n",
       "      <td>...</td>\n",
       "    </tr>\n",
       "    <tr>\n",
       "      <th>115</th>\n",
       "      <td>Granada, Acoustic Guitar, Dreadnought PRLD-14C...</td>\n",
       "      <td>6,014</td>\n",
       "      <td>Tomorrow, May 22</td>\n",
       "    </tr>\n",
       "    <tr>\n",
       "      <th>116</th>\n",
       "      <td>HOMME STORE 4 String Guitar Kids Brown Plastic...</td>\n",
       "      <td>899</td>\n",
       "      <td>Friday, May 27</td>\n",
       "    </tr>\n",
       "    <tr>\n",
       "      <th>117</th>\n",
       "      <td>Festra R-40- Trussrod Acoustic Guitar Kit with...</td>\n",
       "      <td>4,080</td>\n",
       "      <td>Thursday, May 26</td>\n",
       "    </tr>\n",
       "    <tr>\n",
       "      <th>118</th>\n",
       "      <td>SHARE BY Blueberry R-40- Trussrod Acoustic Gui...</td>\n",
       "      <td>3,990</td>\n",
       "      <td>Thursday, May 26</td>\n",
       "    </tr>\n",
       "    <tr>\n",
       "      <th>119</th>\n",
       "      <td>Blueberry B-40, 40\" Acoustic Guitar Kit with B...</td>\n",
       "      <td>4,190</td>\n",
       "      <td>Thursday, May 26</td>\n",
       "    </tr>\n",
       "  </tbody>\n",
       "</table>\n",
       "<p>120 rows × 3 columns</p>\n",
       "</div>"
      ],
      "text/plain": [
       "                                           Guitar Name Guitar Price  \\\n",
       "0           Medellin carbn fiber guitar 38inch (BROWN)        2,499   \n",
       "1    Kadence Frontier guitar with Online Guitar lea...        5,399   \n",
       "2    Kadence Frontier Jumbo Semi Acoustic Guitar Wi...        7,348   \n",
       "3    Vault Traveller 34 Inch Acoustic Guitar With B...        3,799   \n",
       "4    Intern INT-38C Acoustic Guitar Kit, With Bag, ...        3,053   \n",
       "..                                                 ...          ...   \n",
       "115  Granada, Acoustic Guitar, Dreadnought PRLD-14C...        6,014   \n",
       "116  HOMME STORE 4 String Guitar Kids Brown Plastic...          899   \n",
       "117  Festra R-40- Trussrod Acoustic Guitar Kit with...        4,080   \n",
       "118  SHARE BY Blueberry R-40- Trussrod Acoustic Gui...        3,990   \n",
       "119  Blueberry B-40, 40\" Acoustic Guitar Kit with B...        4,190   \n",
       "\n",
       "    Guitar Delivery Date  \n",
       "0         Monday, May 23  \n",
       "1       Tomorrow, May 22  \n",
       "2         Monday, May 23  \n",
       "3      Wednesday, May 25  \n",
       "4       Tomorrow, May 22  \n",
       "..                   ...  \n",
       "115     Tomorrow, May 22  \n",
       "116       Friday, May 27  \n",
       "117     Thursday, May 26  \n",
       "118     Thursday, May 26  \n",
       "119     Thursday, May 26  \n",
       "\n",
       "[120 rows x 3 columns]"
      ]
     },
     "execution_count": 80,
     "metadata": {},
     "output_type": "execute_result"
    }
   ],
   "source": [
    "df"
   ]
  },
  {
   "cell_type": "code",
   "execution_count": 81,
   "id": "f34a105d",
   "metadata": {},
   "outputs": [],
   "source": [
    "#save as CSV file\n",
    "df.to_csv('guitar.csv')"
   ]
  },
  {
   "cell_type": "code",
   "execution_count": 82,
   "id": "1ff2d501",
   "metadata": {},
   "outputs": [],
   "source": [
    "driver.close()"
   ]
  },
  {
   "cell_type": "markdown",
   "id": "7b13bffd",
   "metadata": {},
   "source": [
    "### 3. Write a python program to access the search bar and search button on https://images.google.com/ and scrape 10 images each for keywords ‘fruits’, ‘cars’ and ‘Machine Learning’, ‘Guitar’, ‘Cakes’. "
   ]
  },
  {
   "cell_type": "code",
   "execution_count": 112,
   "id": "de3b5d48",
   "metadata": {},
   "outputs": [],
   "source": [
    "import os\n",
    "import selenium\n",
    "from selenium import webdriver\n",
    "import time\n",
    "from PIL import Image\n",
    "import io\n",
    "import requests\n",
    "from webdriver_manager.chrome import ChromeDriverManager\n",
    "from selenium.common.exceptions import ElementClickInterceptedException"
   ]
  },
  {
   "cell_type": "markdown",
   "id": "4f94a041",
   "metadata": {},
   "source": [
    "### 1.Fruits"
   ]
  },
  {
   "cell_type": "code",
   "execution_count": 142,
   "id": "db96f34d",
   "metadata": {},
   "outputs": [],
   "source": [
    "#Open Driver\n",
    "driver = webdriver.Chrome(r\"C:\\Users\\dell\\Downloads\\chromedriver_win32\\chromedriver.exe\")\n",
    "#open driver with url\n",
    "driver.get('https://images.google.com/')"
   ]
  },
  {
   "cell_type": "code",
   "execution_count": 145,
   "id": "c4ccdaf1",
   "metadata": {},
   "outputs": [
    {
     "name": "stdout",
     "output_type": "stream",
     "text": [
      "Enter Name:-fruits\n"
     ]
    }
   ],
   "source": [
    "#input bar\n",
    "search_bar=driver.find_element_by_xpath('/html/body/div[1]/div[3]/form/div[1]/div[1]/div[1]/div/div[2]/input')\n",
    "search_bar.send_keys(input(\"Enter Name:-\"))\n",
    "#search bar\n",
    "click_bar=driver.find_element_by_xpath('/html/body/div[1]/div[3]/form/div[1]/div[1]/div[1]/button')\n",
    "click_bar.click()"
   ]
  },
  {
   "cell_type": "code",
   "execution_count": 146,
   "id": "148be983",
   "metadata": {},
   "outputs": [],
   "source": [
    "#Scroll to the end of the page\n",
    "driver.execute_script(\"window.scrollTo(0, document.body.scrollHeight);\")\n",
    "time.sleep(5)#sleep_between_interactions"
   ]
  },
  {
   "cell_type": "code",
   "execution_count": 149,
   "id": "24a53a93",
   "metadata": {},
   "outputs": [],
   "source": [
    "#Locate the images to be scraped from the current page \n",
    "imgResults = driver.find_elements_by_xpath(\"//img[contains(@class,'Q4LuWd')]\")\n",
    "totalResults=len(imgResults)"
   ]
  },
  {
   "cell_type": "code",
   "execution_count": 150,
   "id": "945f6d8b",
   "metadata": {},
   "outputs": [
    {
     "data": {
      "text/plain": [
       "112"
      ]
     },
     "execution_count": 150,
     "metadata": {},
     "output_type": "execute_result"
    }
   ],
   "source": [
    "totalResults"
   ]
  },
  {
   "cell_type": "code",
   "execution_count": 152,
   "id": "c89cd564",
   "metadata": {},
   "outputs": [
    {
     "name": "stdout",
     "output_type": "stream",
     "text": [
      "Message: element click intercepted: Element <img src=\"data:image/jpeg;base64,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\" data-deferred=\"1\" class=\"rg_i Q4LuWd\" jsname=\"Q4LuWd\" width=\"275\" height=\"184\" alt=\"25 Healthiest Fruits You Can Eat - Best Fruits to Eat Daily\" data-iml=\"3632.699999809265\" data-atf=\"true\"> is not clickable at point (176, 92). Other element would receive the click: <img src=\"data:image/jpeg;base64,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\" data-deferred=\"1\" alt=\"\" class=\"rHLoR\" width=\"48\" height=\"48\" data-iml=\"3359.699999809265\" data-atf=\"true\">\n",
      "  (Session info: chrome=101.0.4951.54)\n",
      "Stacktrace:\n",
      "Backtrace:\n",
      "\tOrdinal0 [0x004E7413+2389011]\n",
      "\tOrdinal0 [0x00479F61+1941345]\n",
      "\tOrdinal0 [0x0036C658+837208]\n",
      "\tOrdinal0 [0x0039F8AF+1046703]\n",
      "\tOrdinal0 [0x0039D8D6+1038550]\n",
      "\tOrdinal0 [0x0039B5EB+1029611]\n",
      "\tOrdinal0 [0x0039A359+1024857]\n",
      "\tOrdinal0 [0x0038FF93+982931]\n",
      "\tOrdinal0 [0x003B414C+1130828]\n",
      "\tOrdinal0 [0x0038F974+981364]\n",
      "\tOrdinal0 [0x003B4364+1131364]\n",
      "\tOrdinal0 [0x003C4302+1196802]\n",
      "\tOrdinal0 [0x003B3F66+1130342]\n",
      "\tOrdinal0 [0x0038E546+976198]\n",
      "\tOrdinal0 [0x0038F456+980054]\n",
      "\tGetHandleVerifier [0x00699632+1727522]\n",
      "\tGetHandleVerifier [0x0074BA4D+2457661]\n",
      "\tGetHandleVerifier [0x0057EB81+569713]\n",
      "\tGetHandleVerifier [0x0057DD76+566118]\n",
      "\tOrdinal0 [0x00480B2B+1968939]\n",
      "\tOrdinal0 [0x00485988+1989000]\n",
      "\tOrdinal0 [0x00485A75+1989237]\n",
      "\tOrdinal0 [0x0048ECB1+2026673]\n",
      "\tBaseThreadInitThunk [0x76506359+25]\n",
      "\tRtlGetAppContainerNamedObjectPath [0x77977B74+228]\n",
      "\tRtlGetAppContainerNamedObjectPath [0x77977B44+180]\n",
      "\n",
      "Message: element click intercepted: Element <img src=\"data:image/jpeg;base64,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\" data-deferred=\"1\" class=\"rg_i Q4LuWd\" jsname=\"Q4LuWd\" width=\"123\" height=\"180\" alt=\"Pin on English\" data-iml=\"3633.199999809265\" data-atf=\"true\"> is not clickable at point (444, 92). Other element would receive the click: <img src=\"data:image/jpeg;base64,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\" data-deferred=\"1\" alt=\"\" class=\"rHLoR\" width=\"48\" height=\"48\" data-iml=\"3631.5\" data-atf=\"true\">\n",
      "  (Session info: chrome=101.0.4951.54)\n",
      "Stacktrace:\n",
      "Backtrace:\n",
      "\tOrdinal0 [0x004E7413+2389011]\n",
      "\tOrdinal0 [0x00479F61+1941345]\n",
      "\tOrdinal0 [0x0036C658+837208]\n",
      "\tOrdinal0 [0x0039F8AF+1046703]\n",
      "\tOrdinal0 [0x0039D8D6+1038550]\n",
      "\tOrdinal0 [0x0039B5EB+1029611]\n",
      "\tOrdinal0 [0x0039A359+1024857]\n",
      "\tOrdinal0 [0x0038FF93+982931]\n",
      "\tOrdinal0 [0x003B414C+1130828]\n",
      "\tOrdinal0 [0x0038F974+981364]\n",
      "\tOrdinal0 [0x003B4364+1131364]\n",
      "\tOrdinal0 [0x003C4302+1196802]\n",
      "\tOrdinal0 [0x003B3F66+1130342]\n",
      "\tOrdinal0 [0x0038E546+976198]\n",
      "\tOrdinal0 [0x0038F456+980054]\n",
      "\tGetHandleVerifier [0x00699632+1727522]\n",
      "\tGetHandleVerifier [0x0074BA4D+2457661]\n",
      "\tGetHandleVerifier [0x0057EB81+569713]\n",
      "\tGetHandleVerifier [0x0057DD76+566118]\n",
      "\tOrdinal0 [0x00480B2B+1968939]\n",
      "\tOrdinal0 [0x00485988+1989000]\n",
      "\tOrdinal0 [0x00485A75+1989237]\n",
      "\tOrdinal0 [0x0048ECB1+2026673]\n",
      "\tBaseThreadInitThunk [0x76506359+25]\n",
      "\tRtlGetAppContainerNamedObjectPath [0x77977B74+228]\n",
      "\tRtlGetAppContainerNamedObjectPath [0x77977B44+180]\n",
      "\n",
      "Message: element click intercepted: Element <img src=\"data:image/jpeg;base64,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\" data-deferred=\"1\" class=\"rg_i Q4LuWd\" jsname=\"Q4LuWd\" width=\"129\" height=\"180\" alt=\"Buy Fruits Chart (50 x 70 cm) Book Online at Amazon | Fruits Chart (50 x 70  cm) Reviews &amp; Ratings\" data-iml=\"3633.399999856949\" data-atf=\"true\"> is not clickable at point (647, 92). Other element would receive the click: <a href=\"/search?q=fruits&amp;tbm=isch&amp;chips=q:fruits,g_1:wallpaper:gCm2oh7Rxp8%3D&amp;bih=612&amp;biw=811&amp;hl=en-US&amp;sa=X&amp;ved=2ahUKEwjip_TVs_L3AhXvrmMGHa9eAHgQ4lYoBHoECAEQIw\" data-navigation=\"server\" jslog=\"11106\" aria-label=\"wallpaper\" class=\"ZZ7G7b A6Smgb\">...</a>\n",
      "  (Session info: chrome=101.0.4951.54)\n",
      "Stacktrace:\n",
      "Backtrace:\n",
      "\tOrdinal0 [0x004E7413+2389011]\n",
      "\tOrdinal0 [0x00479F61+1941345]\n",
      "\tOrdinal0 [0x0036C658+837208]\n",
      "\tOrdinal0 [0x0039F8AF+1046703]\n",
      "\tOrdinal0 [0x0039D8D6+1038550]\n",
      "\tOrdinal0 [0x0039B5EB+1029611]\n",
      "\tOrdinal0 [0x0039A359+1024857]\n",
      "\tOrdinal0 [0x0038FF93+982931]\n",
      "\tOrdinal0 [0x003B414C+1130828]\n",
      "\tOrdinal0 [0x0038F974+981364]\n",
      "\tOrdinal0 [0x003B4364+1131364]\n",
      "\tOrdinal0 [0x003C4302+1196802]\n",
      "\tOrdinal0 [0x003B3F66+1130342]\n",
      "\tOrdinal0 [0x0038E546+976198]\n",
      "\tOrdinal0 [0x0038F456+980054]\n",
      "\tGetHandleVerifier [0x00699632+1727522]\n",
      "\tGetHandleVerifier [0x0074BA4D+2457661]\n",
      "\tGetHandleVerifier [0x0057EB81+569713]\n",
      "\tGetHandleVerifier [0x0057DD76+566118]\n",
      "\tOrdinal0 [0x00480B2B+1968939]\n",
      "\tOrdinal0 [0x00485988+1989000]\n",
      "\tOrdinal0 [0x00485A75+1989237]\n",
      "\tOrdinal0 [0x0048ECB1+2026673]\n",
      "\tBaseThreadInitThunk [0x76506359+25]\n",
      "\tRtlGetAppContainerNamedObjectPath [0x77977B74+228]\n",
      "\tRtlGetAppContainerNamedObjectPath [0x77977B44+180]\n",
      "\n"
     ]
    },
    {
     "ename": "StaleElementReferenceException",
     "evalue": "Message: stale element reference: element is not attached to the page document\n  (Session info: chrome=101.0.4951.54)\nStacktrace:\nBacktrace:\n\tOrdinal0 [0x004E7413+2389011]\n\tOrdinal0 [0x00479F61+1941345]\n\tOrdinal0 [0x0036C658+837208]\n\tOrdinal0 [0x0036F064+847972]\n\tOrdinal0 [0x0036EF22+847650]\n\tOrdinal0 [0x0036F1B0+848304]\n\tOrdinal0 [0x0039ABD9+1027033]\n\tOrdinal0 [0x0038FEB6+982710]\n\tOrdinal0 [0x003B414C+1130828]\n\tOrdinal0 [0x0038F974+981364]\n\tOrdinal0 [0x003B4364+1131364]\n\tOrdinal0 [0x003C4302+1196802]\n\tOrdinal0 [0x003B3F66+1130342]\n\tOrdinal0 [0x0038E546+976198]\n\tOrdinal0 [0x0038F456+980054]\n\tGetHandleVerifier [0x00699632+1727522]\n\tGetHandleVerifier [0x0074BA4D+2457661]\n\tGetHandleVerifier [0x0057EB81+569713]\n\tGetHandleVerifier [0x0057DD76+566118]\n\tOrdinal0 [0x00480B2B+1968939]\n\tOrdinal0 [0x00485988+1989000]\n\tOrdinal0 [0x00485A75+1989237]\n\tOrdinal0 [0x0048ECB1+2026673]\n\tBaseThreadInitThunk [0x76506359+25]\n\tRtlGetAppContainerNamedObjectPath [0x77977B74+228]\n\tRtlGetAppContainerNamedObjectPath [0x77977B44+180]\n",
     "output_type": "error",
     "traceback": [
      "\u001b[1;31m---------------------------------------------------------------------------\u001b[0m",
      "\u001b[1;31mStaleElementReferenceException\u001b[0m            Traceback (most recent call last)",
      "\u001b[1;32m<ipython-input-152-641bada2f5c3>\u001b[0m in \u001b[0;36m<module>\u001b[1;34m\u001b[0m\n\u001b[0;32m      5\u001b[0m     \u001b[0mimg\u001b[0m\u001b[1;33m=\u001b[0m\u001b[0mimgResults\u001b[0m\u001b[1;33m[\u001b[0m\u001b[0mi\u001b[0m\u001b[1;33m]\u001b[0m\u001b[1;33m\u001b[0m\u001b[1;33m\u001b[0m\u001b[0m\n\u001b[0;32m      6\u001b[0m     \u001b[1;32mtry\u001b[0m\u001b[1;33m:\u001b[0m\u001b[1;33m\u001b[0m\u001b[1;33m\u001b[0m\u001b[0m\n\u001b[1;32m----> 7\u001b[1;33m         \u001b[0mimg\u001b[0m\u001b[1;33m.\u001b[0m\u001b[0mclick\u001b[0m\u001b[1;33m(\u001b[0m\u001b[1;33m)\u001b[0m\u001b[1;33m\u001b[0m\u001b[1;33m\u001b[0m\u001b[0m\n\u001b[0m\u001b[0;32m      8\u001b[0m         \u001b[0mtime\u001b[0m\u001b[1;33m.\u001b[0m\u001b[0msleep\u001b[0m\u001b[1;33m(\u001b[0m\u001b[1;36m2\u001b[0m\u001b[1;33m)\u001b[0m\u001b[1;33m\u001b[0m\u001b[1;33m\u001b[0m\u001b[0m\n\u001b[0;32m      9\u001b[0m         \u001b[0mactual_images\u001b[0m \u001b[1;33m=\u001b[0m \u001b[0mdriver\u001b[0m\u001b[1;33m.\u001b[0m\u001b[0mfind_elements_by_css_selector\u001b[0m\u001b[1;33m(\u001b[0m\u001b[1;34m'img.n3VNCb'\u001b[0m\u001b[1;33m)\u001b[0m\u001b[1;33m\u001b[0m\u001b[1;33m\u001b[0m\u001b[0m\n",
      "\u001b[1;32m~\\anaconda3\\lib\\site-packages\\selenium\\webdriver\\remote\\webelement.py\u001b[0m in \u001b[0;36mclick\u001b[1;34m(self)\u001b[0m\n\u001b[0;32m     79\u001b[0m     \u001b[1;32mdef\u001b[0m \u001b[0mclick\u001b[0m\u001b[1;33m(\u001b[0m\u001b[0mself\u001b[0m\u001b[1;33m)\u001b[0m \u001b[1;33m->\u001b[0m \u001b[1;32mNone\u001b[0m\u001b[1;33m:\u001b[0m\u001b[1;33m\u001b[0m\u001b[1;33m\u001b[0m\u001b[0m\n\u001b[0;32m     80\u001b[0m         \u001b[1;34m\"\"\"Clicks the element.\"\"\"\u001b[0m\u001b[1;33m\u001b[0m\u001b[1;33m\u001b[0m\u001b[0m\n\u001b[1;32m---> 81\u001b[1;33m         \u001b[0mself\u001b[0m\u001b[1;33m.\u001b[0m\u001b[0m_execute\u001b[0m\u001b[1;33m(\u001b[0m\u001b[0mCommand\u001b[0m\u001b[1;33m.\u001b[0m\u001b[0mCLICK_ELEMENT\u001b[0m\u001b[1;33m)\u001b[0m\u001b[1;33m\u001b[0m\u001b[1;33m\u001b[0m\u001b[0m\n\u001b[0m\u001b[0;32m     82\u001b[0m \u001b[1;33m\u001b[0m\u001b[0m\n\u001b[0;32m     83\u001b[0m     \u001b[1;32mdef\u001b[0m \u001b[0msubmit\u001b[0m\u001b[1;33m(\u001b[0m\u001b[0mself\u001b[0m\u001b[1;33m)\u001b[0m\u001b[1;33m:\u001b[0m\u001b[1;33m\u001b[0m\u001b[1;33m\u001b[0m\u001b[0m\n",
      "\u001b[1;32m~\\anaconda3\\lib\\site-packages\\selenium\\webdriver\\remote\\webelement.py\u001b[0m in \u001b[0;36m_execute\u001b[1;34m(self, command, params)\u001b[0m\n\u001b[0;32m    708\u001b[0m             \u001b[0mparams\u001b[0m \u001b[1;33m=\u001b[0m \u001b[1;33m{\u001b[0m\u001b[1;33m}\u001b[0m\u001b[1;33m\u001b[0m\u001b[1;33m\u001b[0m\u001b[0m\n\u001b[0;32m    709\u001b[0m         \u001b[0mparams\u001b[0m\u001b[1;33m[\u001b[0m\u001b[1;34m'id'\u001b[0m\u001b[1;33m]\u001b[0m \u001b[1;33m=\u001b[0m \u001b[0mself\u001b[0m\u001b[1;33m.\u001b[0m\u001b[0m_id\u001b[0m\u001b[1;33m\u001b[0m\u001b[1;33m\u001b[0m\u001b[0m\n\u001b[1;32m--> 710\u001b[1;33m         \u001b[1;32mreturn\u001b[0m \u001b[0mself\u001b[0m\u001b[1;33m.\u001b[0m\u001b[0m_parent\u001b[0m\u001b[1;33m.\u001b[0m\u001b[0mexecute\u001b[0m\u001b[1;33m(\u001b[0m\u001b[0mcommand\u001b[0m\u001b[1;33m,\u001b[0m \u001b[0mparams\u001b[0m\u001b[1;33m)\u001b[0m\u001b[1;33m\u001b[0m\u001b[1;33m\u001b[0m\u001b[0m\n\u001b[0m\u001b[0;32m    711\u001b[0m \u001b[1;33m\u001b[0m\u001b[0m\n\u001b[0;32m    712\u001b[0m     \u001b[1;32mdef\u001b[0m \u001b[0mfind_element\u001b[0m\u001b[1;33m(\u001b[0m\u001b[0mself\u001b[0m\u001b[1;33m,\u001b[0m \u001b[0mby\u001b[0m\u001b[1;33m=\u001b[0m\u001b[0mBy\u001b[0m\u001b[1;33m.\u001b[0m\u001b[0mID\u001b[0m\u001b[1;33m,\u001b[0m \u001b[0mvalue\u001b[0m\u001b[1;33m=\u001b[0m\u001b[1;32mNone\u001b[0m\u001b[1;33m)\u001b[0m\u001b[1;33m:\u001b[0m\u001b[1;33m\u001b[0m\u001b[1;33m\u001b[0m\u001b[0m\n",
      "\u001b[1;32m~\\anaconda3\\lib\\site-packages\\selenium\\webdriver\\remote\\webdriver.py\u001b[0m in \u001b[0;36mexecute\u001b[1;34m(self, driver_command, params)\u001b[0m\n\u001b[0;32m    423\u001b[0m         \u001b[1;32mif\u001b[0m \u001b[0mresponse\u001b[0m\u001b[1;33m:\u001b[0m\u001b[1;33m\u001b[0m\u001b[1;33m\u001b[0m\u001b[0m\n\u001b[0;32m    424\u001b[0m             \u001b[0mself\u001b[0m\u001b[1;33m.\u001b[0m\u001b[0merror_handler\u001b[0m\u001b[1;33m.\u001b[0m\u001b[0mcheck_response\u001b[0m\u001b[1;33m(\u001b[0m\u001b[0mresponse\u001b[0m\u001b[1;33m)\u001b[0m\u001b[1;33m\u001b[0m\u001b[1;33m\u001b[0m\u001b[0m\n\u001b[1;32m--> 425\u001b[1;33m             response['value'] = self._unwrap_value(\n\u001b[0m\u001b[0;32m    426\u001b[0m                 response.get('value', None))\n\u001b[0;32m    427\u001b[0m             \u001b[1;32mreturn\u001b[0m \u001b[0mresponse\u001b[0m\u001b[1;33m\u001b[0m\u001b[1;33m\u001b[0m\u001b[0m\n",
      "\u001b[1;32m~\\anaconda3\\lib\\site-packages\\selenium\\webdriver\\remote\\errorhandler.py\u001b[0m in \u001b[0;36mcheck_response\u001b[1;34m(self, response)\u001b[0m\n\u001b[0;32m    245\u001b[0m                 \u001b[0malert_text\u001b[0m \u001b[1;33m=\u001b[0m \u001b[0mvalue\u001b[0m\u001b[1;33m[\u001b[0m\u001b[1;34m'alert'\u001b[0m\u001b[1;33m]\u001b[0m\u001b[1;33m.\u001b[0m\u001b[0mget\u001b[0m\u001b[1;33m(\u001b[0m\u001b[1;34m'text'\u001b[0m\u001b[1;33m)\u001b[0m\u001b[1;33m\u001b[0m\u001b[1;33m\u001b[0m\u001b[0m\n\u001b[0;32m    246\u001b[0m             \u001b[1;32mraise\u001b[0m \u001b[0mexception_class\u001b[0m\u001b[1;33m(\u001b[0m\u001b[0mmessage\u001b[0m\u001b[1;33m,\u001b[0m \u001b[0mscreen\u001b[0m\u001b[1;33m,\u001b[0m \u001b[0mstacktrace\u001b[0m\u001b[1;33m,\u001b[0m \u001b[0malert_text\u001b[0m\u001b[1;33m)\u001b[0m  \u001b[1;31m# type: ignore[call-arg]  # mypy is not smart enough here\u001b[0m\u001b[1;33m\u001b[0m\u001b[1;33m\u001b[0m\u001b[0m\n\u001b[1;32m--> 247\u001b[1;33m         \u001b[1;32mraise\u001b[0m \u001b[0mexception_class\u001b[0m\u001b[1;33m(\u001b[0m\u001b[0mmessage\u001b[0m\u001b[1;33m,\u001b[0m \u001b[0mscreen\u001b[0m\u001b[1;33m,\u001b[0m \u001b[0mstacktrace\u001b[0m\u001b[1;33m)\u001b[0m\u001b[1;33m\u001b[0m\u001b[1;33m\u001b[0m\u001b[0m\n\u001b[0m\u001b[0;32m    248\u001b[0m \u001b[1;33m\u001b[0m\u001b[0m\n\u001b[0;32m    249\u001b[0m     \u001b[1;32mdef\u001b[0m \u001b[0m_value_or_default\u001b[0m\u001b[1;33m(\u001b[0m\u001b[0mself\u001b[0m\u001b[1;33m,\u001b[0m \u001b[0mobj\u001b[0m\u001b[1;33m:\u001b[0m \u001b[0mMapping\u001b[0m\u001b[1;33m[\u001b[0m\u001b[0m_KT\u001b[0m\u001b[1;33m,\u001b[0m \u001b[0m_VT\u001b[0m\u001b[1;33m]\u001b[0m\u001b[1;33m,\u001b[0m \u001b[0mkey\u001b[0m\u001b[1;33m:\u001b[0m \u001b[0m_KT\u001b[0m\u001b[1;33m,\u001b[0m \u001b[0mdefault\u001b[0m\u001b[1;33m:\u001b[0m \u001b[0m_VT\u001b[0m\u001b[1;33m)\u001b[0m \u001b[1;33m->\u001b[0m \u001b[0m_VT\u001b[0m\u001b[1;33m:\u001b[0m\u001b[1;33m\u001b[0m\u001b[1;33m\u001b[0m\u001b[0m\n",
      "\u001b[1;31mStaleElementReferenceException\u001b[0m: Message: stale element reference: element is not attached to the page document\n  (Session info: chrome=101.0.4951.54)\nStacktrace:\nBacktrace:\n\tOrdinal0 [0x004E7413+2389011]\n\tOrdinal0 [0x00479F61+1941345]\n\tOrdinal0 [0x0036C658+837208]\n\tOrdinal0 [0x0036F064+847972]\n\tOrdinal0 [0x0036EF22+847650]\n\tOrdinal0 [0x0036F1B0+848304]\n\tOrdinal0 [0x0039ABD9+1027033]\n\tOrdinal0 [0x0038FEB6+982710]\n\tOrdinal0 [0x003B414C+1130828]\n\tOrdinal0 [0x0038F974+981364]\n\tOrdinal0 [0x003B4364+1131364]\n\tOrdinal0 [0x003C4302+1196802]\n\tOrdinal0 [0x003B3F66+1130342]\n\tOrdinal0 [0x0038E546+976198]\n\tOrdinal0 [0x0038F456+980054]\n\tGetHandleVerifier [0x00699632+1727522]\n\tGetHandleVerifier [0x0074BA4D+2457661]\n\tGetHandleVerifier [0x0057EB81+569713]\n\tGetHandleVerifier [0x0057DD76+566118]\n\tOrdinal0 [0x00480B2B+1968939]\n\tOrdinal0 [0x00485988+1989000]\n\tOrdinal0 [0x00485A75+1989237]\n\tOrdinal0 [0x0048ECB1+2026673]\n\tBaseThreadInitThunk [0x76506359+25]\n\tRtlGetAppContainerNamedObjectPath [0x77977B74+228]\n\tRtlGetAppContainerNamedObjectPath [0x77977B44+180]\n"
     ]
    }
   ],
   "source": [
    "#Click on each Image to extract its corresponding link to download\n",
    "\n",
    "img_urls = set()\n",
    "for i in  range(0,len(imgResults)):\n",
    "    img=imgResults[i]\n",
    "    try:\n",
    "        img.click()\n",
    "        time.sleep(2)\n",
    "        actual_images = driver.find_elements_by_css_selector('img.n3VNCb')\n",
    "        for actual_image in actual_images:\n",
    "            if actual_image.get_attribute('src') and 'https' in actual_image.get_attribute('src'):\n",
    "                img_urls.add(actual_image.get_attribute('src'))\n",
    "    except ElementClickInterceptedException or ElementNotInteractableException as err:\n",
    "        print(err)"
   ]
  },
  {
   "cell_type": "code",
   "execution_count": 153,
   "id": "171a8876",
   "metadata": {},
   "outputs": [
    {
     "data": {
      "text/plain": [
       "{'https://blog-images.pharmeasy.in/2019/05/16193111/fruit.jpg',\n",
       " 'https://c.ndtvimg.com/2019-07/peorfu68_fruits_625x300_12_July_19.jpg?im=Resize=(1230,900)',\n",
       " 'https://cdn-prod.medicalnewstoday.com/content/images/articles/324/324431/healthiest-fruits-lemons.jpg',\n",
       " 'https://cdn.cliqueinc.com/posts/281986/fruits-that-are-high-in-sugar-281986-1566362157324-main.700x0c.jpg',\n",
       " 'https://cdn.mos.cms.futurecdn.net/HonUfGsYQvNLbajxrNU2pL-1200-80.jpg',\n",
       " 'https://cdn.siasat.com/wp-content/uploads/2020/08/fruittdd.jpg',\n",
       " 'https://encrypted-tbn0.gstatic.com/images?q=tbn:ANd9GcQ2lfeQWiZqbnKPyLV3RdC_l6nP_ughC7Nr9Q&usqp=CAU',\n",
       " 'https://encrypted-tbn0.gstatic.com/images?q=tbn:ANd9GcQ5-Pg5GSBXN58l0nDU_J47_jXWx0V6lPUAjQ&usqp=CAU',\n",
       " 'https://encrypted-tbn0.gstatic.com/images?q=tbn:ANd9GcQBlGgUV8U8vMNLQslkCHqFeAgIqQDVQGd8Iw&usqp=CAU',\n",
       " 'https://encrypted-tbn0.gstatic.com/images?q=tbn:ANd9GcQCWDWrDS2dNw7fTX6gReJPxqDyATaCT-JPlQ&usqp=CAU',\n",
       " 'https://encrypted-tbn0.gstatic.com/images?q=tbn:ANd9GcQKqwHDjeFdDTqaZcNGQHEsjVKWYNyfGFYA5w&usqp=CAU',\n",
       " 'https://encrypted-tbn0.gstatic.com/images?q=tbn:ANd9GcQKtjfZQQZz81S1uEyNOG4eoMEnjfL1JZJyuA&usqp=CAU',\n",
       " 'https://encrypted-tbn0.gstatic.com/images?q=tbn:ANd9GcQLX37-5j_uy9KdDtBtHHY-cm0RTSaywIrJVg&usqp=CAU',\n",
       " 'https://encrypted-tbn0.gstatic.com/images?q=tbn:ANd9GcQMHKigx3gw0px0CcyuWNW1qmEooeCt7e0VRw&usqp=CAU',\n",
       " 'https://encrypted-tbn0.gstatic.com/images?q=tbn:ANd9GcQRfsCgcFwJCPGe-lJBHItC_dJmbArrdNAeCg&usqp=CAU',\n",
       " 'https://encrypted-tbn0.gstatic.com/images?q=tbn:ANd9GcQaEvpkUpyBIu12uh1KLbE7bNOcFPitVexRaQ&usqp=CAU',\n",
       " 'https://encrypted-tbn0.gstatic.com/images?q=tbn:ANd9GcQcvstOTTMg-g9VC5FMJMfg28vtlQXkN6NeXg&usqp=CAU',\n",
       " 'https://encrypted-tbn0.gstatic.com/images?q=tbn:ANd9GcQcx5NZh_nVQ1tuazF2zlFs2R6GF9b-vgYcUg&usqp=CAU',\n",
       " 'https://encrypted-tbn0.gstatic.com/images?q=tbn:ANd9GcQdTp2Dpb9N4sdeOHsKL3naYe5rgFV2qBt0ww&usqp=CAU',\n",
       " 'https://encrypted-tbn0.gstatic.com/images?q=tbn:ANd9GcQeTOsVT6YtHLW1lujWHN_J26d0rDC5WuXUpw&usqp=CAU',\n",
       " 'https://encrypted-tbn0.gstatic.com/images?q=tbn:ANd9GcQtygSOsme_AtZ5yrjYSm1jtWS_yU-XKj3x0A&usqp=CAU',\n",
       " 'https://encrypted-tbn0.gstatic.com/images?q=tbn:ANd9GcR2A9Pch7uvfGdKgfIznLJs2dqlyZTVij4jVw&usqp=CAU',\n",
       " 'https://encrypted-tbn0.gstatic.com/images?q=tbn:ANd9GcR7un8BzZfQwmZdNO3Q9IyNGAMS9xxarVQ9Zw&usqp=CAU',\n",
       " 'https://encrypted-tbn0.gstatic.com/images?q=tbn:ANd9GcRAFt0xHiff3fl4uAzBm9kkAa36Rnq2-i1lHQ&usqp=CAU',\n",
       " 'https://encrypted-tbn0.gstatic.com/images?q=tbn:ANd9GcRBkFc8TorOi082iVCII3FTQA_8ZJ-B2xkoBg&usqp=CAU',\n",
       " 'https://encrypted-tbn0.gstatic.com/images?q=tbn:ANd9GcREf50eNWUXvnoP0sP9x8SZUILcwQHHImfm1A&usqp=CAU',\n",
       " 'https://encrypted-tbn0.gstatic.com/images?q=tbn:ANd9GcRF06Gl73e-tO46peGszUQ7iCoiGlVMrx3zEw&usqp=CAU',\n",
       " 'https://encrypted-tbn0.gstatic.com/images?q=tbn:ANd9GcRG6HQrYpBXTCjs2ezYpLNX6yya5LQZv6PP8Q&usqp=CAU',\n",
       " 'https://encrypted-tbn0.gstatic.com/images?q=tbn:ANd9GcRKenH2FouPnNmzEflVQw7s89smBvLwErxPpg&usqp=CAU',\n",
       " 'https://encrypted-tbn0.gstatic.com/images?q=tbn:ANd9GcRLGmOjds0h4v7B3h_PBTyEA0q9Ho7W4w3RgQ&usqp=CAU',\n",
       " 'https://encrypted-tbn0.gstatic.com/images?q=tbn:ANd9GcRM6HT7aNR-yygeQsGgmMSirUG8nQNSfOZrcg&usqp=CAU',\n",
       " 'https://encrypted-tbn0.gstatic.com/images?q=tbn:ANd9GcROYH-uaHxJxZllD4i4p-a6Jx_gDHTAudnBxQ&usqp=CAU',\n",
       " 'https://encrypted-tbn0.gstatic.com/images?q=tbn:ANd9GcRQhV-djjjKbnDRM1-Z36es-Xlgk2gytTqANQ&usqp=CAU',\n",
       " 'https://encrypted-tbn0.gstatic.com/images?q=tbn:ANd9GcRUNzsOBMio_vGAurU3BpYSk08dN3ZG0eOlWw&usqp=CAU',\n",
       " 'https://encrypted-tbn0.gstatic.com/images?q=tbn:ANd9GcRWk7ZH0-110K8lEiiRNFuEbQxEPHVM1quyJQ&usqp=CAU',\n",
       " 'https://encrypted-tbn0.gstatic.com/images?q=tbn:ANd9GcRYtQ7VJ12OJGHpaF21VHfF3Vu-lF_9cQ32ug&usqp=CAU',\n",
       " 'https://encrypted-tbn0.gstatic.com/images?q=tbn:ANd9GcRaeGJ_PSJlNLxm6sUANm3yiU0_G-x4-FAsmA&usqp=CAU',\n",
       " 'https://encrypted-tbn0.gstatic.com/images?q=tbn:ANd9GcRbfBeQTot9d0oXT7fOA_I2lscX1TnETlrwsg&usqp=CAU',\n",
       " 'https://encrypted-tbn0.gstatic.com/images?q=tbn:ANd9GcReNhAqNErCf9glH13blJ-fEt6x4YVzSOjTyQ&usqp=CAU',\n",
       " 'https://encrypted-tbn0.gstatic.com/images?q=tbn:ANd9GcRgogXMM1qs-tmWzZRp_GtbzFAmOKZoit52Yg&usqp=CAU',\n",
       " 'https://encrypted-tbn0.gstatic.com/images?q=tbn:ANd9GcRhHcR6ULpWGikzKCH7VRPGYoAC7YxoGeJ-IQ&usqp=CAU',\n",
       " 'https://encrypted-tbn0.gstatic.com/images?q=tbn:ANd9GcRlpFyz_ybEM4hBURodueCwUXTQNzWiuKc7nQ&usqp=CAU',\n",
       " 'https://encrypted-tbn0.gstatic.com/images?q=tbn:ANd9GcRnNMXrxDsUfuS3j09F25N1Xh_43k-mJ0LouA&usqp=CAU',\n",
       " 'https://encrypted-tbn0.gstatic.com/images?q=tbn:ANd9GcRoR1Fa0drK8ET-EEJzLYKROZojX4f-mq4LBA&usqp=CAU',\n",
       " 'https://encrypted-tbn0.gstatic.com/images?q=tbn:ANd9GcRvnXFwrk_PWtUpvJiRjp7fRFKDchw4AnG4KA&usqp=CAU',\n",
       " 'https://encrypted-tbn0.gstatic.com/images?q=tbn:ANd9GcRz2_X34ibmgT-ieSfqh_gthA0gBpYJaI-FOg&usqp=CAU',\n",
       " 'https://encrypted-tbn0.gstatic.com/images?q=tbn:ANd9GcRzvz77EAIva3gKMyKNlY341hRpSZ5rtpuNRA&usqp=CAU',\n",
       " 'https://encrypted-tbn0.gstatic.com/images?q=tbn:ANd9GcS5V6RIVQi4dFZZs9iBzziE1bdCNU8Epej0Pw&usqp=CAU',\n",
       " 'https://encrypted-tbn0.gstatic.com/images?q=tbn:ANd9GcS6mYiLNji8e8Arw0e0SypPcebdvjkmH0CsKA&usqp=CAU',\n",
       " 'https://encrypted-tbn0.gstatic.com/images?q=tbn:ANd9GcS9ugJHatsppSVSGj8dkDcyqdjFepXxfSKLJQ&usqp=CAU',\n",
       " 'https://encrypted-tbn0.gstatic.com/images?q=tbn:ANd9GcSEkcfwO4_AzHTBWbx9kY9jFcoClfmI6JZtTA&usqp=CAU',\n",
       " 'https://encrypted-tbn0.gstatic.com/images?q=tbn:ANd9GcSLVfxJco3Rj4RzJR9DP9ztWhhsV9fnQ4umCQ&usqp=CAU',\n",
       " 'https://encrypted-tbn0.gstatic.com/images?q=tbn:ANd9GcSNZLnkDolVbBOFnO0cXiN3BD8a8NzE8odcmw&usqp=CAU',\n",
       " 'https://encrypted-tbn0.gstatic.com/images?q=tbn:ANd9GcSQeG-FwVV4glgoGZR-cVTzS5Og26wIT6Hf3g&usqp=CAU',\n",
       " 'https://encrypted-tbn0.gstatic.com/images?q=tbn:ANd9GcSRsxaAqpYiLo7ldojjlVQN1YEP8zovjAXY0w&usqp=CAU',\n",
       " 'https://encrypted-tbn0.gstatic.com/images?q=tbn:ANd9GcST9jGZVmg-OjnpcB6adIYtBwLRhFBcpy1wGg&usqp=CAU',\n",
       " 'https://encrypted-tbn0.gstatic.com/images?q=tbn:ANd9GcSUaa-dtcO3mYHoBwmqX6CNZKEh9HkuCGKyLQ&usqp=CAU',\n",
       " 'https://encrypted-tbn0.gstatic.com/images?q=tbn:ANd9GcSaFTOI6NKaGzsE5FJ2FMMIw7ma-A8fzBAUqQ&usqp=CAU',\n",
       " 'https://encrypted-tbn0.gstatic.com/images?q=tbn:ANd9GcScNsyItlDyI1EElKhTmRzYCioXSNaDvYNztw&usqp=CAU',\n",
       " 'https://encrypted-tbn0.gstatic.com/images?q=tbn:ANd9GcScV5wweFASZNVFa-Syusp6cf3DC07eIAn9LQ&usqp=CAU',\n",
       " 'https://encrypted-tbn0.gstatic.com/images?q=tbn:ANd9GcSo6DC5lD0kk6DfIHDvb7agkPR_DL3mhiHqVQ&usqp=CAU',\n",
       " 'https://encrypted-tbn0.gstatic.com/images?q=tbn:ANd9GcSoGMXw8qL4lY4Lxbfk-dq6r-DELYghjEjItg&usqp=CAU',\n",
       " 'https://encrypted-tbn0.gstatic.com/images?q=tbn:ANd9GcSsZyKU4pEUcVP2x_GtXrgZ8kRbLhim4vwD5Q&usqp=CAU',\n",
       " 'https://encrypted-tbn0.gstatic.com/images?q=tbn:ANd9GcSvZhlJXY23Pq9mPtc0l4f-_FufvVMIwy3rWA&usqp=CAU',\n",
       " 'https://encrypted-tbn0.gstatic.com/images?q=tbn:ANd9GcSxJyVkeJ5uINtn9vDl4QlhjzChCKtOa0zE1g&usqp=CAU',\n",
       " 'https://encrypted-tbn0.gstatic.com/images?q=tbn:ANd9GcSxTk4h2qQu2I5vprSkTtBIPUtgMoPw5ZQkpA&usqp=CAU',\n",
       " 'https://encrypted-tbn0.gstatic.com/images?q=tbn:ANd9GcSxUCfAYceYRLowFuH32Z6Auo0l4VKelYeE7w&usqp=CAU',\n",
       " 'https://encrypted-tbn0.gstatic.com/images?q=tbn:ANd9GcT0uGryHUp0JKvEi3qQQOqdDPICPUyHP6sJrg&usqp=CAU',\n",
       " 'https://encrypted-tbn0.gstatic.com/images?q=tbn:ANd9GcT1HThnRcA-B9wVxBM3jYyEDdv1vOJtbCzrcw&usqp=CAU',\n",
       " 'https://encrypted-tbn0.gstatic.com/images?q=tbn:ANd9GcT2E2lTsncfBr4JAKI89OrNe6sRD5thA2MmqQ&usqp=CAU',\n",
       " 'https://encrypted-tbn0.gstatic.com/images?q=tbn:ANd9GcT37lAR63tNxO5uaMmFLkHHUIV3m0iVq2lf8g&usqp=CAU',\n",
       " 'https://encrypted-tbn0.gstatic.com/images?q=tbn:ANd9GcT68b0O5wgNnMvg2hrPVjD4cRADRiFNcmXHvQ&usqp=CAU',\n",
       " 'https://encrypted-tbn0.gstatic.com/images?q=tbn:ANd9GcTD2qkRJJeIogwCYSI3XnI1jNPAanL1Y5GezA&usqp=CAU',\n",
       " 'https://encrypted-tbn0.gstatic.com/images?q=tbn:ANd9GcTIZ86jV3Ny7rYn7aDvHpOEItGZmuosD3dVRA&usqp=CAU',\n",
       " 'https://encrypted-tbn0.gstatic.com/images?q=tbn:ANd9GcTJ8Uxbh6oPhqUbM0KVI3g5w75fnHA7_gFnEQ&usqp=CAU',\n",
       " 'https://encrypted-tbn0.gstatic.com/images?q=tbn:ANd9GcTJamIjx6W2pDr_IFqh-OM7FCxx9RhPjWTxmQ&usqp=CAU',\n",
       " 'https://encrypted-tbn0.gstatic.com/images?q=tbn:ANd9GcTNBb-N4v4GBjhtU1mxUSkP0UXA9R7yX9obHw&usqp=CAU',\n",
       " 'https://encrypted-tbn0.gstatic.com/images?q=tbn:ANd9GcTQWPg5Be5d2Vjmo5J_KrHhN7HQ3UBWz_hWSQ&usqp=CAU',\n",
       " 'https://encrypted-tbn0.gstatic.com/images?q=tbn:ANd9GcTSlfcxolVsKDNM3Gpgrmrec0_1BVvjzbYAsg&usqp=CAU',\n",
       " 'https://encrypted-tbn0.gstatic.com/images?q=tbn:ANd9GcTaJXlgHYN0KPEmz_y05SfHR14Wx6absL17SQ&usqp=CAU',\n",
       " 'https://encrypted-tbn0.gstatic.com/images?q=tbn:ANd9GcTeOSBws-xxvZM0Zp-5KTp2CbshOBe7460ucw&usqp=CAU',\n",
       " 'https://encrypted-tbn0.gstatic.com/images?q=tbn:ANd9GcTlnHUcefxvBE2V8dF3lKpYr39ofFa-Y-FjjQ&usqp=CAU',\n",
       " 'https://encrypted-tbn0.gstatic.com/images?q=tbn:ANd9GcToS-95FvnijQn21RyxPGKf0EByIaPGj4jwxw&usqp=CAU',\n",
       " 'https://encrypted-tbn0.gstatic.com/images?q=tbn:ANd9GcTxicwePCn-ksl78S3W4inI0bmH9SZ9_2pnUQ&usqp=CAU',\n",
       " 'https://encrypted-tbn0.gstatic.com/images?q=tbn:ANd9GcTz17hx3QJAxO9iyZzK5wMCbq8BhpsnRg-v1A&usqp=CAU',\n",
       " 'https://fj-corp-pub.s3.us-east-2.amazonaws.com/s3fs-public/inline-images/Top-20-Fruits-and-Vegeatbles-Fresh-Trends-Data-and-Research.jpg',\n",
       " 'https://food.fnr.sndimg.com/content/dam/images/food/fullset/2021/09/27/all-the-fruits-cut-whole.jpg.rend.hgtvcom.616.493.suffix/1632778035320.jpeg',\n",
       " 'https://hips.hearstapps.com/hmg-prod.s3.amazonaws.com/images/full-frame-shot-of-guava-royalty-free-image-1068569826-1564091945.jpg',\n",
       " 'https://hips.hearstapps.com/hmg-prod.s3.amazonaws.com/images/gettyimages-707450939-1585077934.jpg',\n",
       " 'https://i.pinimg.com/originals/8a/6b/44/8a6b4439916eb8c3d52cbc2de66150d7.png',\n",
       " 'https://i.pinimg.com/originals/bd/d6/5e/bdd65e034317074b76ab45409a8f4a10.png',\n",
       " 'https://i.pinimg.com/originals/c4/c2/63/c4c263292769f0def39c2d0e195896f7.jpg',\n",
       " 'https://i.ytimg.com/vi/I05PXP5hysQ/maxresdefault.jpg',\n",
       " 'https://i.ytimg.com/vi/PY2OxP_jMZ0/maxresdefault.jpg',\n",
       " 'https://i.ytimg.com/vi/S0S1M9bKlYk/maxresdefault.jpg',\n",
       " 'https://i0.wp.com/images-prod.healthline.com/hlcmsresource/images/topic_centers/2020-7/fruit-still-life-1296x728-header.jpg?w=1155&h=1528',\n",
       " 'https://i0.wp.com/post.healthline.com/wp-content/uploads/2019/10/rambutan-exotic-fruit-1296x728-header-1296x728.jpg?w=1155&h=1528',\n",
       " 'https://i0.wp.com/post.healthline.com/wp-content/uploads/2021/05/apples-1296x728-header.jpg?w=1155&h=1528',\n",
       " 'https://ibc-static.broad.msu.edu/sites/globaledge/blog/57132.jpg',\n",
       " 'https://images-na.ssl-images-amazon.com/images/I/51eB6A+NrwL._SX325_BO1,204,203,200_.jpg',\n",
       " 'https://images.everydayhealth.com/images/ordinary-fruits-with-amazing-health-benefits-03-1440x810.jpg',\n",
       " 'https://images.everydayhealth.com/images/ordinary-fruits-with-amazing-health-benefits-05-1440x810.jpg',\n",
       " 'https://images.healthshots.com/healthshots/en/uploads/2021/02/19110437/Cut-fruits-1.jpg',\n",
       " 'https://images.healthshots.com/healthshots/en/uploads/2021/08/24112416/not-eating-fruits-1.jpg',\n",
       " 'https://images.hindustantimes.com/img/2021/08/19/1600x900/shiny_fruits_1629353640607_1629353653667.jpg',\n",
       " 'https://images.indianexpress.com/2018/09/fruits-dreamstime.jpg',\n",
       " 'https://images.livemint.com/rf/Image-621x414/LiveMint/Period2/2017/10/31/Photos/Processed/fruits-kFLF--621x414@LiveMint.jpg',\n",
       " 'https://images.news18.com/ibnlive/uploads/2022/01/fresh-fruits-16432555193x2.jpg',\n",
       " 'https://images.news18.com/ibnlive/uploads/2022/04/fresh-fruits-16488176173x2.jpg',\n",
       " 'https://imagesvc.meredithcorp.io/v3/mm/image?q=60&c=sc&poi=face&w=1818&h=909&url=https%3A%2F%2Fstatic.onecms.io%2Fwp-content%2Fuploads%2Fsites%2F37%2F2015%2F06%2F16012245%2Ffruits-vegetables-legumes-blue-background-8a6d17df.jpg',\n",
       " 'https://imagesvc.meredithcorp.io/v3/mm/image?url=https%3A%2F%2Fcf-images.us-east-1.prod.boltdns.net%2Fv1%2Fstatic%2F5118192885001%2F4b00cda7-1a7c-4178-888b-6268fc016b90%2Fd79d11d6-9b0c-4d43-b0da-913f22e851ac%2F1280x720%2Fmatch%2Fimage.jpg',\n",
       " 'https://imagesvc.meredithcorp.io/v3/mm/image?url=https%3A%2F%2Fimg1.cookinglight.timeinc.net%2Fsites%2Fdefault%2Ffiles%2F1502826406%2F1708w-getty-fruit-closeup-CarstenSchanter-EyeEm.jpg',\n",
       " 'https://imagesvc.meredithcorp.io/v3/mm/image?url=https%3A%2F%2Fstatic.onecms.io%2Fwp-content%2Fuploads%2Fsites%2F35%2F2021%2F12%2F28%2Fframe-daily-fruit-portions-GettyImages-1127822163-2000.jpg&q=60',\n",
       " 'https://imagesvc.meredithcorp.io/v3/mm/image?url=https%3A%2F%2Fstatic.onecms.io%2Fwp-content%2Fuploads%2Fsites%2F43%2F2021%2F11%2F03%2F61129_Prep_Smoothies_030_preview-2000.jpg&q=60',\n",
       " 'https://img.freepik.com/free-photo/colorful-fruits-tasty-fresh-ripe-juicy-white-desk_179666-169.jpg?w=2000',\n",
       " 'https://img.onmanorama.com/content/dam/mm/en/food/features/images/2022/1/1/food-prevent-sun-tan.jpg',\n",
       " 'https://img.onmanorama.com/content/dam/mm/en/food/features/images/2022/4/27/fruits-main.jpg',\n",
       " 'https://loveenglish.org/wp-content/uploads/2020/09/Fruits-and-Vegetables-1.jpg',\n",
       " 'https://m.economictimes.com/thumb/msid-86507327,width-1200,height-900,resizemode-4,imgsize-124966/fruits_bccl.jpg',\n",
       " 'https://m.media-amazon.com/images/I/5140o1CSrgL.jpg',\n",
       " 'https://m.media-amazon.com/images/I/81ivWsNm+WL._AC_SS450_.jpg',\n",
       " 'https://media.cntraveler.com/photos/546976e1cbbd2620680d9ef3/master/w_1536,h_2048,c_limit/rare-fruits-dragon-fruit.jpg',\n",
       " 'https://media.cntraveler.com/photos/546976f2cbbd2620680d9f2f/master/pass/rare-fruits-tout.jpg',\n",
       " 'https://media.istockphoto.com/vectors/fruits-and-veggies-icon-set-vector-id1163606196?k=20&m=1163606196&s=612x612&w=0&h=yVm_MvO2kjdRzGz8D2mY8NEHMreik4vC1db17v0KOgc=',\n",
       " 'https://media.npr.org/assets/img/2019/07/17/gettyimages-688974837_wide-944211ea058f05f11b0ee601d1a20dcc5d35bab1.jpg?s=1400',\n",
       " 'https://nationaltoday.com/wp-content/uploads/2021/12/EAT-MORE-FRUITS-VEGETABLES-DAY-.jpg',\n",
       " 'https://nypost.com/wp-content/uploads/sites/2/2022/04/dirty-dozen-1-copy.jpg?quality=75&strip=all&w=744',\n",
       " 'https://purewows3.imgix.net/images/articles/2021_02/high-protein-fruits-guava.jpg?auto=format,compress&cs=strip',\n",
       " 'https://purewows3.imgix.net/images/articles/2021_02/high-protein-fruits-kiwi.jpg?auto=format,compress&cs=strip',\n",
       " 'https://res.cloudinary.com/grohealth/image/upload/$wpsize_!_cld_full!,w_2100,h_1427,c_scale/v1588088840/iStock-467652436.jpg',\n",
       " 'https://resize.indiatvnews.com/en/resize/newbucket/1200_-/2022/04/pjimage-2022-04-26t124613-1650957376.jpg',\n",
       " 'https://rukminim2.flixcart.com/image/416/416/book/2/0/3/fruits-chart-original-imaez7uwsn3xp4qt.jpeg?q=70',\n",
       " 'https://static.toiimg.com/photo/84969948.cms',\n",
       " 'https://static.wixstatic.com/media/0d37fb_d9b684819daf4bc6afab5292edd9b4e6~mv2.jpg/v1/fill/w_564,h_480,al_c,q_80,usm_0.66_1.00_0.01,enc_auto/French%20Fruit%20Vocabulary%20Les%20fruits.jpg',\n",
       " 'https://upload.wikimedia.org/wikipedia/commons/2/2f/Culinary_fruits_front_view.jpg',\n",
       " 'https://upload.wikimedia.org/wikipedia/commons/thumb/d/da/Granat%C3%A4pfel.JPG/640px-Granat%C3%A4pfel.JPG',\n",
       " 'https://www.dole.com/-/media/project/dole/produce-images/headers/dole-produce-fruit-medley.png?rev=1416123f2d094cd1b7494365948214be&hash=F89C9786C9A5F599A784D7753F82236C',\n",
       " 'https://www.escoffieronline.com/wp-content/uploads/avocado-are-among-the-fruits-that-need-to-be-cored-_1107_40085675_1_14065460_500.jpg',\n",
       " 'https://www.healthyeating.org/images/default-source/home-0.0/nutrition-topics-2.0/general-nutrition-wellness/2-2-2-3foodgroups_fruits_detailfeature.jpg?sfvrsn=64942d53_4',\n",
       " 'https://www.mensjournal.com/wp-content/uploads/mf/_power_fruit_pomegranate_0.jpg?quality=86&strip=all',\n",
       " 'https://www.nrtcfresh.com/wp-content/uploads/2020/11/image-fruit-large.png',\n",
       " 'https://www.popsci.com/uploads/2022/01/05/lychee-scaled.jpg?auto=webp&width=1440&height=961.3125',\n",
       " 'https://www.pritikin.com/wp/wp-content/uploads/2016/11/best-fruit-avacados-coconut.jpg',\n",
       " 'https://www.sahyadrifarms.com/images/prominent-crops/mangoes.png',\n",
       " 'https://www.thespruceeats.com/thmb/616ykA9EIb4cEhsWuPv80pMU8Yc=/450x0/filters:no_upscale():max_bytes(150000):strip_icc()/GettyImages-962872648-ee237477599f439ba6b3a4db51c980ae.jpg',\n",
       " 'https://www.thespruceeats.com/thmb/nV8L-tnV0Ir28iQPbrF8prG9QL0=/2464x1848/smart/filters:no_upscale()/GettyImages-1084246092-5c200bfac9e77c00017365af.jpg',\n",
       " 'https://www.unlockfood.ca/EatRightOntario/media/Website-images-resized/How-to-store-fruit-to-keep-it-fresh-resized.jpg',\n",
       " 'https://www.verywellfit.com/thmb/a4580FjTjbub9q4kI5m9X-Po-p0=/2002x1334/filters:no_upscale():max_bytes(150000):strip_icc()/Bananas-5c6a36a346e0fb0001f0e4a3.jpg',\n",
       " 'https://www.verywellhealth.com/thmb/nOj3ZmQjgYjBjj_QCBIsDSPzoeo=/1918x1918/smart/filters:no_upscale()/fruits-to-avoid-if-you-have-diabetes-1087587-primary-recirc-3a95a09a48cb46b49d5632326f9405d3.jpg',\n",
       " 'https://www.vocabulary.cl/pictures/fruit-in-english.jpg'}"
      ]
     },
     "execution_count": 153,
     "metadata": {},
     "output_type": "execute_result"
    }
   ],
   "source": [
    "img_urls"
   ]
  },
  {
   "cell_type": "markdown",
   "id": "b9bbe76c",
   "metadata": {},
   "source": [
    "### 2.Cars"
   ]
  },
  {
   "cell_type": "code",
   "execution_count": 156,
   "id": "52d891c2",
   "metadata": {},
   "outputs": [],
   "source": [
    "#Open Driver\n",
    "driver = webdriver.Chrome(r\"C:\\Users\\dell\\Downloads\\chromedriver_win32\\chromedriver.exe\")\n",
    "#open driver with url\n",
    "driver.get('https://images.google.com/')"
   ]
  },
  {
   "cell_type": "code",
   "execution_count": 158,
   "id": "87aef95a",
   "metadata": {},
   "outputs": [
    {
     "name": "stdout",
     "output_type": "stream",
     "text": [
      "Enter Name:-cars\n"
     ]
    }
   ],
   "source": [
    "#input bar\n",
    "search_bar=driver.find_element_by_xpath('/html/body/div[1]/div[3]/form/div[1]/div[1]/div[1]/div/div[2]/input')\n",
    "search_bar.send_keys(input(\"Enter Name:-\"))\n",
    "#search bar\n",
    "click_bar=driver.find_element_by_xpath('/html/body/div[1]/div[3]/form/div[1]/div[1]/div[1]/button')\n",
    "click_bar.click()"
   ]
  },
  {
   "cell_type": "code",
   "execution_count": 159,
   "id": "4c79a0ee",
   "metadata": {},
   "outputs": [],
   "source": [
    "#Scroll to the end of the page\n",
    "driver.execute_script(\"window.scrollTo(0, document.body.scrollHeight);\")\n",
    "time.sleep(5)#sleep_between_interactions"
   ]
  },
  {
   "cell_type": "code",
   "execution_count": 160,
   "id": "d017f1fc",
   "metadata": {},
   "outputs": [],
   "source": [
    "#Locate the images to be scraped from the current page \n",
    "imgResults = driver.find_elements_by_xpath(\"//img[contains(@class,'Q4LuWd')]\")\n",
    "totalResults=len(imgResults)"
   ]
  },
  {
   "cell_type": "code",
   "execution_count": 162,
   "id": "5ed1a01b",
   "metadata": {},
   "outputs": [
    {
     "name": "stdout",
     "output_type": "stream",
     "text": [
      "Message: element click intercepted: Element <img src=\"data:image/jpeg;base64,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\" data-deferred=\"1\" class=\"rg_i Q4LuWd\" jsname=\"Q4LuWd\" width=\"300\" height=\"169\" alt=\"Cool Cars - Coolest Cars, SUVs and Trucks of 2020-2021 | Motor1.com\" data-iml=\"101043.89999985695\" data-atf=\"true\"> is not clickable at point (205, 84). Other element would receive the click: <span class=\"VlHyHc\">...</span>\n",
      "  (Session info: chrome=101.0.4951.54)\n",
      "Stacktrace:\n",
      "Backtrace:\n",
      "\tOrdinal0 [0x004E7413+2389011]\n",
      "\tOrdinal0 [0x00479F61+1941345]\n",
      "\tOrdinal0 [0x0036C658+837208]\n",
      "\tOrdinal0 [0x0039F8AF+1046703]\n",
      "\tOrdinal0 [0x0039D8D6+1038550]\n",
      "\tOrdinal0 [0x0039B5EB+1029611]\n",
      "\tOrdinal0 [0x0039A359+1024857]\n",
      "\tOrdinal0 [0x0038FF93+982931]\n",
      "\tOrdinal0 [0x003B414C+1130828]\n",
      "\tOrdinal0 [0x0038F974+981364]\n",
      "\tOrdinal0 [0x003B4364+1131364]\n",
      "\tOrdinal0 [0x003C4302+1196802]\n",
      "\tOrdinal0 [0x003B3F66+1130342]\n",
      "\tOrdinal0 [0x0038E546+976198]\n",
      "\tOrdinal0 [0x0038F456+980054]\n",
      "\tGetHandleVerifier [0x00699632+1727522]\n",
      "\tGetHandleVerifier [0x0074BA4D+2457661]\n",
      "\tGetHandleVerifier [0x0057EB81+569713]\n",
      "\tGetHandleVerifier [0x0057DD76+566118]\n",
      "\tOrdinal0 [0x00480B2B+1968939]\n",
      "\tOrdinal0 [0x00485988+1989000]\n",
      "\tOrdinal0 [0x00485A75+1989237]\n",
      "\tOrdinal0 [0x0048ECB1+2026673]\n",
      "\tBaseThreadInitThunk [0x76506359+25]\n",
      "\tRtlGetAppContainerNamedObjectPath [0x77977B74+228]\n",
      "\tRtlGetAppContainerNamedObjectPath [0x77977B44+180]\n",
      "\n"
     ]
    },
    {
     "ename": "ElementNotInteractableException",
     "evalue": "Message: element not interactable\n  (Session info: chrome=101.0.4951.54)\nStacktrace:\nBacktrace:\n\tOrdinal0 [0x004E7413+2389011]\n\tOrdinal0 [0x00479F61+1941345]\n\tOrdinal0 [0x0036C520+836896]\n\tOrdinal0 [0x0039A1F3+1024499]\n\tOrdinal0 [0x0038FF93+982931]\n\tOrdinal0 [0x003B414C+1130828]\n\tOrdinal0 [0x0038F974+981364]\n\tOrdinal0 [0x003B4364+1131364]\n\tOrdinal0 [0x003C4302+1196802]\n\tOrdinal0 [0x003B3F66+1130342]\n\tOrdinal0 [0x0038E546+976198]\n\tOrdinal0 [0x0038F456+980054]\n\tGetHandleVerifier [0x00699632+1727522]\n\tGetHandleVerifier [0x0074BA4D+2457661]\n\tGetHandleVerifier [0x0057EB81+569713]\n\tGetHandleVerifier [0x0057DD76+566118]\n\tOrdinal0 [0x00480B2B+1968939]\n\tOrdinal0 [0x00485988+1989000]\n\tOrdinal0 [0x00485A75+1989237]\n\tOrdinal0 [0x0048ECB1+2026673]\n\tBaseThreadInitThunk [0x76506359+25]\n\tRtlGetAppContainerNamedObjectPath [0x77977B74+228]\n\tRtlGetAppContainerNamedObjectPath [0x77977B44+180]\n",
     "output_type": "error",
     "traceback": [
      "\u001b[1;31m---------------------------------------------------------------------------\u001b[0m",
      "\u001b[1;31mElementNotInteractableException\u001b[0m           Traceback (most recent call last)",
      "\u001b[1;32m<ipython-input-162-641bada2f5c3>\u001b[0m in \u001b[0;36m<module>\u001b[1;34m\u001b[0m\n\u001b[0;32m      5\u001b[0m     \u001b[0mimg\u001b[0m\u001b[1;33m=\u001b[0m\u001b[0mimgResults\u001b[0m\u001b[1;33m[\u001b[0m\u001b[0mi\u001b[0m\u001b[1;33m]\u001b[0m\u001b[1;33m\u001b[0m\u001b[1;33m\u001b[0m\u001b[0m\n\u001b[0;32m      6\u001b[0m     \u001b[1;32mtry\u001b[0m\u001b[1;33m:\u001b[0m\u001b[1;33m\u001b[0m\u001b[1;33m\u001b[0m\u001b[0m\n\u001b[1;32m----> 7\u001b[1;33m         \u001b[0mimg\u001b[0m\u001b[1;33m.\u001b[0m\u001b[0mclick\u001b[0m\u001b[1;33m(\u001b[0m\u001b[1;33m)\u001b[0m\u001b[1;33m\u001b[0m\u001b[1;33m\u001b[0m\u001b[0m\n\u001b[0m\u001b[0;32m      8\u001b[0m         \u001b[0mtime\u001b[0m\u001b[1;33m.\u001b[0m\u001b[0msleep\u001b[0m\u001b[1;33m(\u001b[0m\u001b[1;36m2\u001b[0m\u001b[1;33m)\u001b[0m\u001b[1;33m\u001b[0m\u001b[1;33m\u001b[0m\u001b[0m\n\u001b[0;32m      9\u001b[0m         \u001b[0mactual_images\u001b[0m \u001b[1;33m=\u001b[0m \u001b[0mdriver\u001b[0m\u001b[1;33m.\u001b[0m\u001b[0mfind_elements_by_css_selector\u001b[0m\u001b[1;33m(\u001b[0m\u001b[1;34m'img.n3VNCb'\u001b[0m\u001b[1;33m)\u001b[0m\u001b[1;33m\u001b[0m\u001b[1;33m\u001b[0m\u001b[0m\n",
      "\u001b[1;32m~\\anaconda3\\lib\\site-packages\\selenium\\webdriver\\remote\\webelement.py\u001b[0m in \u001b[0;36mclick\u001b[1;34m(self)\u001b[0m\n\u001b[0;32m     79\u001b[0m     \u001b[1;32mdef\u001b[0m \u001b[0mclick\u001b[0m\u001b[1;33m(\u001b[0m\u001b[0mself\u001b[0m\u001b[1;33m)\u001b[0m \u001b[1;33m->\u001b[0m \u001b[1;32mNone\u001b[0m\u001b[1;33m:\u001b[0m\u001b[1;33m\u001b[0m\u001b[1;33m\u001b[0m\u001b[0m\n\u001b[0;32m     80\u001b[0m         \u001b[1;34m\"\"\"Clicks the element.\"\"\"\u001b[0m\u001b[1;33m\u001b[0m\u001b[1;33m\u001b[0m\u001b[0m\n\u001b[1;32m---> 81\u001b[1;33m         \u001b[0mself\u001b[0m\u001b[1;33m.\u001b[0m\u001b[0m_execute\u001b[0m\u001b[1;33m(\u001b[0m\u001b[0mCommand\u001b[0m\u001b[1;33m.\u001b[0m\u001b[0mCLICK_ELEMENT\u001b[0m\u001b[1;33m)\u001b[0m\u001b[1;33m\u001b[0m\u001b[1;33m\u001b[0m\u001b[0m\n\u001b[0m\u001b[0;32m     82\u001b[0m \u001b[1;33m\u001b[0m\u001b[0m\n\u001b[0;32m     83\u001b[0m     \u001b[1;32mdef\u001b[0m \u001b[0msubmit\u001b[0m\u001b[1;33m(\u001b[0m\u001b[0mself\u001b[0m\u001b[1;33m)\u001b[0m\u001b[1;33m:\u001b[0m\u001b[1;33m\u001b[0m\u001b[1;33m\u001b[0m\u001b[0m\n",
      "\u001b[1;32m~\\anaconda3\\lib\\site-packages\\selenium\\webdriver\\remote\\webelement.py\u001b[0m in \u001b[0;36m_execute\u001b[1;34m(self, command, params)\u001b[0m\n\u001b[0;32m    708\u001b[0m             \u001b[0mparams\u001b[0m \u001b[1;33m=\u001b[0m \u001b[1;33m{\u001b[0m\u001b[1;33m}\u001b[0m\u001b[1;33m\u001b[0m\u001b[1;33m\u001b[0m\u001b[0m\n\u001b[0;32m    709\u001b[0m         \u001b[0mparams\u001b[0m\u001b[1;33m[\u001b[0m\u001b[1;34m'id'\u001b[0m\u001b[1;33m]\u001b[0m \u001b[1;33m=\u001b[0m \u001b[0mself\u001b[0m\u001b[1;33m.\u001b[0m\u001b[0m_id\u001b[0m\u001b[1;33m\u001b[0m\u001b[1;33m\u001b[0m\u001b[0m\n\u001b[1;32m--> 710\u001b[1;33m         \u001b[1;32mreturn\u001b[0m \u001b[0mself\u001b[0m\u001b[1;33m.\u001b[0m\u001b[0m_parent\u001b[0m\u001b[1;33m.\u001b[0m\u001b[0mexecute\u001b[0m\u001b[1;33m(\u001b[0m\u001b[0mcommand\u001b[0m\u001b[1;33m,\u001b[0m \u001b[0mparams\u001b[0m\u001b[1;33m)\u001b[0m\u001b[1;33m\u001b[0m\u001b[1;33m\u001b[0m\u001b[0m\n\u001b[0m\u001b[0;32m    711\u001b[0m \u001b[1;33m\u001b[0m\u001b[0m\n\u001b[0;32m    712\u001b[0m     \u001b[1;32mdef\u001b[0m \u001b[0mfind_element\u001b[0m\u001b[1;33m(\u001b[0m\u001b[0mself\u001b[0m\u001b[1;33m,\u001b[0m \u001b[0mby\u001b[0m\u001b[1;33m=\u001b[0m\u001b[0mBy\u001b[0m\u001b[1;33m.\u001b[0m\u001b[0mID\u001b[0m\u001b[1;33m,\u001b[0m \u001b[0mvalue\u001b[0m\u001b[1;33m=\u001b[0m\u001b[1;32mNone\u001b[0m\u001b[1;33m)\u001b[0m\u001b[1;33m:\u001b[0m\u001b[1;33m\u001b[0m\u001b[1;33m\u001b[0m\u001b[0m\n",
      "\u001b[1;32m~\\anaconda3\\lib\\site-packages\\selenium\\webdriver\\remote\\webdriver.py\u001b[0m in \u001b[0;36mexecute\u001b[1;34m(self, driver_command, params)\u001b[0m\n\u001b[0;32m    423\u001b[0m         \u001b[1;32mif\u001b[0m \u001b[0mresponse\u001b[0m\u001b[1;33m:\u001b[0m\u001b[1;33m\u001b[0m\u001b[1;33m\u001b[0m\u001b[0m\n\u001b[0;32m    424\u001b[0m             \u001b[0mself\u001b[0m\u001b[1;33m.\u001b[0m\u001b[0merror_handler\u001b[0m\u001b[1;33m.\u001b[0m\u001b[0mcheck_response\u001b[0m\u001b[1;33m(\u001b[0m\u001b[0mresponse\u001b[0m\u001b[1;33m)\u001b[0m\u001b[1;33m\u001b[0m\u001b[1;33m\u001b[0m\u001b[0m\n\u001b[1;32m--> 425\u001b[1;33m             response['value'] = self._unwrap_value(\n\u001b[0m\u001b[0;32m    426\u001b[0m                 response.get('value', None))\n\u001b[0;32m    427\u001b[0m             \u001b[1;32mreturn\u001b[0m \u001b[0mresponse\u001b[0m\u001b[1;33m\u001b[0m\u001b[1;33m\u001b[0m\u001b[0m\n",
      "\u001b[1;32m~\\anaconda3\\lib\\site-packages\\selenium\\webdriver\\remote\\errorhandler.py\u001b[0m in \u001b[0;36mcheck_response\u001b[1;34m(self, response)\u001b[0m\n\u001b[0;32m    245\u001b[0m                 \u001b[0malert_text\u001b[0m \u001b[1;33m=\u001b[0m \u001b[0mvalue\u001b[0m\u001b[1;33m[\u001b[0m\u001b[1;34m'alert'\u001b[0m\u001b[1;33m]\u001b[0m\u001b[1;33m.\u001b[0m\u001b[0mget\u001b[0m\u001b[1;33m(\u001b[0m\u001b[1;34m'text'\u001b[0m\u001b[1;33m)\u001b[0m\u001b[1;33m\u001b[0m\u001b[1;33m\u001b[0m\u001b[0m\n\u001b[0;32m    246\u001b[0m             \u001b[1;32mraise\u001b[0m \u001b[0mexception_class\u001b[0m\u001b[1;33m(\u001b[0m\u001b[0mmessage\u001b[0m\u001b[1;33m,\u001b[0m \u001b[0mscreen\u001b[0m\u001b[1;33m,\u001b[0m \u001b[0mstacktrace\u001b[0m\u001b[1;33m,\u001b[0m \u001b[0malert_text\u001b[0m\u001b[1;33m)\u001b[0m  \u001b[1;31m# type: ignore[call-arg]  # mypy is not smart enough here\u001b[0m\u001b[1;33m\u001b[0m\u001b[1;33m\u001b[0m\u001b[0m\n\u001b[1;32m--> 247\u001b[1;33m         \u001b[1;32mraise\u001b[0m \u001b[0mexception_class\u001b[0m\u001b[1;33m(\u001b[0m\u001b[0mmessage\u001b[0m\u001b[1;33m,\u001b[0m \u001b[0mscreen\u001b[0m\u001b[1;33m,\u001b[0m \u001b[0mstacktrace\u001b[0m\u001b[1;33m)\u001b[0m\u001b[1;33m\u001b[0m\u001b[1;33m\u001b[0m\u001b[0m\n\u001b[0m\u001b[0;32m    248\u001b[0m \u001b[1;33m\u001b[0m\u001b[0m\n\u001b[0;32m    249\u001b[0m     \u001b[1;32mdef\u001b[0m \u001b[0m_value_or_default\u001b[0m\u001b[1;33m(\u001b[0m\u001b[0mself\u001b[0m\u001b[1;33m,\u001b[0m \u001b[0mobj\u001b[0m\u001b[1;33m:\u001b[0m \u001b[0mMapping\u001b[0m\u001b[1;33m[\u001b[0m\u001b[0m_KT\u001b[0m\u001b[1;33m,\u001b[0m \u001b[0m_VT\u001b[0m\u001b[1;33m]\u001b[0m\u001b[1;33m,\u001b[0m \u001b[0mkey\u001b[0m\u001b[1;33m:\u001b[0m \u001b[0m_KT\u001b[0m\u001b[1;33m,\u001b[0m \u001b[0mdefault\u001b[0m\u001b[1;33m:\u001b[0m \u001b[0m_VT\u001b[0m\u001b[1;33m)\u001b[0m \u001b[1;33m->\u001b[0m \u001b[0m_VT\u001b[0m\u001b[1;33m:\u001b[0m\u001b[1;33m\u001b[0m\u001b[1;33m\u001b[0m\u001b[0m\n",
      "\u001b[1;31mElementNotInteractableException\u001b[0m: Message: element not interactable\n  (Session info: chrome=101.0.4951.54)\nStacktrace:\nBacktrace:\n\tOrdinal0 [0x004E7413+2389011]\n\tOrdinal0 [0x00479F61+1941345]\n\tOrdinal0 [0x0036C520+836896]\n\tOrdinal0 [0x0039A1F3+1024499]\n\tOrdinal0 [0x0038FF93+982931]\n\tOrdinal0 [0x003B414C+1130828]\n\tOrdinal0 [0x0038F974+981364]\n\tOrdinal0 [0x003B4364+1131364]\n\tOrdinal0 [0x003C4302+1196802]\n\tOrdinal0 [0x003B3F66+1130342]\n\tOrdinal0 [0x0038E546+976198]\n\tOrdinal0 [0x0038F456+980054]\n\tGetHandleVerifier [0x00699632+1727522]\n\tGetHandleVerifier [0x0074BA4D+2457661]\n\tGetHandleVerifier [0x0057EB81+569713]\n\tGetHandleVerifier [0x0057DD76+566118]\n\tOrdinal0 [0x00480B2B+1968939]\n\tOrdinal0 [0x00485988+1989000]\n\tOrdinal0 [0x00485A75+1989237]\n\tOrdinal0 [0x0048ECB1+2026673]\n\tBaseThreadInitThunk [0x76506359+25]\n\tRtlGetAppContainerNamedObjectPath [0x77977B74+228]\n\tRtlGetAppContainerNamedObjectPath [0x77977B44+180]\n"
     ]
    }
   ],
   "source": [
    "#Click on each Image to extract its corresponding link to download\n",
    "\n",
    "img_urls = set()\n",
    "for i in  range(0,len(imgResults)):\n",
    "    img=imgResults[i]\n",
    "    try:\n",
    "        img.click()\n",
    "        time.sleep(2)\n",
    "        actual_images = driver.find_elements_by_css_selector('img.n3VNCb')\n",
    "        for actual_image in actual_images:\n",
    "            if actual_image.get_attribute('src') and 'https' in actual_image.get_attribute('src'):\n",
    "                img_urls.add(actual_image.get_attribute('src'))\n",
    "    except ElementClickInterceptedException or ElementNotInteractableException as err:\n",
    "        print(err)"
   ]
  },
  {
   "cell_type": "code",
   "execution_count": 163,
   "id": "7e7bf25e",
   "metadata": {},
   "outputs": [
    {
     "data": {
      "text/plain": [
       "{'https://carsguide-res.cloudinary.com/image/upload/f_auto,fl_lossy,q_auto,t_cg_hero_large/v1/editorial/listicle/hero_image/2020-Bugatti%20Centodieci-1001x565-%282%29.jpg',\n",
       " 'https://cdn.luxe.digital/media/2021/11/26104936/best-classic-cars-vintage-old-luxe-digital%402x.jpg',\n",
       " 'https://encrypted-tbn0.gstatic.com/images?q=tbn:ANd9GcQ-3MwDlCOEG1GrAbFYmre27Ch1kvR5nBt1Qw&usqp=CAU',\n",
       " 'https://encrypted-tbn0.gstatic.com/images?q=tbn:ANd9GcQ-W8vd0FnvEqsjHlHNYUdUEUUtVS23J2zs0w&usqp=CAU',\n",
       " 'https://encrypted-tbn0.gstatic.com/images?q=tbn:ANd9GcQ3gqMhzYB0gbSThAhzEBl8Cb9yOGmwiHNuNw&usqp=CAU',\n",
       " 'https://encrypted-tbn0.gstatic.com/images?q=tbn:ANd9GcQ4n7ChA4fHFqilLvxqsZgKiKNnHy0qA9ghFg&usqp=CAU',\n",
       " 'https://encrypted-tbn0.gstatic.com/images?q=tbn:ANd9GcQ6LpD_F1U4zbFP--zzfqL5Gt9R68QZ8xrj_g&usqp=CAU',\n",
       " 'https://encrypted-tbn0.gstatic.com/images?q=tbn:ANd9GcQHv9g5rzyFcqrVod5trntRDbCIX5wuUxLVxA&usqp=CAU',\n",
       " 'https://encrypted-tbn0.gstatic.com/images?q=tbn:ANd9GcQI04riPEjFNy4R1b0P1h6h8bqkoa-eUeAhQg&usqp=CAU',\n",
       " 'https://encrypted-tbn0.gstatic.com/images?q=tbn:ANd9GcQK1U1UgHL4hkVLzMkYDGT74iAFochryHfntA&usqp=CAU',\n",
       " 'https://encrypted-tbn0.gstatic.com/images?q=tbn:ANd9GcQPA5Q4wtzjHZ9lD9lkvTyiWtqYPSktD_UI1Q&usqp=CAU',\n",
       " 'https://encrypted-tbn0.gstatic.com/images?q=tbn:ANd9GcQUZHjGoW2dF9iKRj5DDV8csbQsstNt2gc_Uw&usqp=CAU',\n",
       " 'https://encrypted-tbn0.gstatic.com/images?q=tbn:ANd9GcQX7zQF5hiRiBtriEbyGngaI1l8a7a7hU2ezw&usqp=CAU',\n",
       " 'https://encrypted-tbn0.gstatic.com/images?q=tbn:ANd9GcQYLxW-kwUQO3QmsgGQMLV0qZAFo8wFsxC6ag&usqp=CAU',\n",
       " 'https://encrypted-tbn0.gstatic.com/images?q=tbn:ANd9GcQcsyTIURq90crj21tHL5Av-u0wsEeLWzshWw&usqp=CAU',\n",
       " 'https://encrypted-tbn0.gstatic.com/images?q=tbn:ANd9GcQeCHoQAWdBSEJuxnoB9gRyZyoKcav5X1btzA&usqp=CAU',\n",
       " 'https://encrypted-tbn0.gstatic.com/images?q=tbn:ANd9GcQgM_lu5SIDeJn7Hko8qgNAchAOoP7YBrUz_g&usqp=CAU',\n",
       " 'https://encrypted-tbn0.gstatic.com/images?q=tbn:ANd9GcQnuMeYXnBFEOYDUnDqADgp_aUM2--v0QuHtw&usqp=CAU',\n",
       " 'https://encrypted-tbn0.gstatic.com/images?q=tbn:ANd9GcQp19-eTEAfg3T9PIvOeSLMacz8qJ_zBWkD2g&usqp=CAU',\n",
       " 'https://encrypted-tbn0.gstatic.com/images?q=tbn:ANd9GcQwz9ANIzGtXJCXIciW9ENdr0eIDgS0psMhIg&usqp=CAU',\n",
       " 'https://encrypted-tbn0.gstatic.com/images?q=tbn:ANd9GcR-_wX2kxYjnUEr5P-qk6c1oJN_nxYHKY1Skw&usqp=CAU',\n",
       " 'https://encrypted-tbn0.gstatic.com/images?q=tbn:ANd9GcR0yqEeuK0aFN0Nqef8p9IPzvnJqBIkSjWZ1w&usqp=CAU',\n",
       " 'https://encrypted-tbn0.gstatic.com/images?q=tbn:ANd9GcR5KsKvBKe0yYAhGjddbFrhk2iRIqez9XHhng&usqp=CAU',\n",
       " 'https://encrypted-tbn0.gstatic.com/images?q=tbn:ANd9GcR9IsBmBE_Mvr5Zlk1dNL6LXxuhwMcLIvVCig&usqp=CAU',\n",
       " 'https://encrypted-tbn0.gstatic.com/images?q=tbn:ANd9GcRD86k8ZxWNSwX-J9Ks3RaNC2Lt5H6OakPuiw&usqp=CAU',\n",
       " 'https://encrypted-tbn0.gstatic.com/images?q=tbn:ANd9GcRDYzDboMxTT295NonSz3TXIXwg-c9Xrj98_A&usqp=CAU',\n",
       " 'https://encrypted-tbn0.gstatic.com/images?q=tbn:ANd9GcRIRmKmDv_5pyzJgHmSrXqqU-s8qkVwOnWNkQ&usqp=CAU',\n",
       " 'https://encrypted-tbn0.gstatic.com/images?q=tbn:ANd9GcRVCS7HV_Jyzmo1b0CD-eQF5gJgfUjLZHNo2g&usqp=CAU',\n",
       " 'https://encrypted-tbn0.gstatic.com/images?q=tbn:ANd9GcRakNfmJZH8u5kungyRgHVMYM8nmpDPi5gMuQ&usqp=CAU',\n",
       " 'https://encrypted-tbn0.gstatic.com/images?q=tbn:ANd9GcRhjMbfnqtysksr5L4XTpokBzu_kLAFur1Ryg&usqp=CAU',\n",
       " 'https://encrypted-tbn0.gstatic.com/images?q=tbn:ANd9GcRm5bry8IRa6hsiwr-WmKOo_bbdPZF-MxE0_g&usqp=CAU',\n",
       " 'https://encrypted-tbn0.gstatic.com/images?q=tbn:ANd9GcRp2l2hToJYQXJE02J-O-44huWT1Fcq5ZqWBA&usqp=CAU',\n",
       " 'https://encrypted-tbn0.gstatic.com/images?q=tbn:ANd9GcRvRp7EFHyPqZEml4p5_AEAhh1y8Y39PTlYkA&usqp=CAU',\n",
       " 'https://encrypted-tbn0.gstatic.com/images?q=tbn:ANd9GcRzaQP2LMnuzN-flwE8qbFcsrjceczCfYRX-Q&usqp=CAU',\n",
       " 'https://encrypted-tbn0.gstatic.com/images?q=tbn:ANd9GcS-uYejFotNfDuVZjKUMDL5NL3PPZJbmfcr5g&usqp=CAU',\n",
       " 'https://encrypted-tbn0.gstatic.com/images?q=tbn:ANd9GcS4M9KI_4aRw3oCydWnNUuQKfvC_yfStPzhoA&usqp=CAU',\n",
       " 'https://encrypted-tbn0.gstatic.com/images?q=tbn:ANd9GcSBMdmAbH5ThL6SfMuLxrej9CCyhew_T0mLug&usqp=CAU',\n",
       " 'https://encrypted-tbn0.gstatic.com/images?q=tbn:ANd9GcSCLsgg-BP_EMvJr6gt_cUrnMduTo7qaI8jIQ&usqp=CAU',\n",
       " 'https://encrypted-tbn0.gstatic.com/images?q=tbn:ANd9GcSExWTLkVVbxcGzYyK9db1kGEtG104x4F4PfA&usqp=CAU',\n",
       " 'https://encrypted-tbn0.gstatic.com/images?q=tbn:ANd9GcSH8LwdlAYAWnpgX9_daAPlDwXSle01ubN52Q&usqp=CAU',\n",
       " 'https://encrypted-tbn0.gstatic.com/images?q=tbn:ANd9GcSHFvenDq4nX-LgsmrRPamE9i-NMBkefW7Lzg&usqp=CAU',\n",
       " 'https://encrypted-tbn0.gstatic.com/images?q=tbn:ANd9GcSbP8hxVs6H_h-3NogbQQ6C6uFh_wpVwpsniQ&usqp=CAU',\n",
       " 'https://encrypted-tbn0.gstatic.com/images?q=tbn:ANd9GcSgxTiBVA5NVbPMkrtcsfQ9nyxK4RqY7RFmeg&usqp=CAU',\n",
       " 'https://encrypted-tbn0.gstatic.com/images?q=tbn:ANd9GcSmVF7rjOIuuBuBGSN2dbd7vEzM42z_BmNy5g&usqp=CAU',\n",
       " 'https://encrypted-tbn0.gstatic.com/images?q=tbn:ANd9GcSmgeL7BgjbWE-UN17vw4WXjZz9noZgLfBRBw&usqp=CAU',\n",
       " 'https://encrypted-tbn0.gstatic.com/images?q=tbn:ANd9GcSqyiBuexlR8OUYry8KH_2QVMYaJ0GLAMlY_Q&usqp=CAU',\n",
       " 'https://encrypted-tbn0.gstatic.com/images?q=tbn:ANd9GcSsbdUipD5QWGPFrYq4DFHiLq5xMxpKXTGneg&usqp=CAU',\n",
       " 'https://encrypted-tbn0.gstatic.com/images?q=tbn:ANd9GcSx9soNTNZFF9BS5BSGn76IpsFkK55CPW1xiw&usqp=CAU',\n",
       " 'https://encrypted-tbn0.gstatic.com/images?q=tbn:ANd9GcT6fcsb4lDsVONXVUHZmXYP8VZGfK-LTxLJqA&usqp=CAU',\n",
       " 'https://encrypted-tbn0.gstatic.com/images?q=tbn:ANd9GcT8GJoKJETbdGqNwLVDcqRYcalomzicOMLe1w&usqp=CAU',\n",
       " 'https://encrypted-tbn0.gstatic.com/images?q=tbn:ANd9GcT9JtKnaWGYDVpBa_8LV-ZPpMh9QCBsyYy8Xw&usqp=CAU',\n",
       " 'https://encrypted-tbn0.gstatic.com/images?q=tbn:ANd9GcTDa3avPop7M7KH3je8hmAfQriISX9EHPAWVA&usqp=CAU',\n",
       " 'https://encrypted-tbn0.gstatic.com/images?q=tbn:ANd9GcTGx911M-zAuU-HfAmyeCN8436n-_PnD0YxHA&usqp=CAU',\n",
       " 'https://encrypted-tbn0.gstatic.com/images?q=tbn:ANd9GcTKaEevTb6HC14cJEFnaQPzXsVrZSRsnNDiOA&usqp=CAU',\n",
       " 'https://encrypted-tbn0.gstatic.com/images?q=tbn:ANd9GcTLawgGTXpm4N16K7uRIG9uaRH3de3mOkWl6A&usqp=CAU',\n",
       " 'https://encrypted-tbn0.gstatic.com/images?q=tbn:ANd9GcTMwMb0vT4Tr6QoOmdrAmfEVEMw6zivkZuYWg&usqp=CAU',\n",
       " 'https://encrypted-tbn0.gstatic.com/images?q=tbn:ANd9GcTUR-NDau80nmXxIJvTwbzkxfyb8shsrKJtSw&usqp=CAU',\n",
       " 'https://encrypted-tbn0.gstatic.com/images?q=tbn:ANd9GcTVdjk8UpM1oWn3IFaQjdJ1ftz99w_xUr-aww&usqp=CAU',\n",
       " 'https://encrypted-tbn0.gstatic.com/images?q=tbn:ANd9GcTYGk4MrhifJd7VOWQMwOh9wQ7mF0vzCwQHpg&usqp=CAU',\n",
       " 'https://encrypted-tbn0.gstatic.com/images?q=tbn:ANd9GcTc9jkXE8Hf_Y3KrnZgju-vRC22bItDkU4Kkg&usqp=CAU',\n",
       " 'https://encrypted-tbn0.gstatic.com/images?q=tbn:ANd9GcTr6cDGx33MNBecyI34m9s5Uq1ErDJ6G-DXQA&usqp=CAU',\n",
       " 'https://encrypted-tbn0.gstatic.com/images?q=tbn:ANd9GcTuAu_4Z_JXioK3qgz2LM8Duo_FkmtwjFeWIw&usqp=CAU',\n",
       " 'https://encrypted-tbn0.gstatic.com/images?q=tbn:ANd9GcTyrktUEjGQqpHKSY_Y4gw9BOwSvzC9x805Bg&usqp=CAU',\n",
       " 'https://i.ytimg.com/vi/SbXIj2T-_uk/maxresdefault.jpg',\n",
       " 'https://image.shutterstock.com/image-illustration/modern-cars-studio-room-3d-260nw-735402217.jpg',\n",
       " 'https://imgd-ct.aeplcdn.com/320x200/n/cw/ec/107539/exterior-right-front-three-quarter.jpeg?isig=0&q=75',\n",
       " 'https://imgd.aeplcdn.com/600x337/n/cw/ec/20865/amg-gt-exterior-right-front-three-quarter-60800.jpeg?q=75',\n",
       " 'https://mclaren.scene7.com/is/image/mclaren/Mclaren_Artura_Zenith%20Black_03:crop-16x9?wid=1980&hei=1114',\n",
       " 'https://www.ford.com/is/image/content/dam/vdm_ford/live/en_us/ford/nameplate/mustang/2022/collections/dm/21_FRD_MST_wdmp_200510_02313a.tif?croppathe=1_3x2&wid=900',\n",
       " 'https://www.motortrend.com/uploads/sites/5/2019/12/MotorTrend-Most-Important-Cars-of-the-Decade.jpg',\n",
       " 'https://www.topgear.com/sites/default/files/news-listicle/image/2020/09/taycan_blue_turbo_025.jpg?w=1280&h=720'}"
      ]
     },
     "execution_count": 163,
     "metadata": {},
     "output_type": "execute_result"
    }
   ],
   "source": [
    "img_urls"
   ]
  },
  {
   "cell_type": "markdown",
   "id": "fc2eefd0",
   "metadata": {},
   "source": [
    "### 3.Machine Learning"
   ]
  },
  {
   "cell_type": "code",
   "execution_count": 164,
   "id": "d1ec5096",
   "metadata": {},
   "outputs": [],
   "source": [
    "#Open Driver\n",
    "driver = webdriver.Chrome(r\"C:\\Users\\dell\\Downloads\\chromedriver_win32\\chromedriver.exe\")\n",
    "#open driver with url\n",
    "driver.get('https://images.google.com/')"
   ]
  },
  {
   "cell_type": "code",
   "execution_count": 165,
   "id": "9d104797",
   "metadata": {},
   "outputs": [
    {
     "name": "stdout",
     "output_type": "stream",
     "text": [
      "Enter Name:-machine learning\n"
     ]
    }
   ],
   "source": [
    "#input bar\n",
    "search_bar=driver.find_element_by_xpath('/html/body/div[1]/div[3]/form/div[1]/div[1]/div[1]/div/div[2]/input')\n",
    "search_bar.send_keys(input(\"Enter Name:-\"))\n",
    "#search bar\n",
    "click_bar=driver.find_element_by_xpath('/html/body/div[1]/div[3]/form/div[1]/div[1]/div[1]/button')\n",
    "click_bar.click()"
   ]
  },
  {
   "cell_type": "code",
   "execution_count": 166,
   "id": "2e960c84",
   "metadata": {},
   "outputs": [],
   "source": [
    "#Scroll to the end of the page\n",
    "driver.execute_script(\"window.scrollTo(0, document.body.scrollHeight);\")\n",
    "time.sleep(5)#sleep_between_interactions"
   ]
  },
  {
   "cell_type": "code",
   "execution_count": 167,
   "id": "93f596e0",
   "metadata": {},
   "outputs": [],
   "source": [
    "#Locate the images to be scraped from the current page \n",
    "imgResults = driver.find_elements_by_xpath(\"//img[contains(@class,'Q4LuWd')]\")\n",
    "totalResults=len(imgResults)"
   ]
  },
  {
   "cell_type": "code",
   "execution_count": 169,
   "id": "9899153f",
   "metadata": {},
   "outputs": [
    {
     "name": "stdout",
     "output_type": "stream",
     "text": [
      "Message: element click intercepted: Element <img src=\"data:image/png;base64,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\" data-deferred=\"1\" class=\"rg_i Q4LuWd\" jsname=\"Q4LuWd\" width=\"252\" height=\"180\" alt=\"10 Companies Using Machine Learning in Cool Ways\" data-iml=\"43446.200000047684\" data-atf=\"true\"> is not clickable at point (165, 90). Other element would receive the click: <a href=\"/search?q=machine+learning&amp;tbm=isch&amp;chips=q:machine+learning,g_1:artificial+intelligence:0qwqrBbRat4%3D&amp;bih=612&amp;biw=1366&amp;hl=en-US&amp;sa=X&amp;ved=2ahUKEwjuhfb5u_L3AhW1zqACHXrPBQ4Q4lYoAHoECAEQGw\" data-navigation=\"server\" jslog=\"11106\" aria-label=\"artificial intelligence\" class=\"ZZ7G7b A6Smgb\">...</a>\n",
      "  (Session info: chrome=101.0.4951.54)\n",
      "Stacktrace:\n",
      "Backtrace:\n",
      "\tOrdinal0 [0x004E7413+2389011]\n",
      "\tOrdinal0 [0x00479F61+1941345]\n",
      "\tOrdinal0 [0x0036C658+837208]\n",
      "\tOrdinal0 [0x0039F8AF+1046703]\n",
      "\tOrdinal0 [0x0039D8D6+1038550]\n",
      "\tOrdinal0 [0x0039B5EB+1029611]\n",
      "\tOrdinal0 [0x0039A359+1024857]\n",
      "\tOrdinal0 [0x0038FF93+982931]\n",
      "\tOrdinal0 [0x003B414C+1130828]\n",
      "\tOrdinal0 [0x0038F974+981364]\n",
      "\tOrdinal0 [0x003B4364+1131364]\n",
      "\tOrdinal0 [0x003C4302+1196802]\n",
      "\tOrdinal0 [0x003B3F66+1130342]\n",
      "\tOrdinal0 [0x0038E546+976198]\n",
      "\tOrdinal0 [0x0038F456+980054]\n",
      "\tGetHandleVerifier [0x00699632+1727522]\n",
      "\tGetHandleVerifier [0x0074BA4D+2457661]\n",
      "\tGetHandleVerifier [0x0057EB81+569713]\n",
      "\tGetHandleVerifier [0x0057DD76+566118]\n",
      "\tOrdinal0 [0x00480B2B+1968939]\n",
      "\tOrdinal0 [0x00485988+1989000]\n",
      "\tOrdinal0 [0x00485A75+1989237]\n",
      "\tOrdinal0 [0x0048ECB1+2026673]\n",
      "\tBaseThreadInitThunk [0x76506359+25]\n",
      "\tRtlGetAppContainerNamedObjectPath [0x77977B74+228]\n",
      "\tRtlGetAppContainerNamedObjectPath [0x77977B44+180]\n",
      "\n",
      "Message: element click intercepted: Element <img src=\"data:image/jpeg;base64,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\" data-deferred=\"1\" class=\"rg_i Q4LuWd\" jsname=\"Q4LuWd\" width=\"310\" height=\"163\" alt=\"Machine Learning Tutorial - All the Essential Concepts in Single Tutorial -  DataFlair\" data-iml=\"43648.09999990463\" data-atf=\"true\"> is not clickable at point (505, 90). Other element would receive the click: <a href=\"/search?q=machine+learning&amp;tbm=isch&amp;chips=q:machine+learning,g_1:deep+learning:mcnqoi8Z1E0%3D&amp;bih=612&amp;biw=1366&amp;hl=en-US&amp;sa=X&amp;ved=2ahUKEwjuhfb5u_L3AhW1zqACHXrPBQ4Q4lYoAnoECAEQHw\" data-navigation=\"server\" jslog=\"11106\" aria-label=\"deep learning\" class=\"ZZ7G7b A6Smgb\">...</a>\n",
      "  (Session info: chrome=101.0.4951.54)\n",
      "Stacktrace:\n",
      "Backtrace:\n",
      "\tOrdinal0 [0x004E7413+2389011]\n",
      "\tOrdinal0 [0x00479F61+1941345]\n",
      "\tOrdinal0 [0x0036C658+837208]\n",
      "\tOrdinal0 [0x0039F8AF+1046703]\n",
      "\tOrdinal0 [0x0039D8D6+1038550]\n",
      "\tOrdinal0 [0x0039B5EB+1029611]\n",
      "\tOrdinal0 [0x0039A359+1024857]\n",
      "\tOrdinal0 [0x0038FF93+982931]\n",
      "\tOrdinal0 [0x003B414C+1130828]\n",
      "\tOrdinal0 [0x0038F974+981364]\n",
      "\tOrdinal0 [0x003B4364+1131364]\n",
      "\tOrdinal0 [0x003C4302+1196802]\n",
      "\tOrdinal0 [0x003B3F66+1130342]\n",
      "\tOrdinal0 [0x0038E546+976198]\n",
      "\tOrdinal0 [0x0038F456+980054]\n",
      "\tGetHandleVerifier [0x00699632+1727522]\n",
      "\tGetHandleVerifier [0x0074BA4D+2457661]\n",
      "\tGetHandleVerifier [0x0057EB81+569713]\n",
      "\tGetHandleVerifier [0x0057DD76+566118]\n",
      "\tOrdinal0 [0x00480B2B+1968939]\n",
      "\tOrdinal0 [0x00485988+1989000]\n",
      "\tOrdinal0 [0x00485A75+1989237]\n",
      "\tOrdinal0 [0x0048ECB1+2026673]\n",
      "\tBaseThreadInitThunk [0x76506359+25]\n",
      "\tRtlGetAppContainerNamedObjectPath [0x77977B74+228]\n",
      "\tRtlGetAppContainerNamedObjectPath [0x77977B44+180]\n",
      "\n"
     ]
    }
   ],
   "source": [
    "#Click on each Image to extract its corresponding link to download\n",
    "\n",
    "img_urls = set()\n",
    "for i in  range(0,len(imgResults)):\n",
    "    img=imgResults[i]\n",
    "    try:\n",
    "        img.click()\n",
    "        time.sleep(2)\n",
    "        actual_images = driver.find_elements_by_css_selector('img.n3VNCb')\n",
    "        for actual_image in actual_images:\n",
    "            if actual_image.get_attribute('src') and 'https' in actual_image.get_attribute('src'):\n",
    "                img_urls.add(actual_image.get_attribute('src'))\n",
    "    except ElementClickInterceptedException or ElementNotInteractableException as err:\n",
    "        print(err)"
   ]
  },
  {
   "cell_type": "code",
   "execution_count": 170,
   "id": "a0b004cf",
   "metadata": {},
   "outputs": [
    {
     "data": {
      "text/plain": [
       "{'https://assets.weforum.org/article/image/-1usr3g1ISvVdZZpEO-B7A0ROjmKD8nRNb5x_IwYlXQ.jpg',\n",
       " 'https://bernardmarr.com/img/Are%20Machine%20Learning%20And%20AI%20The%20Same.jpg',\n",
       " 'https://bernardmarr.com/wp-content/uploads/2021/08/Should-I-Choose-Machine-Learning-or-Big-Data.jpg',\n",
       " 'https://bs-uploads.toptal.io/blackfish-uploads/components/blog_post_page/content/cover_image_file/cover_image/687073/retina_1708x683_cover-0323-MachineLearning_Dan_Newsletter-b21703f41d807514083e297955e1b46d.png',\n",
       " 'https://builtin.com/sites/www.builtin.com/files/styles/og/public/2021-12/machine-learning-examples-applications.png',\n",
       " 'https://cdn.britannica.com/40/216540-138-14385CFE/How-machine-learning-is-predicting-synthetic-products.jpg?w=800&h=450&c=crop',\n",
       " 'https://cdn.educba.com/academy/wp-content/uploads/2019/12/Machine-Learning-Techniques.jpg',\n",
       " 'https://cdn.searchenginejournal.com/wp-content/uploads/2020/09/how-machine-learning-is-changing-seo-how-to-adapt-5f60c25878dfc-1520x800.png',\n",
       " 'https://cdn.ttgtmedia.com/rms/onlineImages/business_analytics-machine_learning_process_mobile.jpg',\n",
       " 'https://d2m6ke2px6quvq.cloudfront.net/uploads/2020/03/31/6b274220-2af8-47db-9e71-adb88fd7855c.jpg',\n",
       " 'https://d3njjcbhbojbot.cloudfront.net/api/utilities/v1/imageproxy/https://coursera-course-photos.s3.amazonaws.com/8f/7afa60cbe911e8a233973e775a70ad/machine-learning-3.png?auto=format%2Ccompress&dpr=1',\n",
       " 'https://dv-website.s3.amazonaws.com/uploads/2019/03/kf_bhml_032719.jpg',\n",
       " 'https://emerj.com/wp-content/uploads/2016/09/What-is-Machine-Learning_-950x540.jpg',\n",
       " 'https://encrypted-tbn0.gstatic.com/images?q=tbn:ANd9GcQ-BuSHeD3IWs_Kujra_9xPRNnjIFJL0YvUiw&usqp=CAU',\n",
       " 'https://encrypted-tbn0.gstatic.com/images?q=tbn:ANd9GcQ3YReB3htKhj-rgJBoatm9-YhHqlddq_yRbA&usqp=CAU',\n",
       " 'https://encrypted-tbn0.gstatic.com/images?q=tbn:ANd9GcQ7bD3TNreJDTiQGH6RHX8I_b0kMfdb9wRd0A&usqp=CAU',\n",
       " 'https://encrypted-tbn0.gstatic.com/images?q=tbn:ANd9GcQ9ZhBDEGVp-DOA_hJ917nUadeZatP0P2UC-w&usqp=CAU',\n",
       " 'https://encrypted-tbn0.gstatic.com/images?q=tbn:ANd9GcQCGB8h68XV5941HEI3JsRPwyUOKIQWdxTX3g&usqp=CAU',\n",
       " 'https://encrypted-tbn0.gstatic.com/images?q=tbn:ANd9GcQDBRhR4sEqNWnDi7pdp2SXCbJ9WHLr8BR0nw&usqp=CAU',\n",
       " 'https://encrypted-tbn0.gstatic.com/images?q=tbn:ANd9GcQIuO2Iwmyoa6mA7o06qf1rnG3h78aCTpiH7Q&usqp=CAU',\n",
       " 'https://encrypted-tbn0.gstatic.com/images?q=tbn:ANd9GcQPRh_bHRkCuP3PSyEYC_gw8mrKONs57eeBXw&usqp=CAU',\n",
       " 'https://encrypted-tbn0.gstatic.com/images?q=tbn:ANd9GcQR_uv6oCw_7lmpBWlu3V9Gs0wcAg8ea6N_EQ&usqp=CAU',\n",
       " 'https://encrypted-tbn0.gstatic.com/images?q=tbn:ANd9GcQUOiJupHqeWDCQiUCYUNW9GeNyWwls8Qq7GA&usqp=CAU',\n",
       " 'https://encrypted-tbn0.gstatic.com/images?q=tbn:ANd9GcQZc_PTpvBRL66czmsoFIqQhIpsE7sI71vIGA&usqp=CAU',\n",
       " 'https://encrypted-tbn0.gstatic.com/images?q=tbn:ANd9GcQcnsfqLkerj-Q4AFpAU9VK9vD7_9c-Pt5S9g&usqp=CAU',\n",
       " 'https://encrypted-tbn0.gstatic.com/images?q=tbn:ANd9GcQhIwudWSknBeJmMdLVrknXj00Mh2OPe45pVA&usqp=CAU',\n",
       " 'https://encrypted-tbn0.gstatic.com/images?q=tbn:ANd9GcQjPdGiVj_8UB-qoex_Q20jucwN6tR4oR7W8Q&usqp=CAU',\n",
       " 'https://encrypted-tbn0.gstatic.com/images?q=tbn:ANd9GcQlBQpaaR3DqPMR7r3YZMMCUoU-9p9EAWtYqA&usqp=CAU',\n",
       " 'https://encrypted-tbn0.gstatic.com/images?q=tbn:ANd9GcQmbTv10k2i8RQFJFDolYGR86eYmLGrZ_4fFA&usqp=CAU',\n",
       " 'https://encrypted-tbn0.gstatic.com/images?q=tbn:ANd9GcQrT3TniqvNeIBy5HpWmHVNDtmn1TazaB45wA&usqp=CAU',\n",
       " 'https://encrypted-tbn0.gstatic.com/images?q=tbn:ANd9GcQujZqkYF2P-D7G-DijthdJbDS1j-lEat5l2g&usqp=CAU',\n",
       " 'https://encrypted-tbn0.gstatic.com/images?q=tbn:ANd9GcQwXnQbYBeDMgsqlZAof0EFJxeCWfe_rO2wTA&usqp=CAU',\n",
       " 'https://encrypted-tbn0.gstatic.com/images?q=tbn:ANd9GcR-HkyOT2NDdNjHYucWO0UsxxixcFl0PismMg&usqp=CAU',\n",
       " 'https://encrypted-tbn0.gstatic.com/images?q=tbn:ANd9GcR-XacGyFZ94aFSbariCv2Led3P4LqGARLFpQ&usqp=CAU',\n",
       " 'https://encrypted-tbn0.gstatic.com/images?q=tbn:ANd9GcR7eeZOnQ9lP_ApSH6tX9DH68Qw7IlJyr1bPQ&usqp=CAU',\n",
       " 'https://encrypted-tbn0.gstatic.com/images?q=tbn:ANd9GcR9bB96y3NRwUmB9GSZtWGVB3eyFeFE-O7mLg&usqp=CAU',\n",
       " 'https://encrypted-tbn0.gstatic.com/images?q=tbn:ANd9GcRDLWYV9fKzqaOv7gQ813JUHiJgtUoVBctIbQ&usqp=CAU',\n",
       " 'https://encrypted-tbn0.gstatic.com/images?q=tbn:ANd9GcRDcahzaEMw6G0YrjLEyXiATgh0dRWSEypgvA&usqp=CAU',\n",
       " 'https://encrypted-tbn0.gstatic.com/images?q=tbn:ANd9GcRXpounRqUY3QvdE4G11QxExGFCA4zRz1Fh-Q&usqp=CAU',\n",
       " 'https://encrypted-tbn0.gstatic.com/images?q=tbn:ANd9GcRYhJ4T32aTFlFGn32gkWlKNMHm2Ei7t4m4mQ&usqp=CAU',\n",
       " 'https://encrypted-tbn0.gstatic.com/images?q=tbn:ANd9GcRc_K_a2Mi43uqOMdk36a7J_i_gpeaWBRKkAQ&usqp=CAU',\n",
       " 'https://encrypted-tbn0.gstatic.com/images?q=tbn:ANd9GcRgooEjFqNB4VIHcKQr1SLt_M99asA6WtMbxQ&usqp=CAU',\n",
       " 'https://encrypted-tbn0.gstatic.com/images?q=tbn:ANd9GcRkwEC5usyqtIZYEY62fnTI5CVE9kiCC0CAIQ&usqp=CAU',\n",
       " 'https://encrypted-tbn0.gstatic.com/images?q=tbn:ANd9GcRl5Xu-T4-nc9bxvkM4n2o8a_KUFJBVbYXnNQ&usqp=CAU',\n",
       " 'https://encrypted-tbn0.gstatic.com/images?q=tbn:ANd9GcRnJajte8k4hat5OemiCgLPtorxCS9FmUKXKA&usqp=CAU',\n",
       " 'https://encrypted-tbn0.gstatic.com/images?q=tbn:ANd9GcRpBt0qnHc9V8fsX8dNW9xpYfk_J8NAyjTWQg&usqp=CAU',\n",
       " 'https://encrypted-tbn0.gstatic.com/images?q=tbn:ANd9GcRrlxe-Itt87qnnWscnNKXnA8S0bIb5bphSRw&usqp=CAU',\n",
       " 'https://encrypted-tbn0.gstatic.com/images?q=tbn:ANd9GcRsLpoWRiRxkZBy14dztKhTlseA_bJbhOjWuQ&usqp=CAU',\n",
       " 'https://encrypted-tbn0.gstatic.com/images?q=tbn:ANd9GcRu71iwxYsBoq5RLJlUNXx6dAEDy3JwoN-BSA&usqp=CAU',\n",
       " 'https://encrypted-tbn0.gstatic.com/images?q=tbn:ANd9GcRw9YBdjk8I3zklXptA4fUtwC5I3w5RDRJfKg&usqp=CAU',\n",
       " 'https://encrypted-tbn0.gstatic.com/images?q=tbn:ANd9GcRy9RMoRJsEplN_ZfTnitrH1Qe6XLi21hKexA&usqp=CAU',\n",
       " 'https://encrypted-tbn0.gstatic.com/images?q=tbn:ANd9GcRyUsvp8lFRGIPJc6R5KIfzr2Y-3uklW1hZLg&usqp=CAU',\n",
       " 'https://encrypted-tbn0.gstatic.com/images?q=tbn:ANd9GcRzz65QTElWNGlIyro_M8oOZWm3DXYb9gtR5Q&usqp=CAU',\n",
       " 'https://encrypted-tbn0.gstatic.com/images?q=tbn:ANd9GcS1uf-b45j-KM-CgpwYhYpIzTwJdrq8bjvnUg&usqp=CAU',\n",
       " 'https://encrypted-tbn0.gstatic.com/images?q=tbn:ANd9GcS9IrWwmR-JNqWmksHkpetUP-EiSduFoCgw9w&usqp=CAU',\n",
       " 'https://encrypted-tbn0.gstatic.com/images?q=tbn:ANd9GcSCPoABnVguHOm4kEvQhjKlJkX0AGZMur6LSg&usqp=CAU',\n",
       " 'https://encrypted-tbn0.gstatic.com/images?q=tbn:ANd9GcSC_dB6riyDhQL90SjEBqmZZxu9ErDuV-bHPg&usqp=CAU',\n",
       " 'https://encrypted-tbn0.gstatic.com/images?q=tbn:ANd9GcSFJq4SDDIyi4kb68LKC-06l0BBEvw9-QhMFA&usqp=CAU',\n",
       " 'https://encrypted-tbn0.gstatic.com/images?q=tbn:ANd9GcSFueOb66mkdjk_FrOsnYVpzw7U3AwkhUOB5g&usqp=CAU',\n",
       " 'https://encrypted-tbn0.gstatic.com/images?q=tbn:ANd9GcSFx5HTm8asR39VkofXj_iU8EGXdy7b7aomkg&usqp=CAU',\n",
       " 'https://encrypted-tbn0.gstatic.com/images?q=tbn:ANd9GcSNXxWG266RiB7QytCjKhSFyWVQoUNS8l7suQ&usqp=CAU',\n",
       " 'https://encrypted-tbn0.gstatic.com/images?q=tbn:ANd9GcSOeWv2EllDF2WKI40keb_jMKy6Hpx90aNPJA&usqp=CAU',\n",
       " 'https://encrypted-tbn0.gstatic.com/images?q=tbn:ANd9GcSRkU62g7Rhz3aNupBoOc6pizY-19hH9-MJKA&usqp=CAU',\n",
       " 'https://encrypted-tbn0.gstatic.com/images?q=tbn:ANd9GcSSabXTNFYzy5S2H18cpWnaaA23FHuUO10YmQ&usqp=CAU',\n",
       " 'https://encrypted-tbn0.gstatic.com/images?q=tbn:ANd9GcSV0XCwczKqmlDmIQVGmAQV__htbXlUgzz6UQ&usqp=CAU',\n",
       " 'https://encrypted-tbn0.gstatic.com/images?q=tbn:ANd9GcSVLjHlRKoIUxcMgQUf4vYQ84IU8Gi1jyZ_sA&usqp=CAU',\n",
       " 'https://encrypted-tbn0.gstatic.com/images?q=tbn:ANd9GcSWc7RdsG5S4-CWAfR8Xf2FjOH17P-D0vAM_Q&usqp=CAU',\n",
       " 'https://encrypted-tbn0.gstatic.com/images?q=tbn:ANd9GcSdBFJj7ckAYoxcqOZqLEEI9N37-bDwOS-OXw&usqp=CAU',\n",
       " 'https://encrypted-tbn0.gstatic.com/images?q=tbn:ANd9GcSiV6adz9nSLV5-skd9j2aJIoOhalsoGz-OlA&usqp=CAU',\n",
       " 'https://encrypted-tbn0.gstatic.com/images?q=tbn:ANd9GcSjMGIO75k8Y1bIjzVh1_KfGX9Lh-Ufrok75g&usqp=CAU',\n",
       " 'https://encrypted-tbn0.gstatic.com/images?q=tbn:ANd9GcSngDoRdn32gfa_L5txV4BSSn0WPVsf-CLZ2Q&usqp=CAU',\n",
       " 'https://encrypted-tbn0.gstatic.com/images?q=tbn:ANd9GcSp2BlkHDrMpBa5pOZAgpzkL8RMmvgEU5I_Aw&usqp=CAU',\n",
       " 'https://encrypted-tbn0.gstatic.com/images?q=tbn:ANd9GcSqGNAkHTlB2OtZpnGrcnCiwocUz4Emyt7G4Q&usqp=CAU',\n",
       " 'https://encrypted-tbn0.gstatic.com/images?q=tbn:ANd9GcSrqPSV1NlpA6A-mUXfKlgbC6ci9VWcwgg1CA&usqp=CAU',\n",
       " 'https://encrypted-tbn0.gstatic.com/images?q=tbn:ANd9GcStYFZvu1EBnvP2gKizKysHZyJ3yE2GvxN2og&usqp=CAU',\n",
       " 'https://encrypted-tbn0.gstatic.com/images?q=tbn:ANd9GcSusXHuPFC1rCwWDg-_SoxB9c6aKs-5IyrAog&usqp=CAU',\n",
       " 'https://encrypted-tbn0.gstatic.com/images?q=tbn:ANd9GcSw4iTaXpy2ULYpnWGlPih0X9nuf-Sn_On0MQ&usqp=CAU',\n",
       " 'https://encrypted-tbn0.gstatic.com/images?q=tbn:ANd9GcSySHye_KhXsVcSmnoiIyF8H9Kes3P-iYOtjg&usqp=CAU',\n",
       " 'https://encrypted-tbn0.gstatic.com/images?q=tbn:ANd9GcSzLPXUuIR-umxfZ1BWIoRt7ZZt0SGNqUenqA&usqp=CAU',\n",
       " 'https://encrypted-tbn0.gstatic.com/images?q=tbn:ANd9GcT0wxD7hPSS-XtRqtkUMboC205bZiFyfkmq5Q&usqp=CAU',\n",
       " 'https://encrypted-tbn0.gstatic.com/images?q=tbn:ANd9GcT0xjkFeJXqHN0bfOkMNGvw7T_DfR1eG00cpg&usqp=CAU',\n",
       " 'https://encrypted-tbn0.gstatic.com/images?q=tbn:ANd9GcT5X8IRZ8Q4TQHqGPtb3xWzF0HBD-M4CzicCQ&usqp=CAU',\n",
       " 'https://encrypted-tbn0.gstatic.com/images?q=tbn:ANd9GcT63g8OUav26TN_mEK6jQhezzGeZ0QTSiUNyQ&usqp=CAU',\n",
       " 'https://encrypted-tbn0.gstatic.com/images?q=tbn:ANd9GcT7PtDQO6MDHJMElG5CBBo0qHG2GZUeXGLGNA&usqp=CAU',\n",
       " 'https://encrypted-tbn0.gstatic.com/images?q=tbn:ANd9GcTFUp51KZ9axJ9VKhaRhhwmH_cq4TV9vhjIlw&usqp=CAU',\n",
       " 'https://encrypted-tbn0.gstatic.com/images?q=tbn:ANd9GcTKrwkwLvW92CPU2iRWEU00HxDEvhSUaM_miQ&usqp=CAU',\n",
       " 'https://encrypted-tbn0.gstatic.com/images?q=tbn:ANd9GcTQ0amx-Bk0awsXuwmaUdtFQPZFknvsQ0PRgA&usqp=CAU',\n",
       " 'https://encrypted-tbn0.gstatic.com/images?q=tbn:ANd9GcTf2T5r9TPkEEmLC30DC3-TAK28bmiHTcTCzQ&usqp=CAU',\n",
       " 'https://encrypted-tbn0.gstatic.com/images?q=tbn:ANd9GcTg0H3Ctmp4CJ7Xv2aVpgfNQaDwJtVZDPL2XQ&usqp=CAU',\n",
       " 'https://encrypted-tbn0.gstatic.com/images?q=tbn:ANd9GcTh9yA97jRkJphKklE-G81pRFmzaSBTM4NPFA&usqp=CAU',\n",
       " 'https://encrypted-tbn0.gstatic.com/images?q=tbn:ANd9GcThKWzCEIz4Qlh_hyRMcifUF8AUU-dK_N7iRg&usqp=CAU',\n",
       " 'https://encrypted-tbn0.gstatic.com/images?q=tbn:ANd9GcTkJXoej7XmlrJvF76O7edBUvTtT_4dRaLQZQ&usqp=CAU',\n",
       " 'https://encrypted-tbn0.gstatic.com/images?q=tbn:ANd9GcTouAVIqb7q0Zc4NvhoPYLAT0yD7vicDk7OHQ&usqp=CAU',\n",
       " 'https://encrypted-tbn0.gstatic.com/images?q=tbn:ANd9GcTqcn3Xn1l5E6gkH5YYc3BNEKIXYij9IOJb0w&usqp=CAU',\n",
       " 'https://flatironschool.com/legacy-assets/images.ctfassets.net/hkpf2qd2vxgx/235ViW0mhGaFw3bjXUrUyG/35d7a4312bb78fc47a644877ac01c6ea/BlogGraphics-machinnelearning-dark-09__1_.png',\n",
       " 'https://gdmissionsystems.com/-/media/General-Dynamics/About-Us/Deep-Learning-Analytics/What-Is-Deep-Learning.ashx?h=1500&w=2667&la=en&hash=6DCEAC35FDD9514187DE2FDEEFCFB71A9BA21433',\n",
       " 'https://hazelcast.com/wp-content/uploads/2021/12/real-time-machine-learning-diagram.png',\n",
       " 'https://hh-certificates.sgp1.digitaloceanspaces.com/blog/wp-content/uploads/2022/02/12115441/960x0-2.jpg',\n",
       " 'https://i.pcmag.com/imagery/articles/03TusrjgeJmocMs3y4zcxE0-7..v1569484420.jpg',\n",
       " 'https://i.ytimg.com/vi/ukzFI9rgwfU/maxresdefault.jpg',\n",
       " 'https://i0.wp.com/semiengineering.com/wp-content/uploads/2018/01/MLvsDL.png?resize=733%2C405&ssl=1',\n",
       " 'https://images.techhive.com/images/article/2015/12/thinkstockphotos-451936193-100632457-large.jpg?auto=webp&quality=85,70',\n",
       " 'https://ischoolonline.berkeley.edu/wp-content/uploads/sites/37/2021/01/4430_whatismachinelearning_hero.jpg',\n",
       " 'https://litslink.com/wp-content/uploads/2021/05/machine-learning-types-infographics_1.png',\n",
       " 'https://machinelearningmastery.com/wp-content/uploads/2014/07/MachineLearningMastery.png',\n",
       " 'https://media.springernature.com/w580h326/nature-cms/uploads/collections/AI_and_machine_learning-00afb90f3d21234fd0f207243f60aa8e.jpg',\n",
       " 'https://miro.medium.com/max/1024/1*3CXBOKNql4qS-lRyHT3pqw.png',\n",
       " 'https://miro.medium.com/max/1400/1*R6Rbcks-pGO0SkhCINrP0g.png',\n",
       " 'https://miro.medium.com/max/1400/1*cG6U1qstYDijh9bPL42e-Q.jpeg',\n",
       " 'https://miro.medium.com/max/1400/1*c_fiB-YgbnMl6nntYGBMHQ.jpeg',\n",
       " 'https://miro.medium.com/max/700/0*jng0i9svVVe7L7sj',\n",
       " 'https://miro.medium.com/max/750/0*gL5Qw1zpLA5gpNVp.jpg',\n",
       " 'https://pimages.toolbox.com/wp-content/uploads/2022/04/04094802/4-12-1.png',\n",
       " 'https://prod-discovery.edx-cdn.org/media/course/image/4c70ad9b-9602-49af-bf00-83fa4bf47708-dc4566d15250.small.jpg',\n",
       " 'https://research.dhigroup.com/wp-content/uploads/sites/26/2020/02/machine-learning-illu.png',\n",
       " 'https://s3.amazonaws.com/coursera_assets/meta_images/generated/XDP/XDP~COURSE!~machine-learning/XDP~COURSE!~machine-learning.jpeg',\n",
       " 'https://s7280.pcdn.co/wp-content/uploads/2020/09/top-machine-learning-frameworks.jpg.optimal.jpg',\n",
       " 'https://searchengineland.com/wp-content/seloads/2022/04/neural-network.jpg',\n",
       " 'https://static.javatpoint.com/tutorial/machine-learning/images/applications-of-machine-learning.png',\n",
       " 'https://static.javatpoint.com/tutorial/machine-learning/images/introduction-to-machine-learning.png',\n",
       " 'https://store.hp.com/app/assets/images/uploads/prod/machine-learning-and-deep-learning-101-hero1532047284210.jpg',\n",
       " 'https://uploads.toptal.io/blog/image/125320/toptal-blog-image-1517837300693-a3b0d1a0932057bbb4272c6c8feba197.png',\n",
       " 'https://www.atriainnovation.com/wp-content/uploads/2021/02/portada.jpg',\n",
       " 'https://www.bbva.com/wp-content/uploads/2019/11/machine-learning.jpg',\n",
       " 'https://www.ciat.org/wp-content/uploads/2020/06/2020_blog_villalon_toolbox-1.png',\n",
       " 'https://www.expert.ai/wp-content/uploads/2022/03/Machine-Learning-Definition.jpg',\n",
       " 'https://www.informatec.com/sites/default/files/styles/medium/public/image-seperator/machine-learning-separator-1.jpg?itok=ycRLJQV9',\n",
       " 'https://www.logpoint.com/wp-content/uploads/2020/07/machine-learning-infographics-2-scaled.jpg',\n",
       " 'https://www.sciencenewsforstudents.org/wp-content/uploads/2021/03/1030_machine_learning_explainer_feat.jpg',\n",
       " 'https://www.simplilearn.com/ice9/free_resources_article_thumb/Deep-Learning-vs-Machine-Learning.jpg',\n",
       " 'https://www.techfunnel.com/wp-content/uploads/2020/12/machine-learning-vs-deep-learning.png',\n",
       " 'https://www.tibco.com/sites/tibco/files/media_entity/2020-09/machine-learning-diagram.svg',\n",
       " 'https://www.zohowebstatic.com/sites/default/files/dataprep/solutions/dataprep-for-machine-learning.png'}"
      ]
     },
     "execution_count": 170,
     "metadata": {},
     "output_type": "execute_result"
    }
   ],
   "source": [
    "img_urls"
   ]
  },
  {
   "cell_type": "code",
   "execution_count": 178,
   "id": "f1788456",
   "metadata": {},
   "outputs": [],
   "source": [
    "driver.close()"
   ]
  },
  {
   "cell_type": "markdown",
   "id": "a811e1b1",
   "metadata": {},
   "source": [
    "### 4.Guitar"
   ]
  },
  {
   "cell_type": "code",
   "execution_count": 191,
   "id": "adb9c34e",
   "metadata": {},
   "outputs": [],
   "source": [
    "#Open Driver\n",
    "driver = webdriver.Chrome(r\"C:\\Users\\dell\\Downloads\\chromedriver_win32\\chromedriver.exe\")\n",
    "#open driver with url\n",
    "driver.get('https://images.google.com/')"
   ]
  },
  {
   "cell_type": "code",
   "execution_count": 194,
   "id": "5ba04453",
   "metadata": {},
   "outputs": [
    {
     "name": "stdout",
     "output_type": "stream",
     "text": [
      "Enter Name:-Guitar\n"
     ]
    }
   ],
   "source": [
    "#input bar\n",
    "search_bar=driver.find_element_by_xpath('/html/body/div[1]/div[3]/form/div[1]/div[1]/div[1]/div/div[2]/input')\n",
    "search_bar.send_keys(input(\"Enter Name:-\"))\n",
    "#search bar\n",
    "click_bar=driver.find_element_by_xpath('/html/body/div[1]/div[3]/form/div[1]/div[1]/div[1]/button')\n",
    "click_bar.click()"
   ]
  },
  {
   "cell_type": "code",
   "execution_count": 195,
   "id": "803365a5",
   "metadata": {},
   "outputs": [],
   "source": [
    "#Scroll to the end of the page\n",
    "driver.execute_script(\"window.scrollTo(0, document.body.scrollHeight);\")\n",
    "time.sleep(5)#sleep_between_interactions"
   ]
  },
  {
   "cell_type": "code",
   "execution_count": 196,
   "id": "c467c1aa",
   "metadata": {},
   "outputs": [],
   "source": [
    "#Locate the images to be scraped from the current page \n",
    "imgResults = driver.find_elements_by_xpath(\"//img[contains(@class,'Q4LuWd')]\")\n",
    "totalResults=len(imgResults)"
   ]
  },
  {
   "cell_type": "code",
   "execution_count": 197,
   "id": "cbad75d7",
   "metadata": {},
   "outputs": [],
   "source": [
    "#Click on each Image to extract its corresponding link to download\n",
    "\n",
    "img_urls = set()\n",
    "for i in  range(0,len(imgResults)):\n",
    "    img=imgResults[i]\n",
    "    try:\n",
    "        img.click()\n",
    "        time.sleep(2)\n",
    "        actual_images = driver.find_elements_by_css_selector('img.n3VNCb')\n",
    "        for actual_image in actual_images:\n",
    "            if actual_image.get_attribute('src') and 'https' in actual_image.get_attribute('src'):\n",
    "                img_urls.add(actual_image.get_attribute('src'))\n",
    "    except ElementClickInterceptedException or ElementNotInteractableException as err:\n",
    "        print(err)"
   ]
  },
  {
   "cell_type": "code",
   "execution_count": 198,
   "id": "f2ccd418",
   "metadata": {},
   "outputs": [
    {
     "data": {
      "text/plain": [
       "{'https://39zsbo2fj4og6a79534grq31-wpengine.netdna-ssl.com/wp-content/uploads/Guitar-parts-electric-acoustic-1024x1020.png',\n",
       " 'https://39zsbo2fj4og6a79534grq31-wpengine.netdna-ssl.com/wp-content/uploads/tabs-1024x686.jpg',\n",
       " 'https://5.imimg.com/data5/SELLER/Default/2021/3/YI/CM/JE/15237173/professional-musical-linden-wood-jnr-600c-string-acoustic-home-imported-guitar-250x250.jpg',\n",
       " 'https://acousticguitar.com/wp-content/uploads/2020/03/generic-guitar-indoors_resized-e1602545144526-1200x900.jpg',\n",
       " 'https://ae01.alicdn.com/kf/Ha58bbcda1316463ca5327473e59f7717C.jpg_Q90.jpg_.webp',\n",
       " 'https://assets.yousician.com/app/uploads/2021/02/15152144/learn-guitar-1-1000x1000.jpg',\n",
       " 'https://blog.dundee.ac.uk/studentblog/files/2020/11/IMG_20170901_155041_856-1024x576.jpg',\n",
       " 'https://breedlovemusic.com/wp-content/uploads/2021/06/breedlove-sideways-graphic-eco-collection3.png',\n",
       " 'https://cdn.britannica.com/31/176331-050-AE5E4D77/guitar.jpg?w=300&h=169&c=crop',\n",
       " 'https://cdn.britannica.com/70/72170-050-5596BF4F/Features-of-a-modern-acoustic-guitar.jpg',\n",
       " 'https://cdn.mos.cms.futurecdn.net/75bTy4YjPxKHzymBBJzQ4J.jpg',\n",
       " 'https://cdn.pixabay.com/photo/2018/03/22/19/46/electric-guitar-3251656__340.jpg',\n",
       " 'https://cdn.schoolofrock.com/img/hero-large/guitar-lessons1527266771.jpg',\n",
       " 'https://cdn.schoolofrock.com/img/news-article-hero-750w/unnamed-4-1635541708.jpg',\n",
       " 'https://cdn.shopaccino.com/johns-music/products/rt40rd-532297_l.jpg',\n",
       " 'https://cdn.shopify.com/s/files/1/0024/9803/5810/products/547577-Product-0-I_9173831d-e036-48e1-92b2-3c92f476d610.jpg?v=1572268999',\n",
       " 'https://cdn.shopify.com/s/files/1/0657/6821/products/FEN-0961113032_448519-B_512x.jpg?v=1635374778',\n",
       " 'https://d1aeri3ty3izns.cloudfront.net/media/23/235459/600/preview_4.jpg',\n",
       " 'https://d1ma7tzlswibx6.cloudfront.net/images-general/total-beginner.png',\n",
       " 'https://d2zap0z9ahyacn.cloudfront.net/eyJidWNrZXQiOiJwcnNpbWFnZXMiLCJrZXkiOiJob21lL3NlLWFjb3VzdGljcy0yMDIyLWhvbWUtY2FyZC5qcGcifQ==',\n",
       " 'https://embed-fastly.wistia.com/deliveries/0d69f86cc144f53ec22d69ca0349ff0b17d39fbb.webp?image_crop_resized=960x540',\n",
       " 'https://encrypted-tbn0.gstatic.com/images?q=tbn:ANd9GcQ35ektAwJa0Q839ACSfOcO9XQQTwWPyf9bcQ&usqp=CAU',\n",
       " 'https://encrypted-tbn0.gstatic.com/images?q=tbn:ANd9GcQ3_sBolsm7wBtaxEZ2XbgTbKM0b6OMUrZOXA&usqp=CAU',\n",
       " 'https://encrypted-tbn0.gstatic.com/images?q=tbn:ANd9GcQAohqdd81T-fYM2uM_LinjgjwWoeLXcZzE9w&usqp=CAU',\n",
       " 'https://encrypted-tbn0.gstatic.com/images?q=tbn:ANd9GcQCLiQabdNJE8OnJ6EBWeMs773zhe_Q0U6klw&usqp=CAU',\n",
       " 'https://encrypted-tbn0.gstatic.com/images?q=tbn:ANd9GcQIBRZE94AzH-rpeFb_AveaO1qQLN2SMxi2WA&usqp=CAU',\n",
       " 'https://encrypted-tbn0.gstatic.com/images?q=tbn:ANd9GcQMNaqyr5gTq4_2BZD_pOXagMqhSkoyaDKIxg&usqp=CAU',\n",
       " 'https://encrypted-tbn0.gstatic.com/images?q=tbn:ANd9GcQOJwHHU0XDQIHo8jS7-1aCDmajLNPJMaMP4Q&usqp=CAU',\n",
       " 'https://encrypted-tbn0.gstatic.com/images?q=tbn:ANd9GcQPPBUT8rTyMF8kQQhtOOjN_UuX03NaCp7dyA&usqp=CAU',\n",
       " 'https://encrypted-tbn0.gstatic.com/images?q=tbn:ANd9GcQWQO5ccBHA9V1A3Nd2RqNwa2SoZJHhtZAfdw&usqp=CAU',\n",
       " 'https://encrypted-tbn0.gstatic.com/images?q=tbn:ANd9GcQXdS7BEdfYtbNbyTIJy9Ikeszr6EwUVMNPyw&usqp=CAU',\n",
       " 'https://encrypted-tbn0.gstatic.com/images?q=tbn:ANd9GcQ_qe5SZS0Q_El9tcIvlx2kn6Trii-bZtwTKw&usqp=CAU',\n",
       " 'https://encrypted-tbn0.gstatic.com/images?q=tbn:ANd9GcQaXtBSYLn60uK6c4wNW_hE3eNEbR-BIgyNjA&usqp=CAU',\n",
       " 'https://encrypted-tbn0.gstatic.com/images?q=tbn:ANd9GcQbuoTE3vzwKTTepCCU3h40ghKkIKRxSETHXQ&usqp=CAU',\n",
       " 'https://encrypted-tbn0.gstatic.com/images?q=tbn:ANd9GcQfG7cq4WHwtOqe0vNJBAXYLSgmMBDB7L313w&usqp=CAU',\n",
       " 'https://encrypted-tbn0.gstatic.com/images?q=tbn:ANd9GcQghWENOdtqraMUruA_eEZ_vVCtm0uuvehfvQ&usqp=CAU',\n",
       " 'https://encrypted-tbn0.gstatic.com/images?q=tbn:ANd9GcQgtpX4RwbSFJwCpg9h8c3OyIpSEeHOH9AFVg&usqp=CAU',\n",
       " 'https://encrypted-tbn0.gstatic.com/images?q=tbn:ANd9GcQgvPa5wHk0owL0NHhln9cFnr6pjQXyA4bifQ&usqp=CAU',\n",
       " 'https://encrypted-tbn0.gstatic.com/images?q=tbn:ANd9GcQipbDA5CIH6Uplyw9wtJ3RzqsWBRyXhnbF2g&usqp=CAU',\n",
       " 'https://encrypted-tbn0.gstatic.com/images?q=tbn:ANd9GcQkYWGAiQ_VhOMHYdthosP8wrGn80iEyvSrKA&usqp=CAU',\n",
       " 'https://encrypted-tbn0.gstatic.com/images?q=tbn:ANd9GcQnI72gvCdZCjMm3DP6WEl0Ws-MpXCRtSTANg&usqp=CAU',\n",
       " 'https://encrypted-tbn0.gstatic.com/images?q=tbn:ANd9GcQpwlCgISCgRfxqA_EaKrMZUrU0GsDraMMn-w&usqp=CAU',\n",
       " 'https://encrypted-tbn0.gstatic.com/images?q=tbn:ANd9GcQq_3OjC5Gs6WqiywoHrEkZ1pL-LoUZP9gl0w&usqp=CAU',\n",
       " 'https://encrypted-tbn0.gstatic.com/images?q=tbn:ANd9GcQqgSoLcdWT2kiEnG0jK3dlEbEdUrRyrko76Q&usqp=CAU',\n",
       " 'https://encrypted-tbn0.gstatic.com/images?q=tbn:ANd9GcQsPM3jmcn-qQFAWccVr4VpSelOaGlSZ2Ii6A&usqp=CAU',\n",
       " 'https://encrypted-tbn0.gstatic.com/images?q=tbn:ANd9GcQtEVEDVHbfjRfDiBZakIQPAsgk7Sg7HqxBiA&usqp=CAU',\n",
       " 'https://encrypted-tbn0.gstatic.com/images?q=tbn:ANd9GcQt_ML-z2KgNFSY-Jkkn-lJ2fnhA3u71i8ptA&usqp=CAU',\n",
       " 'https://encrypted-tbn0.gstatic.com/images?q=tbn:ANd9GcQvIixXcl1Tco5be9XAZ8kgUz_qJwOulY_-QA&usqp=CAU',\n",
       " 'https://encrypted-tbn0.gstatic.com/images?q=tbn:ANd9GcQxTo577dE_WbYix93cdZFGSiNQrBLekkccJg&usqp=CAU',\n",
       " 'https://encrypted-tbn0.gstatic.com/images?q=tbn:ANd9GcR-2u_ziCNVd8wER0pr3MlXjQ35I9oRLiU-0A&usqp=CAU',\n",
       " 'https://encrypted-tbn0.gstatic.com/images?q=tbn:ANd9GcR1LQAVofPxyBbuUso99PIN1ZdirMwepqzu_Q&usqp=CAU',\n",
       " 'https://encrypted-tbn0.gstatic.com/images?q=tbn:ANd9GcR3Ht3imMwYDMlYPageji15ZNk7isBpUPUP5A&usqp=CAU',\n",
       " 'https://encrypted-tbn0.gstatic.com/images?q=tbn:ANd9GcR57v_lJNyA7XdKWiPUHt6bAzMu5ulfM6cJXQ&usqp=CAU',\n",
       " 'https://encrypted-tbn0.gstatic.com/images?q=tbn:ANd9GcRFGloZwo-slzQ45veJQl8GRRPsW-QkkoSLsg&usqp=CAU',\n",
       " 'https://encrypted-tbn0.gstatic.com/images?q=tbn:ANd9GcRFfPjW-OhkNPQQDtmYdAbRLISe8Y7VOapCpA&usqp=CAU',\n",
       " 'https://encrypted-tbn0.gstatic.com/images?q=tbn:ANd9GcRGqhLnmgCPtLM0jxY7wnqEXfhKkAHUk4ZJVg&usqp=CAU',\n",
       " 'https://encrypted-tbn0.gstatic.com/images?q=tbn:ANd9GcRHMc7OHPKfdmOfnmrtEWe_sxrbCX2dvcMKlg&usqp=CAU',\n",
       " 'https://encrypted-tbn0.gstatic.com/images?q=tbn:ANd9GcRN8DXQugfBawv_txAk_VFVDoYCRPofSOq17g&usqp=CAU',\n",
       " 'https://encrypted-tbn0.gstatic.com/images?q=tbn:ANd9GcRPsGjuH4Jza4ETYQq4zU_oRqDItb_yWuLCKw&usqp=CAU',\n",
       " 'https://encrypted-tbn0.gstatic.com/images?q=tbn:ANd9GcRQ0uh_Bq7mkMx469QBNe0WNHWK6Xzyithlzg&usqp=CAU',\n",
       " 'https://encrypted-tbn0.gstatic.com/images?q=tbn:ANd9GcRQdTCK3hflHDFWEtTMVeDgBJS-wFZPGqndgw&usqp=CAU',\n",
       " 'https://encrypted-tbn0.gstatic.com/images?q=tbn:ANd9GcRWxlkIWZAHXqsj5Kr0gd2Tz8BokLhhBQaCTw&usqp=CAU',\n",
       " 'https://encrypted-tbn0.gstatic.com/images?q=tbn:ANd9GcRXSYPKLh9dvTQuTxY6nft7oC0zUgMIvhs1Vg&usqp=CAU',\n",
       " 'https://encrypted-tbn0.gstatic.com/images?q=tbn:ANd9GcRZSvwTX0oz2UOtNJNJa8hP1mxG3mDJqBYqbQ&usqp=CAU',\n",
       " 'https://encrypted-tbn0.gstatic.com/images?q=tbn:ANd9GcRbr-NSDB6K0ZkaWmqWzTuY4HRE7j0FF_W-VA&usqp=CAU',\n",
       " 'https://encrypted-tbn0.gstatic.com/images?q=tbn:ANd9GcReCo008tZnRWgYV5856Y_u7zmr4iwd3Om8lA&usqp=CAU',\n",
       " 'https://encrypted-tbn0.gstatic.com/images?q=tbn:ANd9GcRggbHYTdaYTPEopq01tSANZcH9sWix62rX5g&usqp=CAU',\n",
       " 'https://encrypted-tbn0.gstatic.com/images?q=tbn:ANd9GcRgnNVmckWLdiMB2YGtQLO2QvMWhsSkYxcwOA&usqp=CAU',\n",
       " 'https://encrypted-tbn0.gstatic.com/images?q=tbn:ANd9GcRijDHYnFS0BrZ2NnYC-pq3HzwSINsQo0gmeg&usqp=CAU',\n",
       " 'https://encrypted-tbn0.gstatic.com/images?q=tbn:ANd9GcRituzz-NaqecQSxgE6j19tDwADGjMjN_jcdA&usqp=CAU',\n",
       " 'https://encrypted-tbn0.gstatic.com/images?q=tbn:ANd9GcRtYiWkW2E8ho4Aqv6JAT1jHu63xe2kC4T8fw&usqp=CAU',\n",
       " 'https://encrypted-tbn0.gstatic.com/images?q=tbn:ANd9GcS02r-_HjZVEZb8NmV47qbIbdBTMthDpzgM1g&usqp=CAU',\n",
       " 'https://encrypted-tbn0.gstatic.com/images?q=tbn:ANd9GcS0yQwcfC4jvE1-SNBkcp6Irz_3pNgxpHcxzA&usqp=CAU',\n",
       " 'https://encrypted-tbn0.gstatic.com/images?q=tbn:ANd9GcS3MIQWGP7p3ySI6GJG8Mj0Ee4Um2ms8sk_9g&usqp=CAU',\n",
       " 'https://encrypted-tbn0.gstatic.com/images?q=tbn:ANd9GcS3sR8gE-OdCcrnC3mWGpfCzz7VKhF0n8B__Q&usqp=CAU',\n",
       " 'https://encrypted-tbn0.gstatic.com/images?q=tbn:ANd9GcS8PIst0qmDe8Uz1aFYO0BdEn2RL83QCXAibg&usqp=CAU',\n",
       " 'https://encrypted-tbn0.gstatic.com/images?q=tbn:ANd9GcSJcJYIxCHIHzFWS774MNdrDFyL1heoK311ZA&usqp=CAU',\n",
       " 'https://encrypted-tbn0.gstatic.com/images?q=tbn:ANd9GcSLF-X87tMHYibAOxnFxsIhhH4e73KhSrIJqA&usqp=CAU',\n",
       " 'https://encrypted-tbn0.gstatic.com/images?q=tbn:ANd9GcSN4_SyMH0wXLpNyLryoaCotPM-vJb2Bup63A&usqp=CAU',\n",
       " 'https://encrypted-tbn0.gstatic.com/images?q=tbn:ANd9GcSQ7yShiPECebvkCnHcQwGCdhoYb-sAE_ZN_Q&usqp=CAU',\n",
       " 'https://encrypted-tbn0.gstatic.com/images?q=tbn:ANd9GcSXndnF3brvT4QIBy9LI6B4HL9VUw0CyltGSw&usqp=CAU',\n",
       " 'https://encrypted-tbn0.gstatic.com/images?q=tbn:ANd9GcSbJ66k8HyYB10KwsAV8-OXze2YCTMKIac3UQ&usqp=CAU',\n",
       " 'https://encrypted-tbn0.gstatic.com/images?q=tbn:ANd9GcScZK3-XI5moPuKJ2LjEzcjMX0oKNJC3BCrJQ&usqp=CAU',\n",
       " 'https://encrypted-tbn0.gstatic.com/images?q=tbn:ANd9GcSdED4mzy1iPDGoxAxlTXv5rLpf-L0dafTyVA&usqp=CAU',\n",
       " 'https://encrypted-tbn0.gstatic.com/images?q=tbn:ANd9GcSe7OcLe-r_l5BA3zAsizkvaQNgr8ckXxk5rw&usqp=CAU',\n",
       " 'https://encrypted-tbn0.gstatic.com/images?q=tbn:ANd9GcShHVd0ZEaSPlW9MailKnA6xIHuAyusMhHdlA&usqp=CAU',\n",
       " 'https://encrypted-tbn0.gstatic.com/images?q=tbn:ANd9GcSjjjJgxyoc8ycEM6Temx5coaqnGGG4_v24pA&usqp=CAU',\n",
       " 'https://encrypted-tbn0.gstatic.com/images?q=tbn:ANd9GcSm2zMPgYguIsZmSSwewCwM6ayqCNcmLg1f7w&usqp=CAU',\n",
       " 'https://encrypted-tbn0.gstatic.com/images?q=tbn:ANd9GcSstlrxlL4u8TMT6VVzzE8nNvxZgVrzH4D8ew&usqp=CAU',\n",
       " 'https://encrypted-tbn0.gstatic.com/images?q=tbn:ANd9GcSvuJ4Leyd4NntHmgDArAx0BYzPgGfGy4BVOw&usqp=CAU',\n",
       " 'https://encrypted-tbn0.gstatic.com/images?q=tbn:ANd9GcSwW0BpVLsC1YLOUnYw955MJYSSVLZah6XNjQ&usqp=CAU',\n",
       " 'https://encrypted-tbn0.gstatic.com/images?q=tbn:ANd9GcT-Az6BD0xw8PXoxpgg_5mvc-WHACqLH_5H_g&usqp=CAU',\n",
       " 'https://encrypted-tbn0.gstatic.com/images?q=tbn:ANd9GcT-V2eCSsWYCqKf-Tl3S_sO5lSWZigLIyktFA&usqp=CAU',\n",
       " 'https://encrypted-tbn0.gstatic.com/images?q=tbn:ANd9GcT1YIDhUsUxN40oYP6f_hAZQx9dVRLSBpBfQQ&usqp=CAU',\n",
       " 'https://encrypted-tbn0.gstatic.com/images?q=tbn:ANd9GcT1sxgPYcukcwPKoJw8l6MKBCUtsLyUcMkF7g&usqp=CAU',\n",
       " 'https://encrypted-tbn0.gstatic.com/images?q=tbn:ANd9GcT5ESt7zYJWpSIX6wHlDCJKOJ5HjBGsqsqDSw&usqp=CAU',\n",
       " 'https://encrypted-tbn0.gstatic.com/images?q=tbn:ANd9GcTK_aIVCkA2nDRQfWUnj1ZUTbgoQm2utGxokQ&usqp=CAU',\n",
       " 'https://encrypted-tbn0.gstatic.com/images?q=tbn:ANd9GcTN4XWgC8pciha4Ikmr1k5OtPzWrrfUTECpNQ&usqp=CAU',\n",
       " 'https://encrypted-tbn0.gstatic.com/images?q=tbn:ANd9GcTa0SLGR00CBTw1Tk2SuunephlT3LL9hA_Fzw&usqp=CAU',\n",
       " 'https://encrypted-tbn0.gstatic.com/images?q=tbn:ANd9GcTiuSKw_L9DlsRDhBn3mB5wdFo_cK2XcV9DmQ&usqp=CAU',\n",
       " 'https://encrypted-tbn0.gstatic.com/images?q=tbn:ANd9GcTj1iUvGBtJFpXulaRqJdAzMvYV8Zt3knSRPw&usqp=CAU',\n",
       " 'https://encrypted-tbn0.gstatic.com/images?q=tbn:ANd9GcTmR5cDk3d5kxALoXGuuq8RbLmtigc1yv5HUQ&usqp=CAU',\n",
       " 'https://guitargearfinder.com/wp-content/uploads/2018/12/guitar-sizes.jpg',\n",
       " 'https://guitarspace.org/wp-content/uploads/2021/06/Yamaha-Gig-Maker.jpg',\n",
       " 'https://i.ytimg.com/vi/AjK4GVR1EcE/maxresdefault.jpg',\n",
       " 'https://i.ytimg.com/vi/cUxRhesT8gY/maxresdefault.jpg',\n",
       " 'https://i.ytimg.com/vi/qKUfVhJ-Nac/maxresdefault.jpg',\n",
       " 'https://iheartcraftythings.com/wp-content/uploads/2021/04/Guitar-DRAWING-%E2%80%93-STEP-4.jpg',\n",
       " 'https://image.shutterstock.com/image-vector/black-white-guitars-acoustic-electric-260nw-1500673049.jpg',\n",
       " 'https://image.shutterstock.com/image-vector/flat-guitars-acoustic-guitar-electric-260nw-1517313107.jpg',\n",
       " 'https://images.ctfassets.net/3s5io6mnxfqz/2rDLBwFfKMeGv0tDbB9Yo3/d37fa6e1a6e9574079ccc9a6d78b5a22/AdobeStock_248895785.jpeg?fm=jpg&w=900&fl=progressive',\n",
       " 'https://images.ctfassets.net/3s5io6mnxfqz/5RWdSD3DtCUdOiAP42fYPQ/2edbe2b693c19f78887759a23abacf23/image1.jpg?fm=jpg&w=900&fl=progressive',\n",
       " 'https://images.musicstore.de/images/1280/yamaha-c40-classical-guitar-_1_GIT0000636-000.jpg',\n",
       " 'https://images.pexels.com/photos/1751731/pexels-photo-1751731.jpeg?cs=srgb&dl=pexels-brent-keane-1751731.jpg&fm=jpg',\n",
       " 'https://images.saymedia-content.com/.image/t_share/MTc0NDYxNzY1MzczOTI4ODA4/what-kind-of-guitar-should-i-buy.png',\n",
       " 'https://images.saymedia-content.com/.image/t_share/MTc0OTkyNTAyODA0MzkxOTA0/what-kind-of-guitar-should-i-buy.jpg',\n",
       " 'https://images.squarespace-cdn.com/content/v1/5b7d8ac7697a988b951bdc95/1611728210677-016BGGS79ZRHB96CKQS3/image-9.jpg?format=2500w',\n",
       " 'https://images.unsplash.com/photo-1510915361894-db8b60106cb1?ixlib=rb-1.2.1&ixid=MnwxMjA3fDB8MHxzZWFyY2h8MXx8bXVzaWMlMjBndWl0YXJ8ZW58MHx8MHx8&w=1000&q=80',\n",
       " 'https://m.media-amazon.com/images/I/71cTeubzQOL._SY606_.jpg',\n",
       " 'https://m.media-amazon.com/images/I/71mIV4mJs-L._SX569_.jpg',\n",
       " 'https://m.media-amazon.com/images/I/71nzdkpUcWL._SY879_.jpg',\n",
       " 'https://m.media-amazon.com/images/I/81itdej9OJL._AC_SL1500_.jpg',\n",
       " 'https://m.media-amazon.com/images/I/81rEbqDbPUL._SX679_.jpg',\n",
       " 'https://media.istockphoto.com/photos/acoustic-guitar-picture-id156547833?k=20&m=156547833&s=612x612&w=0&h=dsn9GASv6xnVHTC2dIRBmfuJ72XIqFlV4YIxzP4NzvI=',\n",
       " 'https://media.istockphoto.com/photos/classical-guitar-on-a-dark-wood-background-picture-id1322201765?b=1&k=20&m=1322201765&s=170667a&w=0&h=JMxZRyHELU-tH_MVN7ZprfnUno3XxFpj6Y_ZE3JRbnk=',\n",
       " 'https://media.istockphoto.com/photos/guitar-picture-id496799420?k=20&m=496799420&s=170667a&w=0&h=Zi6YEx02hh1wXwdoU1Pg4Gn5kEkZkj92O8IuHQLwzUI=',\n",
       " 'https://media.pitchfork.com/photos/60c39a3e9ee433b42e20fbd8/16:9/w_1408,h_792,c_limit/electric%20guitar%20header%20copy.png',\n",
       " 'https://nationalguitaracademy.com/wp-content/uploads/2016/08/AC-Guitar-.jpg',\n",
       " 'https://online.berklee.edu/takenote/wp-content/uploads/2020/07/learn_acoustic_blues_guitar_article_image.jpg',\n",
       " 'https://online.berklee.edu/takenote/wp-content/uploads/2021/01/acoustic_guitar_techniques_article_image_2021.jpg',\n",
       " 'https://pyxis.nymag.com/v1/imgs/ecd/79a/5f76f8d00c703f98de2734093d4c0e4e31-15-guitar-lede.rsquare.w700.jpg',\n",
       " 'https://res.cloudinary.com/dk-find-out/image/upload/q_80,w_1920,f_auto/DCTM_Penguin_UK_DK_AL1007936_rt_q2qwiw.jpg',\n",
       " 'https://rukminim1.flixcart.com/image/416/416/k6l2vm80/acoustic-guitar/d/k/4/38c-red-sunburst-38-flipkart-smartbuy-original-imafpyhtuvhc9bux.jpeg?q=70',\n",
       " 'https://rukminim2.flixcart.com/image/416/416/acoustic-guitar/x/8/w/topaz-blue-signature-original-imaefec7uhypjdr9.jpeg?q=70',\n",
       " 'https://rukminim2.flixcart.com/image/612/612/kz7bcsw0/acoustic-guitar/f/o/9/-original-imagb9fdbuhmtwmv.jpeg?q=70',\n",
       " 'https://sc1.musik-produktiv.com/pic-010089340xl/sigma-guitars-dm-st.jpg',\n",
       " 'https://static.independent.co.uk/s3fs-public/thumbnails/image/2019/07/26/11/guitar-comp.jpg?width=1200',\n",
       " 'https://static.roland.com/assets/promos/jpg/cat-marquee_eurus_gs-1.jpg',\n",
       " 'https://static.sonovente.com/img/library/zoom/21/optim/21571_1.jpg',\n",
       " 'https://static.toiimg.com/thumb/msid-90824056,width-1070,height-580,imgsize-153356,resizemode-75,overlay-toi_sw,pt-32,y_pad-40/photo.jpg',\n",
       " 'https://static01.nyt.com/images/2020/09/08/fashion/08guitar-taylor-swift/08guitar-taylor-swift-mediumSquareAt3X-v2.jpg',\n",
       " 'https://stringjoy.b-cdn.net/wp-content/uploads/elementor/thumbs/Guitar-Strings-Order-How-the-Guitar-is-Tuned-and-Why-oy1qust0y4usrsb0ilh4hcdvqie48efdn03mcvh56w.jpg',\n",
       " 'https://takelessons.com/blog/wp-content/uploads/2021/12/leandro-mazzuquini-ZIbrlLp63PY-unsplash-scaled.jpg',\n",
       " 'https://thumbs.static-thomann.de/thumb/padthumb600x600/pics/bdb/464648/16522041_800.jpg',\n",
       " 'https://upload.wikimedia.org/wikipedia/commons/4/45/GuitareClassique5.png',\n",
       " 'https://upload.wikimedia.org/wikipedia/commons/thumb/e/e6/My_Mates_3_%282082240480%29.jpg/640px-My_Mates_3_%282082240480%29.jpg',\n",
       " 'https://virtualpiano.net/wp-content/uploads/2020/08/Virtual-Guitar-Online-Virtual-Piano.png',\n",
       " 'https://www.batonrougeguitars.com/fileadmin/images/home/Product-Image-Acoustics.jpg',\n",
       " 'https://www.businesscoot.com/uploads/study_main_image/227.webp',\n",
       " 'https://www.devmusicalindia.in/assets_c/1581492074166-Belear%20BL38C%20Blue%20Burst%20Couturier%20Series%20Acoustic%20Guitar.jpg',\n",
       " 'https://www.guitarlessonworld.com/wp-content/uploads/2015/12/electric_guitar_anatomy.jpg',\n",
       " 'https://www.guitartricks.com/images/welcome3/categories/img-02.jpg',\n",
       " 'https://www.long-mcquade.com/files/25289/4853647ce0ea63ff32c26bcbe2d89dbb.jpg',\n",
       " 'https://www.martinguitar.com/dw/image/v2/BGJT_PRD/on/demandware.static/-/Sites-martin-master-catalog/default/dwade035b3/images/000-28-Brooke-Ligertwood-Sunburst/card_000-28-Brooke-Ligertwood-Sunburst-new_f.png?sw=330&sh=580',\n",
       " 'https://www.musicnotes.com/images2/promos/store/900x520_guitar-min.jpg',\n",
       " 'https://www.native-instruments.com/typo3temp/pics/img-welcome-hero-picked-acoustic-welcome-47c4eec96d4d847293f871cafc7cad2f-m@2x.jpg',\n",
       " 'https://www.soundpure.com/a/wp-content/uploads/2018/04/Eastman-ac808ce-concert-cutaway-acoustic.jpg',\n",
       " 'https://www.superprof.co.in/blog/wp-content/uploads/2018/09/different-guitar-styles-980x651.jpg',\n",
       " 'https://www.superprof.co.in/blog/wp-content/uploads/2019/12/guitar.jpg',\n",
       " 'https://www.taylorguitars.com/sites/default/files/styles/hero_rotator_image/public/images/2022-04/Taylor-new-for-22-acoustic-hero.jpg?itok=b3ZQORYt',\n",
       " 'https://www.taylorguitars.com/sites/default/files/styles/multi_column_module_guitar_light/public/2022-02-08/Builders%20Edition%20912ce%20WHB-Front.png?itok=DvuQgzlm',\n",
       " 'https://www.thoughtco.com/thmb/H-chEcJp4pdJ1sBtWnkuOyM0sMI=/1500x844/smart/filters:no_upscale()/GettyImages-186459142-5c251e3946e0fb0001d607a4.jpg',\n",
       " 'https://www.wikihow.com/images/thumb/7/75/Play-a-Bm-Chord-on-Guitar-Step-15-Version-5.jpg/-crop-342-184-245px-Play-a-Bm-Chord-on-Guitar-Step-15-Version-5.jpg',\n",
       " 'https://yamaha.ndcdn.in/media/catalog/product/cache/9e0f31af0cdc06df956748b13dabad87/f/2/f280_natural-_1__1.jpg',\n",
       " 'https://ychef.files.bbci.co.uk/976x549/p072v7x0.jpg'}"
      ]
     },
     "execution_count": 198,
     "metadata": {},
     "output_type": "execute_result"
    }
   ],
   "source": [
    "img_urls"
   ]
  },
  {
   "cell_type": "code",
   "execution_count": 199,
   "id": "dc06c063",
   "metadata": {},
   "outputs": [],
   "source": [
    "driver.close()"
   ]
  },
  {
   "cell_type": "markdown",
   "id": "d1166471",
   "metadata": {},
   "source": [
    "### 5.Cakes"
   ]
  },
  {
   "cell_type": "code",
   "execution_count": 200,
   "id": "b4d70be1",
   "metadata": {},
   "outputs": [],
   "source": [
    "#Open Driver\n",
    "driver = webdriver.Chrome(r\"C:\\Users\\dell\\Downloads\\chromedriver_win32\\chromedriver.exe\")\n",
    "#open driver with url\n",
    "driver.get('https://images.google.com/')"
   ]
  },
  {
   "cell_type": "code",
   "execution_count": 201,
   "id": "781f45d3",
   "metadata": {},
   "outputs": [
    {
     "name": "stdout",
     "output_type": "stream",
     "text": [
      "Enter Name:-cakes\n"
     ]
    }
   ],
   "source": [
    "#input bar\n",
    "search_bar=driver.find_element_by_xpath('/html/body/div[1]/div[3]/form/div[1]/div[1]/div[1]/div/div[2]/input')\n",
    "search_bar.send_keys(input(\"Enter Name:-\"))\n",
    "#search bar\n",
    "click_bar=driver.find_element_by_xpath('/html/body/div[1]/div[3]/form/div[1]/div[1]/div[1]/button')\n",
    "click_bar.click()"
   ]
  },
  {
   "cell_type": "code",
   "execution_count": 202,
   "id": "4d21760c",
   "metadata": {},
   "outputs": [],
   "source": [
    "#Scroll to the end of the page\n",
    "driver.execute_script(\"window.scrollTo(0, document.body.scrollHeight);\")\n",
    "time.sleep(5)#sleep_between_interactions"
   ]
  },
  {
   "cell_type": "code",
   "execution_count": 203,
   "id": "0b6e8cce",
   "metadata": {},
   "outputs": [],
   "source": [
    "#Locate the images to be scraped from the current page \n",
    "imgResults = driver.find_elements_by_xpath(\"//img[contains(@class,'Q4LuWd')]\")\n",
    "totalResults=len(imgResults)"
   ]
  },
  {
   "cell_type": "code",
   "execution_count": null,
   "id": "de008b4a",
   "metadata": {},
   "outputs": [],
   "source": [
    "#Click on each Image to extract its corresponding link to download\n",
    "\n",
    "img_urls = set()\n",
    "for i in  range(0,len(imgResults)):\n",
    "    img=imgResults[i]\n",
    "    try:\n",
    "        img.click()\n",
    "        time.sleep(2)\n",
    "        actual_images = driver.find_elements_by_css_selector('img.n3VNCb')\n",
    "        for actual_image in actual_images:\n",
    "            if actual_image.get_attribute('src') and 'https' in actual_image.get_attribute('src'):\n",
    "                img_urls.add(actual_image.get_attribute('src'))\n",
    "    except ElementClickInterceptedException or ElementNotInteractableException as err:\n",
    "        print(err)"
   ]
  },
  {
   "cell_type": "code",
   "execution_count": 205,
   "id": "e2619fd0",
   "metadata": {},
   "outputs": [
    {
     "data": {
      "text/plain": [
       "{'https://encrypted-tbn0.gstatic.com/images?q=tbn:ANd9GcQ-KiucKu1qU64rUL69QUBcd4nrE-RtGefX8w&usqp=CAU',\n",
       " 'https://encrypted-tbn0.gstatic.com/images?q=tbn:ANd9GcQ-kjRQWVAQTX4MAVSZtcFEbTQ4EIyrTEPrQA&usqp=CAU',\n",
       " 'https://encrypted-tbn0.gstatic.com/images?q=tbn:ANd9GcQ05lRiDhRuQBRQD9TD8Yh1UbvTym49DQ-ntA&usqp=CAU',\n",
       " 'https://encrypted-tbn0.gstatic.com/images?q=tbn:ANd9GcQ50t1rEpobsQfUEM9XdIqlAFEV3TtrXs7iEg&usqp=CAU',\n",
       " 'https://encrypted-tbn0.gstatic.com/images?q=tbn:ANd9GcQBobr6vDxOBri6yrysCReOyR43q5JvijtfJA&usqp=CAU',\n",
       " 'https://encrypted-tbn0.gstatic.com/images?q=tbn:ANd9GcQUQ01voubewxn-LNxTC8czfkB6onJOup5WmQ&usqp=CAU',\n",
       " 'https://encrypted-tbn0.gstatic.com/images?q=tbn:ANd9GcQXQaw18uiIWooOaQ4vjt44f0uFkK5TI_b9uA&usqp=CAU',\n",
       " 'https://encrypted-tbn0.gstatic.com/images?q=tbn:ANd9GcQg6Z8t0GnlyxFmprU889cHER3nIP7kGTReGw&usqp=CAU',\n",
       " 'https://encrypted-tbn0.gstatic.com/images?q=tbn:ANd9GcQgS2PQ6TCy3Uh7BfdWbZI1aca52Up5uIvAoQ&usqp=CAU',\n",
       " 'https://encrypted-tbn0.gstatic.com/images?q=tbn:ANd9GcQoyTfTxBd7Sgt8zZIP3yPC15e-DhNYwkcjFw&usqp=CAU',\n",
       " 'https://encrypted-tbn0.gstatic.com/images?q=tbn:ANd9GcQs1cztV9gmA4oX7kW6bfq4QqOFk6KxrWoAWA&usqp=CAU',\n",
       " 'https://encrypted-tbn0.gstatic.com/images?q=tbn:ANd9GcQttVn2erIJhS0cgobXcIALJZBeLdCGdDQfjg&usqp=CAU',\n",
       " 'https://encrypted-tbn0.gstatic.com/images?q=tbn:ANd9GcRABb8dwRX-fkAUdBYa1uB3kRieA0DhB6CMYQ&usqp=CAU',\n",
       " 'https://encrypted-tbn0.gstatic.com/images?q=tbn:ANd9GcRBylQNlT2nsnemTo3Pvmo0Xym59y4pHp3CzA&usqp=CAU',\n",
       " 'https://encrypted-tbn0.gstatic.com/images?q=tbn:ANd9GcRCKyJqGlBvP30N-pFeuXgY8BNXZRpSQFrLbg&usqp=CAU',\n",
       " 'https://encrypted-tbn0.gstatic.com/images?q=tbn:ANd9GcRJDjSDRC2O8OkzFfiyfkXrvQdqQr2aHeXiQw&usqp=CAU',\n",
       " 'https://encrypted-tbn0.gstatic.com/images?q=tbn:ANd9GcRJjkKxVsVrGiua-dLnhDUFUx52cjl_Zm9zNQ&usqp=CAU',\n",
       " 'https://encrypted-tbn0.gstatic.com/images?q=tbn:ANd9GcRLCih_-XG3r6UCYW4IFs91y2IoSncM_nvY0Q&usqp=CAU',\n",
       " 'https://encrypted-tbn0.gstatic.com/images?q=tbn:ANd9GcRM2gEBqerJmQeOQOGJxhlXaokS8ds1tY9oLw&usqp=CAU',\n",
       " 'https://encrypted-tbn0.gstatic.com/images?q=tbn:ANd9GcROVd0zDNDjYPTryzbK9R96GHY5iq6pW02fvg&usqp=CAU',\n",
       " 'https://encrypted-tbn0.gstatic.com/images?q=tbn:ANd9GcROmBG9EwuLP1g68559YLKlavxnqj_Anbc_nw&usqp=CAU',\n",
       " 'https://encrypted-tbn0.gstatic.com/images?q=tbn:ANd9GcRbhHJ1NIjN8tOepTUvSZt7JdE0rECIp0MNSA&usqp=CAU',\n",
       " 'https://encrypted-tbn0.gstatic.com/images?q=tbn:ANd9GcRxMEeogodSysuDD7LnXodh3cXNUjqQ8dqzMQ&usqp=CAU',\n",
       " 'https://encrypted-tbn0.gstatic.com/images?q=tbn:ANd9GcRxks5fEzxmNTHa9rin6wXpCNsEmQ9oBu4hkQ&usqp=CAU',\n",
       " 'https://encrypted-tbn0.gstatic.com/images?q=tbn:ANd9GcS81qMGDN0vyuRTx-8NNinamyVxG01S9EpWXA&usqp=CAU',\n",
       " 'https://encrypted-tbn0.gstatic.com/images?q=tbn:ANd9GcS92gvYctoTJ7-Oo9EpWrLF9sXRmAqEj2LYrA&usqp=CAU',\n",
       " 'https://encrypted-tbn0.gstatic.com/images?q=tbn:ANd9GcSDQREQ2ahDn1GDoIBsBL3_Ce35INelyLYi0g&usqp=CAU',\n",
       " 'https://encrypted-tbn0.gstatic.com/images?q=tbn:ANd9GcSPhRJgt5tGRbL9uNUOixTuwJ3VmTxgtsVQeg&usqp=CAU',\n",
       " 'https://encrypted-tbn0.gstatic.com/images?q=tbn:ANd9GcSShhZdbVX9lKYdHk2Dhs_PZUSxzkFC-PzcQw&usqp=CAU',\n",
       " 'https://encrypted-tbn0.gstatic.com/images?q=tbn:ANd9GcSdEJMz56jJGfZnrUaNzaZ-Wmiwfo-TsDa1vQ&usqp=CAU',\n",
       " 'https://encrypted-tbn0.gstatic.com/images?q=tbn:ANd9GcSgJutvlvSiVgyFEh7MuMfIJKeBF8QBzDgc0g&usqp=CAU',\n",
       " 'https://encrypted-tbn0.gstatic.com/images?q=tbn:ANd9GcSkIugAYDtpaZMz1fm-iKAD9RkOeF_srsR80g&usqp=CAU',\n",
       " 'https://encrypted-tbn0.gstatic.com/images?q=tbn:ANd9GcSokPKJvNEkK0vA5TCsCpyj3xYOGwUW-e3_UA&usqp=CAU',\n",
       " 'https://encrypted-tbn0.gstatic.com/images?q=tbn:ANd9GcT0jLPYNyRkX-mTp_5xlc0UbtIAlCOE8WJt3g&usqp=CAU',\n",
       " 'https://encrypted-tbn0.gstatic.com/images?q=tbn:ANd9GcT4Eb1z5MHhu7G4YHmJhqX4rDYR5c41Evkqpw&usqp=CAU',\n",
       " 'https://encrypted-tbn0.gstatic.com/images?q=tbn:ANd9GcT6GhQvG0m0Be7QZY0ETOnX3jF9aemG0r4eqQ&usqp=CAU',\n",
       " 'https://encrypted-tbn0.gstatic.com/images?q=tbn:ANd9GcTGlCSDS4C9o-yVcosh8CxEGtfXPHe4hwsdwg&usqp=CAU',\n",
       " 'https://encrypted-tbn0.gstatic.com/images?q=tbn:ANd9GcTHbyByVk87-HQRDaB2ZdAPQlfm69nHUcBd5Q&usqp=CAU',\n",
       " 'https://encrypted-tbn0.gstatic.com/images?q=tbn:ANd9GcTKiyrqZKU1rC-Dk5szcyDEGoCuPNtV9_rmzg&usqp=CAU',\n",
       " 'https://encrypted-tbn0.gstatic.com/images?q=tbn:ANd9GcTPPBD8oRLvh_WKDPXLy4WEOiYWAmmXUijTzA&usqp=CAU',\n",
       " 'https://encrypted-tbn0.gstatic.com/images?q=tbn:ANd9GcTWAAFrty8l7LrbQ90D7aiqED06HPxoqweaUw&usqp=CAU',\n",
       " 'https://encrypted-tbn0.gstatic.com/images?q=tbn:ANd9GcT_tlkr-wV7ZgRsCoQkFb-0shmPBPwi8g2VPw&usqp=CAU',\n",
       " 'https://encrypted-tbn0.gstatic.com/images?q=tbn:ANd9GcTbngjFw7cGhkPYydLabFXvg0f4CSDMFpLdwQ&usqp=CAU',\n",
       " 'https://encrypted-tbn0.gstatic.com/images?q=tbn:ANd9GcTgrJQcrnz_gb4aV1-ApWYeLb5CcCPgs-NPKw&usqp=CAU',\n",
       " 'https://encrypted-tbn0.gstatic.com/images?q=tbn:ANd9GcTj0InN_ntxa4O22lTmo-NZBk-V_jez3Iu1YQ&usqp=CAU',\n",
       " 'https://encrypted-tbn0.gstatic.com/images?q=tbn:ANd9GcTqjUOKFC94QzLiBlNOAHVbGU2OiljZl2we5g&usqp=CAU',\n",
       " 'https://encrypted-tbn0.gstatic.com/images?q=tbn:ANd9GcTtaL2pSOIBNIxWNpyRbLjyuQUbLXFIpruWxw&usqp=CAU',\n",
       " 'https://encrypted-tbn0.gstatic.com/images?q=tbn:ANd9GcTw4FLqjJjj3gLDB20SKYttlvOZcCXB_KVa-Q&usqp=CAU',\n",
       " 'https://encrypted-tbn0.gstatic.com/images?q=tbn:ANd9GcTwYu5CAz6006ugk8w8N5v5J9xMDT8oMLpMaw&usqp=CAU'}"
      ]
     },
     "execution_count": 205,
     "metadata": {},
     "output_type": "execute_result"
    }
   ],
   "source": [
    "img_urls"
   ]
  },
  {
   "cell_type": "code",
   "execution_count": 206,
   "id": "881123f6",
   "metadata": {},
   "outputs": [],
   "source": [
    "driver.close()"
   ]
  },
  {
   "cell_type": "markdown",
   "id": "7c4449e2",
   "metadata": {},
   "source": [
    "### 4. Write a python program to search for a smartphone(e.g.: Oneplus Nord, pixel 4A, etc.) on www.flipkart.com and scrape following details for all the search results displayed on 1st page. Details to be scraped: “Brand Name”, “Smartphone name”, “Colour”, “RAM”, “Storage(ROM)”, “Primary Camera”, “Secondary Camera”, “Display Size”, “Battery Capacity”, “Price”, “Product URL”. Incase if any of the details is missing then replace it by “- “. Save your results in a dataframe and CSV. "
   ]
  },
  {
   "cell_type": "code",
   "execution_count": 214,
   "id": "7d465da3",
   "metadata": {},
   "outputs": [],
   "source": [
    "driver = webdriver.Chrome(r\"C:\\Users\\dell\\Downloads\\chromedriver_win32\\chromedriver.exe\")\n",
    "url4=\"https://www.flipkart.com/search?q=smartphone&otracker=search&otracker1=search&marketplace=FLIPKART&as-show=on&as=off\"\n",
    "driver.get(url4)"
   ]
  },
  {
   "cell_type": "code",
   "execution_count": 215,
   "id": "f2febf69",
   "metadata": {},
   "outputs": [],
   "source": [
    "Brand_Name=[]\n",
    "Colour=[]\n",
    "P_F_Camera=[]\n",
    "Display_size_Resolution=[]\n",
    "ProcessorAndCores=[]\n",
    "Battery=[]\n",
    "Price=[]\n",
    "Product_URL=[]"
   ]
  },
  {
   "cell_type": "code",
   "execution_count": 216,
   "id": "8ed7eb09",
   "metadata": {},
   "outputs": [
    {
     "name": "stdout",
     "output_type": "stream",
     "text": [
      "24 ['POCO C31 (Royal Blue, 64 GB)', 'realme C11 2021 (Cool Grey, 32 GB)', 'realme C11 2021 (Cool Blue, 64 GB)', 'realme C11 2021 (Cool Blue, 32 GB)', 'realme C31 (Dark Green, 32 GB)', 'realme C11 2021 (Cool Grey, 64 GB)', 'POCO C31 (Royal Blue, 32 GB)', 'realme C31 (Light Silver, 32 GB)', 'realme C31 (Dark Green, 64 GB)', 'realme C31 (Light Silver, 64 GB)', 'realme Narzo 50A (Oxygen Blue, 64 GB)', 'MOTOROLA G60 (Moonless, 128 GB)', 'realme 9 (Sunburst Gold, 128 GB)', 'realme Narzo 50A (Oxygen Green, 64 GB)', 'realme C35 (Glowing Black, 64 GB)', 'realme C35 (Glowing Black, 128 GB)', 'realme C35 (Glowing Green, 64 GB)', 'POCO C31 (Shadow Gray, 64 GB)', 'realme Narzo 50A (Oxygen Blue, 128 GB)', 'realme 9 (Stargaze White, 128 GB)', 'vivo T1 5G (Rainbow Fantasy, 128 GB)', 'vivo T1 5G (Starlight Black, 128 GB)', 'vivo T1 5G (Rainbow Fantasy, 128 GB)', 'vivo T1 5G (Starlight Black, 128 GB)']\n"
     ]
    }
   ],
   "source": [
    "#scraping the Brand_Name \n",
    "BName=driver.find_elements_by_xpath(\"//div[@class='_4rR01T']\")\n",
    "for i in BName:\n",
    "    if i.text is None :\n",
    "        Brand_Name.append(\"--\") \n",
    "    else:\n",
    "        Brand_Name.append(i.text)\n",
    "print(len(Brand_Name),Brand_Name)"
   ]
  },
  {
   "cell_type": "code",
   "execution_count": 217,
   "id": "09956d30",
   "metadata": {},
   "outputs": [
    {
     "name": "stdout",
     "output_type": "stream",
     "text": [
      "24 ['4 GB RAM | 64 GB ROM | Expandable Upto 512 GB', '2 GB RAM | 32 GB ROM | Expandable Upto 256 GB', '4 GB RAM | 64 GB ROM | Expandable Upto 256 GB', '2 GB RAM | 32 GB ROM | Expandable Upto 256 GB', '3 GB RAM | 32 GB ROM | Expandable Upto 1 TB', '4 GB RAM | 64 GB ROM | Expandable Upto 256 GB', '3 GB RAM | 32 GB ROM | Expandable Upto 512 GB', '3 GB RAM | 32 GB ROM | Expandable Upto 1 TB', '4 GB RAM | 64 GB ROM | Expandable Upto 1 TB', '4 GB RAM | 64 GB ROM | Expandable Upto 1 TB', '4 GB RAM | 64 GB ROM | Expandable Upto 256 GB', '6 GB RAM | 128 GB ROM', '6 GB RAM | 128 GB ROM | Expandable Upto 256 GB', '4 GB RAM | 64 GB ROM | Expandable Upto 256 GB', '4 GB RAM | 64 GB ROM | Expandable Upto 1 TB', '4 GB RAM | 128 GB ROM | Expandable Upto 1 TB', '4 GB RAM | 64 GB ROM | Expandable Upto 1 TB', '4 GB RAM | 64 GB ROM | Expandable Upto 512 GB', '4 GB RAM | 128 GB ROM | Expandable Upto 256 GB', '6 GB RAM | 128 GB ROM | Expandable Upto 256 GB', '6 GB RAM | 128 GB ROM | Expandable Upto 1 TB', '6 GB RAM | 128 GB ROM | Expandable Upto 1 TB', '4 GB RAM | 128 GB ROM | Expandable Upto 1 TB', '4 GB RAM | 128 GB ROM | Expandable Upto 1 TB']\n"
     ]
    }
   ],
   "source": [
    "#scraping the Storage_RAM_ROM \n",
    "ram=driver.find_elements_by_xpath(\"//ul[@class='_1xgFaf']//li[1]\")\n",
    "for i in ram:\n",
    "    if i.text is None :\n",
    "        Storage_RAM_ROM.append(\"--\") \n",
    "    else:\n",
    "        Storage_RAM_ROM.append(i.text)\n",
    "print(len(Storage_RAM_ROM),Storage_RAM_ROM)"
   ]
  },
  {
   "cell_type": "code",
   "execution_count": 226,
   "id": "4fe9115d",
   "metadata": {},
   "outputs": [
    {
     "name": "stdout",
     "output_type": "stream",
     "text": [
      "24 ['4 GB RAM | 64 GB ROM | Expandable Upto 512 GB', '2 GB RAM | 32 GB ROM | Expandable Upto 256 GB', '4 GB RAM | 64 GB ROM | Expandable Upto 256 GB', '2 GB RAM | 32 GB ROM | Expandable Upto 256 GB', '3 GB RAM | 32 GB ROM | Expandable Upto 1 TB', '4 GB RAM | 64 GB ROM | Expandable Upto 256 GB', '3 GB RAM | 32 GB ROM | Expandable Upto 512 GB', '3 GB RAM | 32 GB ROM | Expandable Upto 1 TB', '4 GB RAM | 64 GB ROM | Expandable Upto 1 TB', '4 GB RAM | 64 GB ROM | Expandable Upto 1 TB', '4 GB RAM | 64 GB ROM | Expandable Upto 256 GB', '6 GB RAM | 128 GB ROM', '6 GB RAM | 128 GB ROM | Expandable Upto 256 GB', '4 GB RAM | 64 GB ROM | Expandable Upto 256 GB', '4 GB RAM | 64 GB ROM | Expandable Upto 1 TB', '4 GB RAM | 128 GB ROM | Expandable Upto 1 TB', '4 GB RAM | 64 GB ROM | Expandable Upto 1 TB', '4 GB RAM | 64 GB ROM | Expandable Upto 512 GB', '4 GB RAM | 128 GB ROM | Expandable Upto 256 GB', '6 GB RAM | 128 GB ROM | Expandable Upto 256 GB', '6 GB RAM | 128 GB ROM | Expandable Upto 1 TB', '6 GB RAM | 128 GB ROM | Expandable Upto 1 TB', '4 GB RAM | 128 GB ROM | Expandable Upto 1 TB', '4 GB RAM | 128 GB ROM | Expandable Upto 1 TB']\n"
     ]
    }
   ],
   "source": [
    "Storage_RAM_ROM=[]\n",
    "#scraping the Storage_RAM_ROM \n",
    "ram=driver.find_elements_by_xpath(\"//ul[@class='_1xgFaf']//li[1]\")\n",
    "for i in ram:\n",
    "    if i.text is None :\n",
    "        Storage_RAM_ROM.append(\"--\") \n",
    "    else:\n",
    "        Storage_RAM_ROM.append(i.text)\n",
    "print(len(Storage_RAM_ROM),Storage_RAM_ROM)"
   ]
  },
  {
   "cell_type": "code",
   "execution_count": 219,
   "id": "f7d8e248",
   "metadata": {},
   "outputs": [
    {
     "name": "stdout",
     "output_type": "stream",
     "text": [
      "24 ['16.59 cm (6.53 inch) HD+ Display', '16.51 cm (6.5 inch) HD+ Display', '16.51 cm (6.5 inch) HD+ Display', '16.51 cm (6.5 inch) HD+ Display', '16.56 cm (6.52 inch) HD Display', '16.51 cm (6.5 inch) HD+ Display', '16.59 cm (6.53 inch) HD+ Display', '16.56 cm (6.52 inch) HD Display', '16.56 cm (6.52 inch) HD Display', '16.56 cm (6.52 inch) HD Display', '16.51 cm (6.5 inch) HD+ Display', '17.22 cm (6.78 inch) Full HD+ Display', '16.26 cm (6.4 inch) Full HD+ AMOLED Display', '16.51 cm (6.5 inch) HD+ Display', '16.76 cm (6.6 inch) Full HD+ Display', '16.76 cm (6.6 inch) Full HD+ Display', '16.76 cm (6.6 inch) Full HD+ Display', '16.59 cm (6.53 inch) HD+ Display', '16.51 cm (6.5 inch) HD+ Display', '16.26 cm (6.4 inch) Full HD+ AMOLED Display', '16.71 cm (6.58 inch) Full HD+ Display', '16.71 cm (6.58 inch) Full HD+ Display', '16.71 cm (6.58 inch) Full HD+ Display', '16.71 cm (6.58 inch) Full HD+ Display']\n"
     ]
    }
   ],
   "source": [
    "#scraping the Display_size_Resolution \n",
    "DS=driver.find_elements_by_xpath(\"//ul[@class='_1xgFaf']//li[2]\")\n",
    "for i in DS:\n",
    "    if i.text is None :\n",
    "        Display_size_Resolution.append(\"--\") \n",
    "    else:\n",
    "        Display_size_Resolution.append(i.text)\n",
    "print(len(Display_size_Resolution),Display_size_Resolution)"
   ]
  },
  {
   "cell_type": "code",
   "execution_count": 220,
   "id": "f2589aee",
   "metadata": {},
   "outputs": [
    {
     "name": "stdout",
     "output_type": "stream",
     "text": [
      "24 ['MediaTek Helio G35 Processor', 'Octa-core Processor', 'Octa-core Processor', 'Octa-core Processor', 'Unisoc T612 Processor', 'Octa-core Processor', 'MediaTek Helio G35 Processor', 'Unisoc T612 Processor', 'Unisoc T612 Processor', 'Unisoc T612 Processor', 'MediaTek Helio G85 Processor', 'Qualcomm Snapdragon 732G Processor', 'Qualcomm Snapdragon 680 Processor', 'MediaTek Helio G85 Processor', 'Unisoc Tiger T616 Processor', 'Unisoc Tiger T616 Processor', 'Unisoc Tiger T616 Processor', 'MediaTek Helio G35 Processor', 'MediaTek Helio G85 Processor', 'Qualcomm Snapdragon 680 Processor', 'Qualcomm Snapdragon 695 Processor', 'Qualcomm Snapdragon 695 Processor', 'Qualcomm Snapdragon 695 Processor', 'Qualcomm Snapdragon 695 Processor']\n"
     ]
    }
   ],
   "source": [
    "#scraping the ProcessorAndCores \n",
    "P=driver.find_elements_by_xpath(\"//ul[@class='_1xgFaf']//li[5]\")\n",
    "for i in P:\n",
    "    if i.text is None :\n",
    "        ProcessorAndCores.append(\"--\") \n",
    "    else:\n",
    "        ProcessorAndCores.append(i.text)\n",
    "print(len(ProcessorAndCores),ProcessorAndCores)"
   ]
  },
  {
   "cell_type": "code",
   "execution_count": 221,
   "id": "7ed56e6b",
   "metadata": {},
   "outputs": [
    {
     "name": "stdout",
     "output_type": "stream",
     "text": [
      "24 ['5000 mAh Lithium-ion Polymer Battery', '5000 mAh Battery', '5000 mAh Battery', '5000 mAh Battery', '5000 mAh Battery', '5000 mAh Battery', '5000 mAh Lithium-ion Polymer Battery', '5000 mAh Battery', '5000 mAh Battery', '5000 mAh Battery', '6000 mAh Battery', '6000 mAh Battery', '5000 mAh Lithium Ion Battery', '6000 mAh Battery', '5000 mAh Lithium Polymer Battery', '5000 mAh Lithium Polymer Battery', '5000 mAh Lithium Polymer Battery', '5000 mAh Lithium-ion Polymer Battery', '6000 mAh Battery', '5000 mAh Lithium Ion Battery', '5000 mAh Lithium Battery', '5000 mAh Lithium Battery', '5000 mAh Lithium Battery', '5000 mAh Lithium Battery']\n"
     ]
    }
   ],
   "source": [
    "#scraping the Battery \n",
    "B=driver.find_elements_by_xpath(\"//ul[@class='_1xgFaf']//li[4]\")\n",
    "for i in B:\n",
    "    if i.text is None :\n",
    "        Battery.append(\"--\") \n",
    "    else:\n",
    "        Battery.append(i.text)\n",
    "print(len(Battery),Battery)"
   ]
  },
  {
   "cell_type": "code",
   "execution_count": 222,
   "id": "06a43a9e",
   "metadata": {},
   "outputs": [
    {
     "name": "stdout",
     "output_type": "stream",
     "text": [
      "24 ['₹9,499', '₹7,499', '₹8,999', '₹7,499', '₹9,299', '₹8,999', '₹8,499', '₹9,299', '₹9,999', '₹9,999', '₹11,649', '₹15,999', '₹17,999', '₹11,649', '₹11,999', '₹12,999', '₹11,999', '₹9,499', '₹12,609', '₹17,999', '₹16,990', '₹16,990', '₹15,990', '₹15,990']\n"
     ]
    }
   ],
   "source": [
    "#scraping the Price \n",
    "price=driver.find_elements_by_xpath(\"//div[@class='_30jeq3 _1_WHN1']\")\n",
    "for i in price:\n",
    "    if i.text is None :\n",
    "        Price.append(\"--\") \n",
    "    else:\n",
    "        Price.append(i.text)\n",
    "print(len(Price),Price)"
   ]
  },
  {
   "cell_type": "code",
   "execution_count": 229,
   "id": "210cb75c",
   "metadata": {},
   "outputs": [],
   "source": [
    "FlipKart=pd.DataFrame([])\n",
    "FlipKart['Brand_Name']=Brand_Name\n",
    "FlipKart['Storage_RAM_ROM']=Storage_RAM_ROM\n",
    "FlipKart['Display_size_Resolution']=Display_size_Resolution\n",
    "FlipKart['ProcessorAndCores']=ProcessorAndCores\n",
    "FlipKart['Battery']=Battery\n",
    "FlipKart['Price']=Price"
   ]
  },
  {
   "cell_type": "code",
   "execution_count": 230,
   "id": "737374bd",
   "metadata": {},
   "outputs": [
    {
     "data": {
      "text/html": [
       "<div>\n",
       "<style scoped>\n",
       "    .dataframe tbody tr th:only-of-type {\n",
       "        vertical-align: middle;\n",
       "    }\n",
       "\n",
       "    .dataframe tbody tr th {\n",
       "        vertical-align: top;\n",
       "    }\n",
       "\n",
       "    .dataframe thead th {\n",
       "        text-align: right;\n",
       "    }\n",
       "</style>\n",
       "<table border=\"1\" class=\"dataframe\">\n",
       "  <thead>\n",
       "    <tr style=\"text-align: right;\">\n",
       "      <th></th>\n",
       "      <th>Brand_Name</th>\n",
       "      <th>Storage_RAM_ROM</th>\n",
       "      <th>Display_size_Resolution</th>\n",
       "      <th>ProcessorAndCores</th>\n",
       "      <th>Battery</th>\n",
       "      <th>Price</th>\n",
       "    </tr>\n",
       "  </thead>\n",
       "  <tbody>\n",
       "    <tr>\n",
       "      <th>0</th>\n",
       "      <td>POCO C31 (Royal Blue, 64 GB)</td>\n",
       "      <td>4 GB RAM | 64 GB ROM | Expandable Upto 512 GB</td>\n",
       "      <td>16.59 cm (6.53 inch) HD+ Display</td>\n",
       "      <td>MediaTek Helio G35 Processor</td>\n",
       "      <td>5000 mAh Lithium-ion Polymer Battery</td>\n",
       "      <td>₹9,499</td>\n",
       "    </tr>\n",
       "    <tr>\n",
       "      <th>1</th>\n",
       "      <td>realme C11 2021 (Cool Grey, 32 GB)</td>\n",
       "      <td>2 GB RAM | 32 GB ROM | Expandable Upto 256 GB</td>\n",
       "      <td>16.51 cm (6.5 inch) HD+ Display</td>\n",
       "      <td>Octa-core Processor</td>\n",
       "      <td>5000 mAh Battery</td>\n",
       "      <td>₹7,499</td>\n",
       "    </tr>\n",
       "    <tr>\n",
       "      <th>2</th>\n",
       "      <td>realme C11 2021 (Cool Blue, 64 GB)</td>\n",
       "      <td>4 GB RAM | 64 GB ROM | Expandable Upto 256 GB</td>\n",
       "      <td>16.51 cm (6.5 inch) HD+ Display</td>\n",
       "      <td>Octa-core Processor</td>\n",
       "      <td>5000 mAh Battery</td>\n",
       "      <td>₹8,999</td>\n",
       "    </tr>\n",
       "    <tr>\n",
       "      <th>3</th>\n",
       "      <td>realme C11 2021 (Cool Blue, 32 GB)</td>\n",
       "      <td>2 GB RAM | 32 GB ROM | Expandable Upto 256 GB</td>\n",
       "      <td>16.51 cm (6.5 inch) HD+ Display</td>\n",
       "      <td>Octa-core Processor</td>\n",
       "      <td>5000 mAh Battery</td>\n",
       "      <td>₹7,499</td>\n",
       "    </tr>\n",
       "    <tr>\n",
       "      <th>4</th>\n",
       "      <td>realme C31 (Dark Green, 32 GB)</td>\n",
       "      <td>3 GB RAM | 32 GB ROM | Expandable Upto 1 TB</td>\n",
       "      <td>16.56 cm (6.52 inch) HD Display</td>\n",
       "      <td>Unisoc T612 Processor</td>\n",
       "      <td>5000 mAh Battery</td>\n",
       "      <td>₹9,299</td>\n",
       "    </tr>\n",
       "  </tbody>\n",
       "</table>\n",
       "</div>"
      ],
      "text/plain": [
       "                           Brand_Name  \\\n",
       "0        POCO C31 (Royal Blue, 64 GB)   \n",
       "1  realme C11 2021 (Cool Grey, 32 GB)   \n",
       "2  realme C11 2021 (Cool Blue, 64 GB)   \n",
       "3  realme C11 2021 (Cool Blue, 32 GB)   \n",
       "4      realme C31 (Dark Green, 32 GB)   \n",
       "\n",
       "                                 Storage_RAM_ROM  \\\n",
       "0  4 GB RAM | 64 GB ROM | Expandable Upto 512 GB   \n",
       "1  2 GB RAM | 32 GB ROM | Expandable Upto 256 GB   \n",
       "2  4 GB RAM | 64 GB ROM | Expandable Upto 256 GB   \n",
       "3  2 GB RAM | 32 GB ROM | Expandable Upto 256 GB   \n",
       "4    3 GB RAM | 32 GB ROM | Expandable Upto 1 TB   \n",
       "\n",
       "            Display_size_Resolution             ProcessorAndCores  \\\n",
       "0  16.59 cm (6.53 inch) HD+ Display  MediaTek Helio G35 Processor   \n",
       "1   16.51 cm (6.5 inch) HD+ Display           Octa-core Processor   \n",
       "2   16.51 cm (6.5 inch) HD+ Display           Octa-core Processor   \n",
       "3   16.51 cm (6.5 inch) HD+ Display           Octa-core Processor   \n",
       "4   16.56 cm (6.52 inch) HD Display         Unisoc T612 Processor   \n",
       "\n",
       "                                Battery   Price  \n",
       "0  5000 mAh Lithium-ion Polymer Battery  ₹9,499  \n",
       "1                      5000 mAh Battery  ₹7,499  \n",
       "2                      5000 mAh Battery  ₹8,999  \n",
       "3                      5000 mAh Battery  ₹7,499  \n",
       "4                      5000 mAh Battery  ₹9,299  "
      ]
     },
     "execution_count": 230,
     "metadata": {},
     "output_type": "execute_result"
    }
   ],
   "source": [
    "FlipKart.head()"
   ]
  },
  {
   "cell_type": "code",
   "execution_count": 231,
   "id": "946a2a0d",
   "metadata": {},
   "outputs": [
    {
     "data": {
      "text/plain": [
       "(24, 6)"
      ]
     },
     "execution_count": 231,
     "metadata": {},
     "output_type": "execute_result"
    }
   ],
   "source": [
    "FlipKart.shape"
   ]
  },
  {
   "cell_type": "code",
   "execution_count": 232,
   "id": "75aa7047",
   "metadata": {},
   "outputs": [],
   "source": [
    "FlipKart.to_csv('mobiles.csv')"
   ]
  },
  {
   "cell_type": "code",
   "execution_count": 233,
   "id": "121a8345",
   "metadata": {},
   "outputs": [],
   "source": [
    "driver.close()"
   ]
  },
  {
   "cell_type": "markdown",
   "id": "89f149a7",
   "metadata": {},
   "source": [
    "### 5. Write a program to scrap geospatial coordinates (latitude, longitude) of a city searched on google maps. "
   ]
  },
  {
   "cell_type": "code",
   "execution_count": 239,
   "id": "c4c87279",
   "metadata": {},
   "outputs": [],
   "source": [
    "driver = webdriver.Chrome(r\"C:\\Users\\dell\\Downloads\\chromedriver_win32\\chromedriver.exe\")"
   ]
  },
  {
   "cell_type": "code",
   "execution_count": 240,
   "id": "9ba48117",
   "metadata": {},
   "outputs": [
    {
     "name": "stdout",
     "output_type": "stream",
     "text": [
      "Enter City Name : Guntur\n",
      "URL Extracted:  https://www.google.co.in/maps/@17.8760325,79.522751,7z\n",
      "Error:  name 're' is not defined\n"
     ]
    }
   ],
   "source": [
    "# opening google maps\n",
    "driver.get(\"https://www.google.co.in/maps\")\n",
    "time.sleep(3)\n",
    "\n",
    "city = input('Enter City Name : ')                                         # Enter city to be searched\n",
    "search = driver.find_element_by_id(\"searchboxinput\")                       # locating search bar\n",
    "search.clear()                                                             # clearing search bar\n",
    "time.sleep(2)\n",
    "search.send_keys(city)                                                     # entering values in search bar\n",
    "button = driver.find_element_by_id(\"searchbox-searchbutton\")               # locating search button\n",
    "button.click()                                                             # clicking search button\n",
    "time.sleep(3)\n",
    "\n",
    "try:\n",
    "    url_string = driver.current_url\n",
    "    print(\"URL Extracted: \", url_string)\n",
    "    lat_lng = re.findall(r'@(.*)data',url_string)\n",
    "    if len(lat_lng):\n",
    "        lat_lng_list = lat_lng[0].split(\",\")\n",
    "        if len(lat_lng_list)>=2:\n",
    "            lat = lat_lng_list[0]\n",
    "            lng = lat_lng_list[1]\n",
    "        print(\"Latitude = {}, Longitude = {}\".format(lat, lng))\n",
    "\n",
    "except Exception as e:\n",
    "        print(\"Error: \", str(e))"
   ]
  },
  {
   "cell_type": "code",
   "execution_count": 241,
   "id": "0ee9d3b0",
   "metadata": {},
   "outputs": [],
   "source": [
    "driver.close()"
   ]
  },
  {
   "cell_type": "markdown",
   "id": "01db8ef9",
   "metadata": {},
   "source": [
    "### 6. Write a program to scrap details of all the funding deals for second quarter (i.e Jan 21 – March 21) from trak.in. "
   ]
  },
  {
   "cell_type": "code",
   "execution_count": 242,
   "id": "1a4d408e",
   "metadata": {},
   "outputs": [],
   "source": [
    "driver = webdriver.Chrome(r\"C:\\Users\\dell\\Downloads\\chromedriver_win32\\chromedriver.exe\")"
   ]
  },
  {
   "cell_type": "code",
   "execution_count": 243,
   "id": "3d01275f",
   "metadata": {},
   "outputs": [],
   "source": [
    "url1=\"https://trak.in/india-startup-funding-investment-2015/\""
   ]
  },
  {
   "cell_type": "code",
   "execution_count": 244,
   "id": "c549cc25",
   "metadata": {},
   "outputs": [],
   "source": [
    "driver.get(url1)"
   ]
  },
  {
   "cell_type": "code",
   "execution_count": 245,
   "id": "0e8b1610",
   "metadata": {},
   "outputs": [],
   "source": [
    "Dates=[]\n",
    "Company=[]\n",
    "Industry=[]\n",
    "Investor_Name=[]\n",
    "Investment_Type=[]\n",
    "Amount=[]"
   ]
  },
  {
   "cell_type": "code",
   "execution_count": 246,
   "id": "60aa8464",
   "metadata": {},
   "outputs": [
    {
     "name": "stdout",
     "output_type": "stream",
     "text": [
      "392 ['BYJU’S', 'Meesho', 'Swiggy', 'Groww', 'Beldara', 'DealShare', 'Uniphore', 'Dunzo', 'BYJU’S', 'SkilloVilla', 'CityMall', 'DotPe', 'Doubtnut', 'Zomato', 'Fingerlix', 'Zolve', 'KreditBee', 'Pepperfry', 'Grofers', 'Nothing', 'SplashLearn', 'Digit Insurance', 'Bombay Shaving Company', 'DeHaat', 'Darwinbox', 'mfine', 'Udayy', 'True Elements', 'Saveo', 'Bira 91', 'Pine Labs', 'Zenoti', 'Tax Buddy India', 'Delhivery', 'PagarBook', 'Codingal', 'CRED', 'Bira 91', 'Chumbak', 'Cityflo', 'Shipsy', 'Unacademy', 'Cashfree', 'Credgenics', 'Country Delight', 'Nykaa', 'Betterplace', 'FlexiLoans', 'GetVantage', 'FreshToHome', 'Origo', 'Origo', 'Treebo Hotels', 'Hubilo', 'CredAble', 'Byju’s', 'mCaffeine', 'Qshala', 'Winzo', 'Hippo Video', 'Melorra', '1mg', 'mfine', 'Apna', 'Railofy', 'Practo', 'Medlife', 'HungerBox', 'Dunzo', 'Terra.do', 'Classplus', 'Niyo', 'ZestMoney', 'FreshToHome', 'Eduvanz', 'Flipkart', 'Vedantu', 'Crio', 'goDutch', 'Mystifly', 'JetSynthesys', 'gigIndia', 'PumPumPum', 'FLYX', 'Open Appliances Pvt. Ltd.', 'Drishti Technologies', 'Stellaps', 'Peppermint', 'Jai Kisan', 'Biomoneta', 'Sai Estate Management and Skills Institute', 'LetsTransport', 'WayCool Foods', 'Myelin Foundry', 'Hapramp', 'leap.club', 'Tring', 'Khatabook', 'Vakilsearch', 'Lendingkart', 'No Worry No Tension Healthcare (NWNT)', 'Classplus', 'Nykaa', 'Magicpin', 'LetsTransport', 'Vedantu', 'Swiggy', 'Zupee', 'DeHaat', 'BigBasket', 'Fingerlix', 'Nykaa', 'Recko', 'Soxytoes', 'Chqbook.com', 'Paperboat', 'CollegeKhabri', 'FamPay', 'MultiLiving', 'Ola Electric', 'Mera Kisan', '1mg', 'RACEnergy', 'Adonmo', 'DoubtNut', 'MultiplyMyLeads', 'Embibe', 'FirstCry', 'Pepperfry', 'MaxWholesale', 'Dot', 'BYJU’S', 'Shuttl', 'Mamaearth', 'https://www.wealthbucket.in/', 'Fashor', 'Pando', 'Zomato', 'Ecozen', 'CarDekho', 'Dhruva Space', 'Rivigo', 'Healthians', 'Licious', 'InCred', 'Trell', 'Rein Games', 'Lenskart.com', 'Freshworks', 'Misters', 'Sunstone Eduversity Pvt. Ltd', 'Burger Singh', 'Healthians', 'Ninjacart', 'Aye Finance', 'SuperGaming', 'Clumio', 'eBikeGo', 'Dunzo', 'Udaan', 'The Man Company', 'FPL Technologies', 'Cashflo', 'Digital F5', '3rdFlix', '75F', 'Myelin Foundry', 'Atomberg Technology', 'GOQii', 'Vyapar App', '', 'CarDekho', 'Progcap', 'MyPetrolPump', 'Alteria Capital', 'Pine Labs', 'Meesho', 'Cars24', 'Uniphore', 'Zendrive', 'Lo! Foods', 'RenewBuy', 'Atlan', 'WizCounsel', 'Ola Cabs', 'Uniphore', 'Daalchini Technologies', \"BYJU'S\", 'Moglix', 'Ezyhaul', 'Indus OS', 'NoBroker', 'Bira91', 'FabHotels', 'Avail Finance', 'BharatPe', 'Recykal', 'Agara Labs', 'Sistema.bio', 'Chakr Innovation', 'Pratilipi', 'Ola Electric', 'Saahas Zero Waste', 'StyleDotMe', 'BlackBuck', 'Zenoti', 'Ather Energy', 'FreshVnF', 'GlowRoad', 'Bira91', 'Kuvera', 'Medlife', 'Kabadiwala', 'Tripoto', 'Azah', 'Setu', 'Toppr', 'Craftsvilla', 'Unacademy', 'CleverTap', 'FleetX', 'Zilingo', 'NanoClean Global', 'OyoRooms', 'CarDekho', 'Vyome Therapeutics Inc.', 'Samunnati Financial Intermediation & Services Pvt. Ltd', 'Manch', 'UrbanClap Technologies Pvt. Ltd', 'Guiddoo', 'Career Anna', 'Nagpur Wholesale', 'ShopKirana', 'BuildSupply', 'GoDesi', 'Veritas Finance Ltd.', 'Meesho', 'Mobile Premier League', 'A&R Bon Vivants', 'Blackbuck', 'MilkBAsket', 'DriveU', 'CleanseCar', 'Automation Anywhere', 'Northmist', 'Origo Commodities India Pvt. Ltd', 'Grover Zampa', 'Droom', 'Innov8', 'Blackbuck', 'LetsTransport', 'Netmeds', 'Udaan', 'Daily hunt', '3HCare', 'HappyGoEasy', 'Nykaa', 'Mad Street Den', 'Dream11', 'MamaEarth', 'AutoGrid', 'dishq', 'HealthFin', 'Samosa Labs', 'ZiffyHomes', 'My OmNamo', 'ShopX', 'MakeMyTrip', 'Hansel io', 'Metro Bikes', 'Phone Pe', 'Leena AI', 'Biryani By Kilo', 'Anchanto', 'Loan Tap', 'PolicyBazaar', 'zippserv', 'Groww', 'Avenue Growth', 'iNICU', 'Kinara Capital', 'Northmist', 'Origo Commodities India Pvt. Ltd', 'Grover Zampa', 'Droom', 'Innov8', 'Blackbuck', 'LetsTransport', 'Netmeds', 'Udaan', 'Daily hunt', '3HCare', 'HappyGoEasy', 'Nykaa', 'Mad Street Den', 'Dream11', 'MamaEarth', 'AutoGrid', 'dishq', 'HealthFin', 'Samosa Labs', 'ZiffyHomes', 'My OmNamo', 'ShopX', 'MakeMyTrip', 'Hansel io', 'Metro Bikes', 'Phone Pe', 'Leena AI', 'Biryani By Kilo', 'Anchanto', 'Loan Tap', 'PolicyBazaar', 'zippserv', 'Groww', 'Avenue Growth', 'iNICU', 'Kinara Capital', 'Northmist', 'Origo Commodities India Pvt. Ltd', 'Grover Zampa', 'Droom', 'Innov8', 'Blackbuck', 'LetsTransport', 'Netmeds', 'Udaan', 'Daily hunt', '3HCare', 'HappyGoEasy', 'Nykaa', 'Mad Street Den', 'Dream11', 'MamaEarth', 'AutoGrid', 'dishq', 'HealthFin', 'Samosa Labs', 'ZiffyHomes', 'My OmNamo', 'ShopX', 'MakeMyTrip', 'Hansel io', 'Metro Bikes', 'Phone Pe', 'Leena AI', 'Biryani By Kilo', 'Anchanto', 'Loan Tap', 'PolicyBazaar', 'zippserv', 'Groww', 'Avenue Growth', 'iNICU', 'Kinara Capital', 'Northmist', 'Origo Commodities India Pvt. Ltd', 'Grover Zampa', 'Droom', 'Innov8', 'Blackbuck', 'LetsTransport', 'Netmeds', 'Udaan', 'Daily hunt', '3HCare', 'HappyGoEasy', 'Nykaa', 'Mad Street Den', 'Dream11', 'MamaEarth', 'AutoGrid', 'dishq', 'HealthFin', 'Samosa Labs', 'ZiffyHomes', 'My OmNamo', 'ShopX', 'MakeMyTrip', 'Hansel io', 'Metro Bikes', 'Phone Pe', 'Leena AI', 'Biryani By Kilo', 'Anchanto', 'Loan Tap', 'PolicyBazaar', 'zippserv', 'Groww', 'Avenue Growth', 'iNICU', 'Kinara Capital']\n"
     ]
    }
   ],
   "source": [
    "#scraping the company_name \n",
    "companies=driver.find_elements_by_xpath(\"//td[@class='column-3']\")\n",
    "for i in companies:\n",
    "    if i.text is None :\n",
    "        Company.append(\"--\") \n",
    "    else:\n",
    "        Company.append(i.text)\n",
    "print(len(Company),Company)"
   ]
  },
  {
   "cell_type": "code",
   "execution_count": 247,
   "id": "ce28681a",
   "metadata": {},
   "outputs": [
    {
     "name": "stdout",
     "output_type": "stream",
     "text": [
      "392 ['Edu-tech', 'E-commerce', 'Online Food Delivery', 'FinTech', 'E-commerce', 'E-commerce', 'Technology', 'E-commerce', 'Edu-tech', 'Edu-tech', 'E-commerce', 'FinTech', 'Edu Tech', 'Hospitality', 'Hospitality', 'FinTech', 'Finance', 'E-commerce', 'E-Commerce', 'Technology', 'EdTech', 'Financial Services', 'Consumer Goods Company', 'AgriTech Startup', 'SaaS', 'Health Tech Startup', 'EdTech', 'Food Startup', 'B2B E-commerce', 'Food and Beverage', 'Financial Services', 'Technology Provider', 'FinTech', 'Supply chain', 'SaaS', 'EduTech', 'Financial Services', 'Food and Beverage', 'Lifestyle', 'Transportation', 'SaaS', 'Edutech', 'FinTech', 'Fintech', 'Dairy Tech', 'E-commerce', 'Digital Solutions', 'FinTech', 'FinTech', 'E-commerce', 'AgriTech', 'Advertising', 'Hospitality', 'Information Technology', 'FinTech', 'EduTech', 'Personal Care', 'EduTech', 'Online Gaming', 'Video Customer Experience(CX) Platform', 'E-commerce', 'E-commerce', 'HealthTech', 'Human Resources', 'Transportation', 'HealthTech', 'E-commerce', 'FoodTech', 'Hyper-local Logistics', 'EduTech', 'EduTech', 'FinTech', 'FinTech', 'E-commerce', 'FinTech', 'E-commerce', 'EduTech', 'EduTech', 'FinTech', 'Airfare Marketplace', 'Gaming and Entertainment', 'Marketplace', 'Automotive Rental', 'OTT Player', 'Information Technology', 'Technology', 'AgriTech', 'Industrial Robotics', 'Rural FinTech', 'BioTech', 'EdTech', 'Logistics Solution Provider', 'AgriTech', 'Deep Tech AI', 'Block Chain, Cryptocurrency', 'Professional Network for Women', 'Advertising', 'Utility Solutions Provider', 'LegalTech', 'FinTech', 'Healthcare', 'EduTech', 'E-commerce', 'E-commerce', 'Logistics Solution Provider', 'EduTech', 'Online Food Delivery', 'Gaming', 'AgriTech', 'E-commerce', 'Food Delivery', 'E-commerce', 'Digital Reconcilation and Financial Services', 'E-commerce', 'Finance', 'E-commerce', 'EduTech', 'Finance', 'Real Estate', 'Transport', 'Food Production', 'E-commerce', 'Transportation', 'Advertising', 'Education', 'Real Estate', 'EduTech', 'E-commerce', 'E-commerce', 'E-commerce', 'Information Technology and Services', 'E-Tech', 'Transportation', 'E-commerce', 'FinTech', 'Fashion and Apparel', 'Logistics', 'Hospitality', 'Technology', 'E-Commerce', 'Aerospace', 'Technology', 'B2B-focused foodtech startup', 'E-Commerce', 'Finance', 'Video', 'Gaming', 'E-Commerce', 'Software', 'Health and wellness', 'Education', 'Food and Beverage', 'Health and Wellness', 'B2B Marketing', 'FinTech', 'Video Games', 'SaaS', 'Last Mile Transportation', 'Customer Service', 'B2B', 'Consumer Goods', 'FinTech', 'FinTech', 'Advertising, Marketing', 'SaaS', 'IoT', 'Information Technology', 'Consumer Technology', 'Health and Wellness', 'Accounting', '', 'E-Commerce', 'Finance', 'Retail', 'Finance', 'Information Technology', 'E-Commerce', 'E-Commerce', 'Customer Service Platform', 'Automotive', 'Consumer Goods', 'Finance', 'Information Technology', 'Compliance', 'Transport', 'Artificial Intelligence', 'Food and Beverage', 'EdTech', 'E-Commerce', 'Tech', 'Tech', 'E-Commerce', 'Food and Beverage', 'E-Commerce', 'Finance', 'Finance', 'Waste Management Service', 'Deep-Tech', 'Agriculture', 'Energy', 'Digital Media', 'Transport', 'Waste Management Service', 'E-commerce', 'Transport', 'Saas', 'Automobile', 'Agtech', 'E-commerce', 'Food and Beverage', 'Finance', 'E-commerce', 'E-commerce', 'Social Media', 'Health and Wellness', 'Fintech', 'Edtech', 'E-commerce', 'Edtech', 'SaaS', 'AI', 'Ecommerce', 'Nanotechnology', 'Hospitality', 'Automobile', 'Health and Wellness', 'Finance', 'Social Media', 'Services Platform', 'Travel Tech', 'Online Education', 'Online Marketplace', 'B2B', 'SaaS, Ecommerce', 'Food and Beverage', 'NBFC', 'Ecommerce', 'Gaming', 'Food', 'Food Tech', 'Food', 'Transport', 'Services', 'Automation', 'Fashion', 'Logistics', 'Food', 'Automobile', 'Real Estate', 'Logistics Tech', 'Logistics Tech', 'Consumer Internet', 'B2B Platform', 'Consumer Internet', 'Healthcare', 'Consumer Internet', 'Consumer Internet', 'Technology', 'Consumer Internet', 'Healthcare', 'Technology', 'Food-Tech', 'Finance', 'Consumer Internet', 'Consumer Internet', 'Consumer Internet', 'Consumer Internet', 'Consumer Internet', 'Consumer Internet', 'Consumer Internet', 'Consumer Internet', 'Technology', 'Consumer Internet', 'IT', 'Consumer Internet', 'Consumer Internet', 'Consumer Internet', 'Consumer Internet', 'Consumer Internet', 'Healthcare', 'Finance', 'Fashion', 'Logistics', 'Food', 'Automobile', 'Real Estate', 'Logistics Tech', 'Logistics Tech', 'Consumer Internet', 'B2B Platform', 'Consumer Internet', 'Healthcare', 'Consumer Internet', 'Consumer Internet', 'Technology', 'Consumer Internet', 'Healthcare', 'Technology', 'Food-Tech', 'Finance', 'Consumer Internet', 'Consumer Internet', 'Consumer Internet', 'Consumer Internet', 'Consumer Internet', 'Consumer Internet', 'Consumer Internet', 'Consumer Internet', 'Technology', 'Consumer Internet', 'IT', 'Consumer Internet', 'Consumer Internet', 'Consumer Internet', 'Consumer Internet', 'Consumer Internet', 'Healthcare', 'Finance', 'Fashion', 'Logistics', 'Food', 'Automobile', 'Real Estate', 'Logistics Tech', 'Logistics Tech', 'Consumer Internet', 'B2B Platform', 'Consumer Internet', 'Healthcare', 'Consumer Internet', 'Consumer Internet', 'Technology', 'Consumer Internet', 'Healthcare', 'Technology', 'Food-Tech', 'Finance', 'Consumer Internet', 'Consumer Internet', 'Consumer Internet', 'Consumer Internet', 'Consumer Internet', 'Consumer Internet', 'Consumer Internet', 'Consumer Internet', 'Technology', 'Consumer Internet', 'IT', 'Consumer Internet', 'Consumer Internet', 'Consumer Internet', 'Consumer Internet', 'Consumer Internet', 'Healthcare', 'Finance', 'Fashion', 'Logistics', 'Food', 'Automobile', 'Real Estate', 'Logistics Tech', 'Logistics Tech', 'Consumer Internet', 'B2B Platform', 'Consumer Internet', 'Healthcare', 'Consumer Internet', 'Consumer Internet', 'Technology', 'Consumer Internet', 'Healthcare', 'Technology', 'Food-Tech', 'Finance', 'Consumer Internet', 'Consumer Internet', 'Consumer Internet', 'Consumer Internet', 'Consumer Internet', 'Consumer Internet', 'Consumer Internet', 'Consumer Internet', 'Technology', 'Consumer Internet', 'IT', 'Consumer Internet', 'Consumer Internet', 'Consumer Internet', 'Consumer Internet', 'Consumer Internet', 'Healthcare', 'Finance']\n"
     ]
    }
   ],
   "source": [
    "#scraping the Industry \n",
    "Ind=driver.find_elements_by_xpath(\"//td[@class='column-4']\")\n",
    "for i in Ind:\n",
    "    if i.text is None :\n",
    "        Industry.append(\"--\") \n",
    "    else:\n",
    "        Industry.append(i.text)\n",
    "print(len(Industry),Industry)"
   ]
  },
  {
   "cell_type": "code",
   "execution_count": 248,
   "id": "b12e08aa",
   "metadata": {},
   "outputs": [
    {
     "name": "stdout",
     "output_type": "stream",
     "text": [
      "392 ['01/04/2021', '05/04/2021', '14/04/2021', '07/04/2021', '14/04/2021', '04/03/2021', '31/03/2021', '30/03/2021', '30/03/2021', '23/03/2021', '25/03/2021', '26/03/2021', '11/02/2021', '22/02/2021', '19/02/2021', '17/02/2021', '15/02/2021', '12/02/2021', '12/02/2021', '09/02/2021', '09/02/2021', '15/01/2021', '28/01/2021', '19/01/2021', '19/01/2021', '18/01/2021', '18/01/2021', '11/01/2021', '13/01/2021', '15/12/2020', '21/12/2020', '15/12/2020', '22/12/2020', '15/12/2020', '18/12/2020', '30/11/2020', '30/11/2020', '29/11/2020', '27/11/2020', '25/11/2020', '25/11/2020', '25/11/2020', '24/11/2020', '30/11/2020', '23/11/2020', '28/10/2020', '28/10/2020', '28/10/2020', '27/10/2020', '27/10/2020', '27/10/2020', '27/10/2020', '15/10/2020', '26/10/2020', '28/10/2020', '08/09/2020', '12/09/2020', '09/09/2020', '02/09/2020', '09/09/2020', '07/09/2020', '07/09/2020', '31/08/2020', '31/08/2020', '03/09/2020', '15/08/2020', '13/08/2020', '13/08/2020', '04/08/2020', '11/08/2020', '12/08/2020', '14/08/2020', '10/08/2020', '07/08/2020', '13/08/2020', '15/07/2020', '16/07/2020', '16/07/2020', '14/07/2020', '13/07/2020', '09/07/2020', '10/07/2020', '15/07/2020', '14/07/2020', '13/07/2020', '18/06/2020', '17/06/2020', '17/06/2020', '16/06/2020', '16/06/2020', '15/06/2020', '15/06/2020', '10/06/2020', '11/06/2020', '10/06/2020', '21/05/2020', '20/05/2020', '20/05/2020', '19/05/2020', '19/05/2020', '21/05/2020', '05/05/2020', '11/05/2020', '13/05/2020', '18/05/2020', '09/04/2020', '06/04/2020', '08/04/2020', '07/04/2020', '15/04/2020', '08/04/2020', '31/03/2020', '02/04/2020', '04/03/2020', '02/03/2020', '06/03/2020', '13/03/2020', '12/03/2020', '12/03/2020', '12/03/2020', '12/03/2020', '03/02/2020', '03/02/2020', '31/01/2020', '31/01/2020', '30/01/2020', '03/02/2020', '10/02/2020', '10/02/2020', '18/02/2020', '06/02/2020', '09/01/2020', '13/01/2020', '09/01/2020', '02/01/2020', '02/01/2020', '13/01/2020', '10/01/2020', '12/12/2019', '06/12/2019', '3/12/2019', '13/12/2019', '17/12/2019', '16/12/2019', '16/12/2019', '14/12/2019', '11/12/2019', '20/12/2019', '13/11/2019', '14/11/2019', '13/11/2019', '17/11/2019', '18/11/2019', '15/11/2019', '20/11/2019', '12/11/2019', '20/11/2019', '11/11/2019', '04/10/2019', '02/10/2019', '21/10/2019', '05/09/2019', '04/09/2019', '04/09/2019', '04/09/2019', '04/09/2019', '04/09/2019', '04/09/2019', '04/09/2019', '03/09/2019', '', '01/08/2019', '01/08/2019', '01/08/2019', '01/08/2019', '01/08/2019', '12/08/2019', '13/08/2019', '13/08/2019', '23/08/2019', '23/08/2019', '02/07/2019', '02/07/2019', '01/07/2019', '03/07/2019', '01/07/2019', '04/07/2019', '10/07/2019', '11/07/2019', '10/07/2019', '10/07/2019', '05/06/2019', '04/06/2019', '03/06/2019', '03/06/2019', '04/06/2019', '04/06/2019', '03/06/2019', '06/06/2019', '06/06/2019', '06/06/2019', '06/05/2019', '06/05/2019', '05/05/2019', '01/05/2019', '02/05/2019', '28/05/2019', '28/05/2019', '30/05/2019', '31/05/2019', '16/04/2019', '12/04/2019', '10/04/2019', '13/04/2019', '12/04/2019', '11/04/2019', '10/04/2019', '10/04/2019', '10/04/2019', '11/04/2019', '1/02/2019', '8/02/2019', '13/02/2019', '14/02/2018', '03/01/2019', '04/01/2019', '04/01/2019', '04/12/2018', '01/12/2018', '02/12/2018', '02/12/2018', '04/12/2018', '06/12/2018', '06/12/2018', '01/11/2018', '03/11/2018', '06/11/2018', '08/11/2018', '8/11/2018', '12/11/2018', '12/11/2018', '13/11/2018', '14/11/2018', '19/11/2018', '01/10/2018', '02/10/2018', '04/10/2018', '05/10/2018', '11/10/2018', '12/10/2018', '12/10/2018', '01/09/2018', '03/09/2018', '03/09/2018', '04/09/2018', '04/09/2018', '05/09/2018', '05/09/2018', '06/09/2018', '10/09/2018', '11/09/2018', '01/08/2018', '01/08/2018', '02/08/2018', '03/08/2018', '07/08/2018', '07/08/2018', '07/08/2018', '08/08/2018', '08/08/2018', '08/08/2018', '01/07/2018', '02/07/2018', '04/07/2018', '05/072018', '06/07/2018', '09/07/2018', '09/07/2018', '10/07/2018', '10/07/2018', '10/07/2018', '01/10/2018', '02/10/2018', '04/10/2018', '05/10/2018', '11/10/2018', '12/10/2018', '12/10/2018', '01/09/2018', '03/09/2018', '03/09/2018', '04/09/2018', '04/09/2018', '05/09/2018', '05/09/2018', '06/09/2018', '10/09/2018', '11/09/2018', '01/08/2018', '01/08/2018', '02/08/2018', '03/08/2018', '07/08/2018', '07/08/2018', '07/08/2018', '08/08/2018', '08/08/2018', '08/08/2018', '01/07/2018', '02/07/2018', '04/07/2018', '05/072018', '06/07/2018', '09/07/2018', '09/07/2018', '10/07/2018', '10/07/2018', '10/07/2018', '01/10/2018', '02/10/2018', '04/10/2018', '05/10/2018', '11/10/2018', '12/10/2018', '12/10/2018', '01/09/2018', '03/09/2018', '03/09/2018', '04/09/2018', '04/09/2018', '05/09/2018', '05/09/2018', '06/09/2018', '10/09/2018', '11/09/2018', '01/08/2018', '01/08/2018', '02/08/2018', '03/08/2018', '07/08/2018', '07/08/2018', '07/08/2018', '08/08/2018', '08/08/2018', '08/08/2018', '01/07/2018', '02/07/2018', '04/07/2018', '05/072018', '06/07/2018', '09/07/2018', '09/07/2018', '10/07/2018', '10/07/2018', '10/07/2018', '01/10/2018', '02/10/2018', '04/10/2018', '05/10/2018', '11/10/2018', '12/10/2018', '12/10/2018', '01/09/2018', '03/09/2018', '03/09/2018', '04/09/2018', '04/09/2018', '05/09/2018', '05/09/2018', '06/09/2018', '10/09/2018', '11/09/2018', '01/08/2018', '01/08/2018', '02/08/2018', '03/08/2018', '07/08/2018', '07/08/2018', '07/08/2018', '08/08/2018', '08/08/2018', '08/08/2018', '01/07/2018', '02/07/2018', '04/07/2018', '05/072018', '06/07/2018', '09/07/2018', '09/07/2018', '10/07/2018', '10/07/2018', '10/07/2018']\n"
     ]
    }
   ],
   "source": [
    "#scraping the Dates \n",
    "dt=driver.find_elements_by_xpath(\"//td[@class='column-2']\")\n",
    "for i in dt:\n",
    "    if i.text is None :\n",
    "        Dates.append(\"--\") \n",
    "    else:\n",
    "        Dates.append(i.text)\n",
    "print(len(Dates),Dates)"
   ]
  },
  {
   "cell_type": "code",
   "execution_count": 249,
   "id": "0ce9f83b",
   "metadata": {},
   "outputs": [
    {
     "name": "stdout",
     "output_type": "stream",
     "text": [
      "392 ['Innoven Capital', 'SoftBank Vision Fund 2', 'Amansa Holdings, Carmignac, Falcon Edge Capital, Goldman Sachs, Think Investments', 'MC Global Edtech, B Capital, Baron, others', 'Hindustan Media Ventures', 'Innoven Capital', 'Sorenson Capital Partners', 'Krishtal Advisors Pte Ltd', 'MC Global Edtech, B Capital, Baron, others', 'Titan Capital, others', 'Accel Partners', 'PayU', 'SIG Global, Sequoia Capital, WaterBridge Ventures and ON Mauritius', 'Tiger Global, Kora', 'Rhodium Trust, Accel Partners and Swiggy', 'Accel Partners and Lightspeed Venture Partners', 'Azim Premji’s PremjiInvest and South Korea’s Mirae Asset Venture', 'InnoVen Capital', 'SoftBank Vision Fund (SVF)', 'GV', 'Owl Ventures', 'A91 Partners, Faering Capital, TVS Capital Funds', 'Reckitt Benckiser', 'Prosus Ventures', 'Salesforce Ventures', 'Heritas Capital Management', 'Sequoia Capital', 'SIDBI Venture Capital', 'Matrix Partners India, RTP Global, others', 'Nishant Mittal, Pankaj Chaddah and Shikha Sunil Chandak', 'Lone Pine Capital', 'Advent International', 'Zenith Global', 'Steadview Capital', 'Sequoia Capital', 'Rebright Partners, Java Capital, and GSF Accelerator', 'DST Global', 'Sofina, Sequoia Capital, Sixth Sense Ventures, Neoplux', 'Gaja Capital Fund (GCFII-A)', 'Lightbox Ventures', 'Sequoia Capital India’s Surge, Info Edge', 'Tiger Global Management, Dragoneer Investment Group', 'Matrix Partners India, SAIF Partners, Ward Ferry Management and Bertelsmann India', 'Venture Capital firm, Accel Partners and DMI Finance', 'Elevation Capital', 'Alia Bhatt', 'Jungle Ventures', 'Falguni and Sanjay Nayar Family Office', 'Chiratae Ventures, Dream Incubators', 'Corporation of Dubai (ICD), Ascent Capital, DFC, the Allana Group', 'Northern Arc Capital', 'Sequoia Capital India', 'Matrix Partners India, SAIF Partners, Ward Ferry Management and Bertelsmann India', 'Lightspeed Venture Partners', 'Oaks Asset Management and V’Ocean Investment', 'Silver Lake, Tiger Global, General Atlantic and Owl Ventures', 'Amicus Capital Private Equity I LLP, Amicus Capital Partners India Fund I and RP-SG Venture Fund 1', 'Rainmatter Capital', 'Kalaari Capital Partners, IndigoEdge Management Consultancy', 'Alpha Wave Incubation, Exfinity Venture Partners and existing backers.', 'Shadow Holdings, Lightbox.', 'Gaja Capital, Tata Capital, Partners Group', 'Caretech Pte Inc', 'Lightspeed India and Sequoia Capital India', 'Chiratae Ventures', 'A1A Company', 'Prasid Uno Family Trust and SC Credit Fund', 'One97, Sabre Partners Trust, Pratithi Investment Trust, and Srihari Kumar', 'Existing Backers', 'Stanford Angels and Entrepreneurs (India), BEENEXT Emerging Asia, Rainmatter Capital', 'Falcon Edge', 'Niyo Solutions Inc.', 'Primrose Hills Ventures', 'Ascent Capital', 'Sequoia India, Unitus', 'Walmart Inc', 'Coatue Management', '021 Capital', 'Matrix India,Y Combinator, Global Founders Capital, Soma Capital, and VentureSouq.', 'Recruit Co. Ltd.', 'Adar Poonawalla and Kris Gopalakrishnan.', 'Incubate Fund India and Beyond Next Ventures', 'Early Adapters Syndicate', 'Raj Mishra, founder of AIT Global Inc', 'Unicorn India Ventures', 'Sozo Ventures', 'Stride Ventures', 'Venture Catalysts and Naveen Kshatriya', 'Arkam Ventures and NABVENTURES Fund I', 'Beyond Next Ventures, ArthaVida Ventures and Dr. Aniruddha Malpani', 'Suniel Shetty', 'Stride Ventures', 'Indusland Bank', 'Kris Gopalakrishnan’s family office — Pratithi.', 'Anand Mahindra', 'Whiteboard Capital (Sandeep Tandon’s VC fund), FirstCheque, Artha India Ventures, Sweta Rau (Founder, White Ventures), Amrish Rau (CEO Pinelabs, Founder Citrus Pay), Deepak Abbot (Former SVP, Paytm), and Harpreet Singh Grover (Co-founder, Co-Cubes) and others.', 'Tencent, Ark Impact, KoKalyan Krishnamurthy of Flipkart, Sujeet Kumar of Udaan, Gaurav Munjal of Unacademy, Keshav Sanghi of VentureWorks India, Roman Saini of Unacademy, Hemesh Singh of Unacademy, and Sumit Jain of Opentalk amongst others.', 'B Capital Group, Sequoia India, Partners of DST Global, Tencent, GGV, RTP Global, Hummingbird Ventures, Falcon Edge Capital, Rocketship.vc, Unilever Ventures, Kevin Weil, Alexander Will, Kunal Shah, Kunal Bahl, and Rohit Bansal', 'Udaan co-founder, Sujeet Kumar', 'Fullerton Financial Holdings Pte Ltd (FFH) and Bertelsmann India Investments, Sistema Asia Fund and India Quotient.', 'Amit Burman, Chairman of Dabur India,', \"RTP Global, lume Ventures, Sequoia Capital India's Surge, Spiral Ventures, and Strive.\", 'Steadview Capital', 'Lightspeed Venture Partners, along with the participation of Moonstone Investments, WaterBridge Venture, The Bunting Family Private Fund, and Srivatsan Rajan', 'InnoVen Capital', 'Legend Capital', 'Tencent, Ark Impact, Korea Investment Partners, Samsung Ventures, and Mirae Asset Capital Markets', 'Matrix Partners India, Falcon Edge Capital, WestCap Group, Orios Venture Partners and Smile Group', 'Sequoia Capital India, FMO, Omnivore and AgFunder.', 'Alibaba Group', 'Accel, Zephyr Peacock, Swiggy, and RB Investments', 'Steadview Capital', 'Vertex Ventures Southeast Asia and India and Prime Venture Partners', 'Angel Networks', 'Aavishkaar Capital', 'Advent Management, A91 Emerging Fund, and Trifecta Venture.', 'Vdiec Global', 'Y Combinator, Venture Highway, Sequoia India, and GFC (Global Founders Capital).', 'Lodha Ventures', 'Pawan Munjal Family Trust', 'Ajinkya Rahane', 'Bill & Melinda Gates Foundation', 'GrowX Ventures', 'BAce Capital', 'Tencent Holdings', 'Frontline Strategy Funds and SucSEED Venture Partners.', 'Reliance Industries Limited (RIL)', 'Softbank Vision Fund', 'Pidilite Industries', 'IAN Fund and Al Falaj Investment Co', 'PayU and Fosun RZ Capital', 'Tiger Global Management', 'Susquehanna Growth Equity', 'Sequoia Capital India', 'Vinod Khatumal', 'Sprout Venture Partners', 'Chiratae Ventures', 'Ant Financial', 'Sathguru Catalyzer Advisors', 'Ping An Global Voyager Fund', 'Mumbai Angels, Ravikanth Reddy', 'SAIF Partners, Spring Canter Investment Ltd.', 'Paytm, NPTK, Sabre Partners and Neoplux', 'Vertex Growth Fund', '', 'Ruizheng Investment', 'Manipal Education and Medical Group (MEMG)', 'SoftBank Vision Fund', 'Sequoia, CapitalG, Accel', 'Sauce.vc, Rainforest Ventures', 'Prime Venture Partners, LetsVenture, PS1 Venture and GlobalLogic co-founder Rajul Garg', 'RB Investments', 'DG Daiwa Ventures, DG Incubation', 'Trifecta Capital Advisors', 'FinTech', 'Dream Incubator', 'Altimeter Capital, Sutter Hill Ventures', 'Startup Buddy', 'Lightbox', 'Altimeter Capital, DST Global', 'Ayushmann Khurana', 'Matrix Partners India, Sequoia India', 'SAIF Partners', 'TIW Private Equity', 'Exfinity Venture Partners', 'Breakthrough Energy Ventures', 'Endiya Partners', 'A91 Partners', 'Bennett Coleman and Company Ltd (BCCL)', 'India Quotient, Axilor Ventures', '', 'SC GG India Mobility Holdings LLC', 'Sequoia India', '', 'Azim Premji, Binny Bansal', 'Pine Labs Pte Ltd', 'Naspers', 'MS Dhoni', 'March Capital Partners', 'XL Innovate', 'Rashmi Daga (founder, FreshMenu), Raveen Sastry (co-founder, Myntra) and Mitesh Shah (finance chief, BookMyShow)', 'Lok Capital, IIFL Wealth', 'WaterBridge Ventures', 'Kapil Dev', 'DIG Investment Ab, Deshe Holdings, Samih Toukan and Hussam Khoury', 'March Capital Partners', 'Artha Venture', 'Qatar Investment Authority', 'Composite Capital Management, Sequoia Capital India, Tiger Global Management', 'Undisclosed', 'Ventureast', 'General Atlantic', 'Anicut Capital', 'Goldman Sachs, Accel Partners and Qualcomm', 'Matrix Partners', 'Insight Partners', 'Triton Investment Advisors, Pidilite Industries director Ajay Parekh', 'Blume Ventures and RTP Global', 'Shell Foundation, DILA CAPITAL, Engie RDE Fund, EcoEnterprise Fund, EDFIMC (ElectriFI), Endeavor Catalyst Fund, CoCapital, Triodos, Alpha Mundi, and Lendahand', 'IAN Fund', 'Qiming Venture Partners', 'Tata Sons', 'C4D Partners', 'Indian Angel Network and other angel investors, Innov8 founder Ritesh Malik, Josh Talks founders Supriya Paul and Shobha Banga, and former Hero Corporate president Rohit Chanana', 'Goldman Sachs Investment Partners and Silicon Valley-based Accel, Wellington, Sequoia Capital, B Capital, LightStreet, Sands Capital and International Finance Corporation,', 'Tiger Global Management', 'Sachin Bansal', 'Equanimity Ventures', 'Korea Investment Partners, Vertex Ventures', 'Sixth Sense Ventures', 'Eight Roads', 'Prasid Uno Family Trust', 'Unilever, Beehive Capital Advisor, ABCOM Investments, Parekh Marine Transport,', 'Orchid India, Hornbill Orchid India Fund, Chiratae Ventures (formerly IDG Ventures), 3one4 Capital, Lasmer NV', 'Unnamed angel investors', 'Lightspeed India Partners', 'Milestone', 'Supera Pte Ltd', 'Kalyan Krishnamurthy', 'Sequoia India, Tiger Global Management, Accel Partners', 'India Quotient and LetsVenture’s Angel Fund', 'Sequoia Capital and Temasek Holdings, EDBI, Burda Principal Investments, and Sofina', 'LetsVenture, PitchRight Venture, 91SpringBoard, AL Nour International Holdings and Mark V Investments', 'DiDi Chuxing', 'Sequoia India, Hillhouse Capital, Alphabet’s growth investment arm Capital G and Axis Bank', 'Iron Pillar, Perceptive Advisors, Romulus Capital and Kalaari Capital', 'MASSIF, a Dutch government fund', 'Stellaris Venture Partners', 'Steadview Capital and Vy Capital.', 'Individual Investors', 'Individual Investors', 'Omphalos Ventures India LLP', 'Info Edge, AET Fund, Akatsuki and Incubate Fund from Japan and Better Capital AngelList syndicate.', 'Venture Highway, GREE Ventures, Space Matrix, Individual Investors', 'Lead Angels Network', 'Norwest Venture Partners, CDC Group, the UK’s Development Finance Institution and P Surendra Pai', 'Shunwei Capital, DST Partners and RPS Ventures', 'Undisclosed', 'RB Investments, Singapore', 'Tiger Global', 'Mayfield Fund', 'Stevens Creek Ventures', 'Venture Catalysts', 'SoftBank Vision Fund', 'Prashant Jaiswal', 'Cooperative Oikocredit, Caspian and Hivos-Triodos Fund', 'Ravi Viswanathan', 'ZigExN', 'Credence Family Office', 'Sequoia Capital India', 'Fosun International', 'Sistema Asia Fund, Sistema JSFC and Tanncam Investment', 'DST Global and Lightspeed Venture Partners’ global fund.', 'Falcon Edge', 'N/A', 'Korea Investment Partners (KIP), Samsung and China-based CITIC Capital and others', 'Lighthouse', 'KDDI ', 'Tencent, Kalaari Capital and Private equity firm Multiples Alternate Asset Management', 'Stellaris Ventures & Others', 'CLP Holdings Group, Innogy, Ørstead, and Tenaska', 'Farm To Fork, Arts Alliance, The Syndicate Fund, Sven Hensen, Zeroth and Artesian Venture Partners', 'Axilor, Sprout Venture Partners and others', 'Xiaomi and Sequoia Capital India', 'Y Combinator', 'N/A', 'Fung Strategic Holdings', 'MakeMyTrip Limited', 'Vertex Ventures', 'Sequoia Capital India Advisors, Accel Partners and G Raghunandan', 'Flipkart', 'Y Combinator', 'Ajay Relan and Vinay Mittal', 'MDI Ventures & Telkom Indonesia', 'Shunwei Capital, Tuscan Ventures, Ashish Goenka, VC firms India Quotient and Kae Capital', 'Info Edge (India) Ltd and Temasek', 'Info Edge (India) Ltd', 'Insignia Ventures Partners, Lightbridge Partners & Kairos', 'Avtar Monga, chief operating office at IDFC Bank, Aditya Malik & Others', 'Venture Catalysts', 'ResponsAbility', 'Prashant Jaiswal', 'Cooperative Oikocredit, Caspian and Hivos-Triodos Fund', 'Ravi Viswanathan', 'ZigExN', 'Credence Family Office', 'Sequoia Capital India', 'Fosun International', 'Sistema Asia Fund, Sistema JSFC and Tanncam Investment', 'DST Global and Lightspeed Venture Partners’ global fund.', 'Falcon Edge', 'N/A', 'Korea Investment Partners (KIP), Samsung and China-based CITIC Capital and others', 'Lighthouse', 'KDDI ', 'Tencent, Kalaari Capital and Private equity firm Multiples Alternate Asset Management', 'Stellaris Ventures & Others', 'CLP Holdings Group, Innogy, Ørstead, and Tenaska', 'Farm To Fork, Arts Alliance, The Syndicate Fund, Sven Hensen, Zeroth and Artesian Venture Partners', 'Axilor, Sprout Venture Partners and others', 'Xiaomi and Sequoia Capital India', 'Y Combinator', 'N/A', 'Fung Strategic Holdings', 'MakeMyTrip Limited', 'Vertex Ventures', 'Sequoia Capital India Advisors, Accel Partners and G Raghunandan', 'Flipkart', 'Y Combinator', 'Ajay Relan and Vinay Mittal', 'MDI Ventures & Telkom Indonesia', 'Shunwei Capital, Tuscan Ventures, Ashish Goenka, VC firms India Quotient and Kae Capital', 'Info Edge (India) Ltd and Temasek', 'Info Edge (India) Ltd', 'Insignia Ventures Partners, Lightbridge Partners & Kairos', 'Avtar Monga, chief operating office at IDFC Bank, Aditya Malik & Others', 'Venture Catalysts', 'ResponsAbility', 'Prashant Jaiswal', 'Cooperative Oikocredit, Caspian and Hivos-Triodos Fund', 'Ravi Viswanathan', 'ZigExN', 'Credence Family Office', 'Sequoia Capital India', 'Fosun International', 'Sistema Asia Fund, Sistema JSFC and Tanncam Investment', 'DST Global and Lightspeed Venture Partners’ global fund.', 'Falcon Edge', 'N/A', 'Korea Investment Partners (KIP), Samsung and China-based CITIC Capital and others', 'Lighthouse', 'KDDI ', 'Tencent, Kalaari Capital and Private equity firm Multiples Alternate Asset Management', 'Stellaris Ventures & Others', 'CLP Holdings Group, Innogy, Ørstead, and Tenaska', 'Farm To Fork, Arts Alliance, The Syndicate Fund, Sven Hensen, Zeroth and Artesian Venture Partners', 'Axilor, Sprout Venture Partners and others', 'Xiaomi and Sequoia Capital India', 'Y Combinator', 'N/A', 'Fung Strategic Holdings', 'MakeMyTrip Limited', 'Vertex Ventures', 'Sequoia Capital India Advisors, Accel Partners and G Raghunandan', 'Flipkart', 'Y Combinator', 'Ajay Relan and Vinay Mittal', 'MDI Ventures & Telkom Indonesia', 'Shunwei Capital, Tuscan Ventures, Ashish Goenka, VC firms India Quotient and Kae Capital', 'Info Edge (India) Ltd and Temasek', 'Info Edge (India) Ltd', 'Insignia Ventures Partners, Lightbridge Partners & Kairos', 'Avtar Monga, chief operating office at IDFC Bank, Aditya Malik & Others', 'Venture Catalysts', 'ResponsAbility', 'Prashant Jaiswal', 'Cooperative Oikocredit, Caspian and Hivos-Triodos Fund', 'Ravi Viswanathan', 'ZigExN', 'Credence Family Office', 'Sequoia Capital India', 'Fosun International', 'Sistema Asia Fund, Sistema JSFC and Tanncam Investment', 'DST Global and Lightspeed Venture Partners’ global fund.', 'Falcon Edge', 'N/A', 'Korea Investment Partners (KIP), Samsung and China-based CITIC Capital and others', 'Lighthouse', 'KDDI ', 'Tencent, Kalaari Capital and Private equity firm Multiples Alternate Asset Management', 'Stellaris Ventures & Others', 'CLP Holdings Group, Innogy, Ørstead, and Tenaska', 'Farm To Fork, Arts Alliance, The Syndicate Fund, Sven Hensen, Zeroth and Artesian Venture Partners', 'Axilor, Sprout Venture Partners and others', 'Xiaomi and Sequoia Capital India', 'Y Combinator', 'N/A', 'Fung Strategic Holdings', 'MakeMyTrip Limited', 'Vertex Ventures', 'Sequoia Capital India Advisors, Accel Partners and G Raghunandan', 'Flipkart', 'Y Combinator', 'Ajay Relan and Vinay Mittal', 'MDI Ventures & Telkom Indonesia', 'Shunwei Capital, Tuscan Ventures, Ashish Goenka, VC firms India Quotient and Kae Capital', 'Info Edge (India) Ltd and Temasek', 'Info Edge (India) Ltd', 'Insignia Ventures Partners, Lightbridge Partners & Kairos', 'Avtar Monga, chief operating office at IDFC Bank, Aditya Malik & Others', 'Venture Catalysts', 'ResponsAbility']\n"
     ]
    }
   ],
   "source": [
    "#scraping the Investor_Name \n",
    "IN=driver.find_elements_by_xpath(\"//td[@class='column-7']\")\n",
    "for i in IN:\n",
    "    if i.text is None :\n",
    "        Investor_Name.append(\"--\") \n",
    "    else:\n",
    "        Investor_Name.append(i.text)\n",
    "print(len(Investor_Name),Investor_Name)"
   ]
  },
  {
   "cell_type": "code",
   "execution_count": 250,
   "id": "d8ce4ae2",
   "metadata": {},
   "outputs": [
    {
     "name": "stdout",
     "output_type": "stream",
     "text": [
      "392 ['Series F', 'Series E', 'Series J', 'Series D', 'Venture', 'Debt Financing', 'Series D', 'Series E', 'Series F', 'Seed', 'Series A', 'Series A', 'Series B', 'Venture', 'Series C', 'Seed', 'Series C', 'Debt Financing', 'Unspecified', 'Series A', 'Series C', 'Venture', 'Venture', 'Series C', 'Seed', 'Venture Round', 'Seed Funding', 'Series', 'Seed', 'Funding', 'Secondary Market', 'Series D', 'Seed', 'Secondary Market', 'Series A', 'Seed', 'Series C', 'Bridge Funding', 'Pre-series E', 'Series A', 'Series A', 'Venture', 'Series B', 'Pre-Series A', 'Series C', 'Personal Investment', 'Series B', 'Equity and Debt', 'Seed', 'Series C', 'Debt', 'Series A', '', 'Seed', 'Follow-On', 'Private Equity', 'Series B', 'Angel', 'Series B', 'Series A', 'Debt Financing', 'In Progress', 'Series B', 'Series A', 'Seed', 'Series F', '', 'Series D1', 'In Progress', 'Seed', 'In Progress', '', '', 'Venture', 'Series A', 'M&A', 'Series D', 'pre-Series A', 'Seed', 'pre-Series B', 'Venture-Series Unknown', 'pre-Series A', 'Seed', 'pre-Seed', 'Venture-Series Unknown', 'Series B', 'Debt Financing', 'Seed', 'Pre-Series A', 'Seed', 'Angel', 'Venture - Series Unknown', 'Series C', 'Seed', 'Seed', 'Pre Seed', 'Angel', 'Series B', 'Series A', 'Series D', 'Pre Series A', 'Series A', 'Series F', 'Series C', 'Venture - Series Unknown', 'Series C1', 'Series 1', 'Series A', 'Series A', 'Debt Financing', 'Series C', 'Series F', 'Series A', 'Angel', 'Series A', 'Debt Financing', 'Angel', 'Seed', 'Series A', 'Series B', 'Private Equity', 'Venture Series', 'Seed', 'Pre-Series A', 'Series A', 'Venture Series', 'Venture Series', 'Series E', 'Series F', 'Series A', 'Seed', 'Private Equity Round', 'Series C', 'Series B', 'Pre-series A', 'Seed Round', 'Series A', 'Private Equity Round', 'Series A', 'Series D', 'Seed', 'Series F', 'Series C', 'Series E', 'Debt Funding', 'Seed Round', 'Seed Round', 'Series G', 'Series H', 'Series B', 'Seed', 'Venture', 'Series B', 'Debt Funding', 'Debt Funding', 'Seed Funding', 'Series C', 'Seed', 'Series D', 'Series D', 'Corporate Round', 'Maiden Round', 'Series A', 'Private Equity Round', 'pre-series A', 'Series A', 'Seed', 'Series A', 'Series C', 'Series A', '', 'Series C', 'Series A', 'Seed Funding Round', 'Single Venture', 'Corporate Round', 'Series D', 'Series D', 'Series C', 'Series B', 'Seed Round', 'Series B', 'Pre-Series A', 'Angel', 'Series J', 'Series C', 'Seed Round', 'Private Equity Round', 'Series D', 'Series B', 'Series B', 'Series C', 'Debt Funding', '', 'Series A', 'Series B', 'pre-Series A', 'pre-Series A', '', 'Series A', 'Series B', 'Series A', 'Venture - Series Unknown', 'Bridge Round', 'Series D', 'Series C', 'Series C', 'Seed Round', 'Series B', 'Series B', 'Series A', 'Private Equity', 'Private Equity', 'Series B', 'Seed Funding', 'Seed Funding', 'Debt and Preference capital', 'Inhouse Funding', 'Seed/ Angel Funding', 'Series B', 'Pre Series A', 'Series D', 'Series A', 'Equity', 'Series C', 'Series D', 'Debt-Funding', 'Seed Funding', 'Series D', 'Pre-Series A', 'Pre-Series A', 'Seed Funding', 'Seed Funding', 'Series A', 'Seed/ Angel Funding', 'Series D', 'Series C', 'Series A', 'Equity', 'Series A', 'Series B', 'Mezzanine', 'Seed/ Angel Funding', 'Series B', 'Seed/ Angel Funding', 'Seed/ Angel Funding', 'Private Equity', 'Series E', 'Pre-Series A', 'Private Funding', 'Series C', 'Private Equity', 'Private Equity', 'Private Equity', 'Seed / Angel Funding', 'Private Equity', 'Private Equity', 'Private Equity', 'Private Equity', 'Private Equity', 'Private Equity', 'Seed/ Angel Funding', 'Seed/ Angel Funding', 'Private Equity', 'Private Equity', 'Seed/ Angel Funding', 'Private Equity', 'Private Equity', 'Seed/ Angel Funding', 'Private Equity', 'Private Equity', 'Seed/ Angel Funding', 'Seed/ Angel Funding', 'Private Equity', 'Private Equity', 'Private Equity', 'Seed/ Angel Funding', 'Seed/ Angel Funding', 'Seed/ Angel Funding', 'Seed/ Angel Funding', 'Private Equity', 'Seed/ Angel Funding', 'Seed/ Angel Funding', 'Private Equity', 'Series E', 'Pre-Series A', 'Private Funding', 'Series C', 'Private Equity', 'Private Equity', 'Private Equity', 'Seed / Angel Funding', 'Private Equity', 'Private Equity', 'Private Equity', 'Private Equity', 'Private Equity', 'Private Equity', 'Seed/ Angel Funding', 'Seed/ Angel Funding', 'Private Equity', 'Private Equity', 'Seed/ Angel Funding', 'Private Equity', 'Private Equity', 'Seed/ Angel Funding', 'Private Equity', 'Private Equity', 'Seed/ Angel Funding', 'Seed/ Angel Funding', 'Private Equity', 'Private Equity', 'Private Equity', 'Seed/ Angel Funding', 'Seed/ Angel Funding', 'Seed/ Angel Funding', 'Seed/ Angel Funding', 'Private Equity', 'Seed/ Angel Funding', 'Seed/ Angel Funding', 'Private Equity', 'Series E', 'Pre-Series A', 'Private Funding', 'Series C', 'Private Equity', 'Private Equity', 'Private Equity', 'Seed / Angel Funding', 'Private Equity', 'Private Equity', 'Private Equity', 'Private Equity', 'Private Equity', 'Private Equity', 'Seed/ Angel Funding', 'Seed/ Angel Funding', 'Private Equity', 'Private Equity', 'Seed/ Angel Funding', 'Private Equity', 'Private Equity', 'Seed/ Angel Funding', 'Private Equity', 'Private Equity', 'Seed/ Angel Funding', 'Seed/ Angel Funding', 'Private Equity', 'Private Equity', 'Private Equity', 'Seed/ Angel Funding', 'Seed/ Angel Funding', 'Seed/ Angel Funding', 'Seed/ Angel Funding', 'Private Equity', 'Seed/ Angel Funding', 'Seed/ Angel Funding', 'Private Equity', 'Series E', 'Pre-Series A', 'Private Funding', 'Series C', 'Private Equity', 'Private Equity', 'Private Equity', 'Seed / Angel Funding', 'Private Equity', 'Private Equity', 'Private Equity', 'Private Equity', 'Private Equity', 'Private Equity', 'Seed/ Angel Funding', 'Seed/ Angel Funding', 'Private Equity', 'Private Equity', 'Seed/ Angel Funding', 'Private Equity', 'Private Equity', 'Seed/ Angel Funding', 'Private Equity', 'Private Equity', 'Seed/ Angel Funding', 'Seed/ Angel Funding', 'Private Equity', 'Private Equity', 'Private Equity', 'Seed/ Angel Funding', 'Seed/ Angel Funding', 'Seed/ Angel Funding', 'Seed/ Angel Funding', 'Private Equity']\n"
     ]
    }
   ],
   "source": [
    "#scraping the Investment_Type \n",
    "IT=driver.find_elements_by_xpath(\"//td[@class='column-8']\")\n",
    "for i in IT:\n",
    "    if i.text is None :\n",
    "        Investment_Type.append(\"--\") \n",
    "    else:\n",
    "        Investment_Type.append(i.text)\n",
    "print(len(Investment_Type),Investment_Type)"
   ]
  },
  {
   "cell_type": "code",
   "execution_count": 251,
   "id": "c982c9a1",
   "metadata": {},
   "outputs": [
    {
     "name": "stdout",
     "output_type": "stream",
     "text": [
      "392 ['460,000,000', '300,000,000', '343,000,000', '83,000,000', '7,400,000', '250,000,000', '140,000,000', '8,000,000', '460,000,000', '300,000,000', '11,000,000', '27,500,000', '2,500,000', '250,000,000', '2,747,045.20', '1,50,00,000', '75,000,000', '4,773,958', '55,000,000', '15,000,000', '18,000,000', '1,80,00,000', '6,172,258.50', '30,000,000', '15,000,000', '16,000,000', '15,000,000', '100,000,000', '4,000,000', '1,273,634.07', 'Undisclosed', '160,000,000', '1,000,000', '25,000,000', '15,000,000', '560,000', '80,000,000', '3,000,000', '1,001,047.92', '7,700,000', '6,003,806', '75,000,000-100,000,000', '35,300,000', '3,500,000', '25,000,000', 'NA', '10,000,000', '20,160,000', '5,000,000', '121,000,000', '4,700,000', '15,000,000', '6,000,000', '4,500,000', '4,500,000', '500,000,000', '3,000,000', '370,000', '15,500,000', '4,500,000', 'upto 8,900,000', '100,000,000', '5,400,000', '8,000,000', '950,000', '32,000,000', '23,000,000', '1,560,000', '30,000,000', '1,400,000', 'upto 15,000,000', '6,000,000', '10,670,000', '16,200,000', '5,000,000', '1,200,000,000', '100,000,000', '934,160', '1,700,000', '3,300,000', '400,000', '974,200', '292,800', '200,000', '500,000', '25,000,000', 'NA', 'NA', '3,934,941', 'NA', 'NA', '1,311,647', '5,500,000', '1,000,000', '1,000,000', '340,000', 'NA', '60,000,000', 'NA', '42,000,000', 'NA', '9,000,000', '8,800,000', '4,000,000', '1,700,000', '12,560,000', '43,000,000', '8,000,000', '12,000,000', '50,000,000', '1,800,000', '13,000,000', '6,000,000', 'NA', '5,000,000', '4,000,000', 'NA', '4,700,000', '6,000,000', '1,000,000', 'NA', '10,000,000', 'NA', '3,000,000', '15,000,000', 'NA', '12,625,020', '296,000,000', '37,000,000', '3,000,000', '8,000,000', '200,000,000', '8,048,394', '18,358,860', '3,000,000', '1,800,000', '9,000,000', '150,000,000', '6,000,000', '70,000,000', '50,000,000', '20,000,000', '12,000,000', '30,000,000', '5,900,000', '2,000,000', '50,000,000', '231,000,000', '15,000,0000', '486,000', '1,500,000', 'undisclosed', '12,000,000', '26,000,000', '17,411,265', '1,300,000', '135,000,000', '300,000', '4,50,00,000', '58,50,00,000', 'unknown', '4,500,000', '3,300,000', '6,000,000', '5,000,000', '18,000,000', '10,00,000', '10,000,000', '450,000,000', '5,000,000', '', '20,000,000', '5,000,000', '1,600,000', '140,000,000', '38,080,000', '125,000,000', '11,000,000', '51,000,000', '37,000,000', '500,000', '19,000,000', '2,500,000', '145,000', '1,000,000', '38,080,000', '500,000', '150,000,000', '60,000,000', '16,000,000', '5,750,000', '5,10,00,000', '1,00,00,000', '48,89,975.54', '90,00,000', '7,50,00,000', '26,000,000', '25,00,000', '27,39,034.68', '26,000,000', '1,51,09,500.00', 'undisclosed', '868,600', 'undisclosed', '150,000,000', '50,000,000', '5,10,00,000', '14,00,00,000', '1,15,00,000', '56,00,000', '45,000,000', '17,000,000', '430,665', '3,591,375', '200,000', '3,500,000', '6,320,820', '2,443,495', '307,000', '26,000,000', 'Undisclosed', '226,000,000', '600,000', '100,000,000', '110,000,000', '22,000,000', '5,000,000', '700,000', '50,000,000', '800,000', '572,000', '143,000', '2,000,000', '3,500,000', '1,38,995', '27,799,000', '50,000,000', '5,00,000', '1,000,000', '1,000,000', '1,300,000', '1,000,000', '500,000', '300,000,000', 'N/A', '11,000,000', '8,200,000', '30,00,000', '4,000,000', '14,680,000', '12,000,000', '35,000,000', '225,000,000', '63,90,000', '1,000,000', 'N/A', '15,72,00,000', 'N/A', '100,000,000', '4,000,000', '32,000,000', '400,000', 'N/A', '7,000,000', '120,000', '1,000,000', '35,000,000', '10,000,000', '40,00,000', '12,200,000', '66,000,000', 'N/A', '1,000,000', '4,000,000', '62,50,000', '2,7700,000', '440,000', '1,100,000', '437,000', 'N/A', '5,000,000', 'N/A', '11,000,000', '8,200,000', '30,00,000', '4,000,000', '14,680,000', '12,000,000', '35,000,000', '225,000,000', '63,90,000', '1,000,000', 'N/A', '15,72,00,000', 'N/A', '100,000,000', '4,000,000', '32,000,000', '400,000', 'N/A', '7,000,000', '120,000', '1,000,000', '35,000,000', '10,000,000', '40,00,000', '12,200,000', '66,000,000', 'N/A', '1,000,000', '4,000,000', '62,50,000', '2,7700,000', '440,000', '1,100,000', '437,000', 'N/A', '5,000,000', 'N/A', '11,000,000', '8,200,000', '30,00,000', '4,000,000', '14,680,000', '12,000,000', '35,000,000', '225,000,000', '63,90,000', '1,000,000', 'N/A', '15,72,00,000', 'N/A', '100,000,000', '4,000,000', '32,000,000', '400,000', 'N/A', '7,000,000', '120,000', '1,000,000', '35,000,000', '10,000,000', '40,00,000', '12,200,000', '66,000,000', 'N/A', '1,000,000', '4,000,000', '62,50,000', '2,7700,000', '440,000', '1,100,000', '437,000', 'N/A', '5,000,000', 'N/A', '11,000,000', '8,200,000', '30,00,000', '4,000,000', '14,680,000', '12,000,000', '35,000,000', '225,000,000', '63,90,000', '1,000,000', 'N/A', '15,72,00,000', 'N/A', '100,000,000', '4,000,000', '32,000,000', '400,000', 'N/A', '7,000,000', '120,000', '1,000,000', '35,000,000', '10,000,000', '40,00,000', '12,200,000', '66,000,000', 'N/A', '1,000,000', '4,000,000', '62,50,000', '2,7700,000', '440,000', '1,100,000', '437,000', 'N/A', '5,000,000']\n"
     ]
    }
   ],
   "source": [
    "#scraping the Amount \n",
    "Price=driver.find_elements_by_xpath(\"//td[@class='column-9']\")\n",
    "for i in Price:\n",
    "    if i.text is None :\n",
    "        Amount.append(\"--\") \n",
    "    else:\n",
    "        Amount.append(i.text)\n",
    "print(len(Amount),Amount)"
   ]
  },
  {
   "cell_type": "code",
   "execution_count": 252,
   "id": "a9fd5fff",
   "metadata": {},
   "outputs": [],
   "source": [
    "Funding=pd.DataFrame()\n",
    "Funding['Company']=Company\n",
    "Funding['Industry']=Industry\n",
    "Funding['Investor_Name']=Investor_Name\n",
    "Funding['Amount Invested']=Amount\n",
    "Funding['Specification']=Investment_Type\n",
    "Funding['Dates']=Dates"
   ]
  },
  {
   "cell_type": "code",
   "execution_count": 253,
   "id": "5026e541",
   "metadata": {},
   "outputs": [
    {
     "data": {
      "text/html": [
       "<div>\n",
       "<style scoped>\n",
       "    .dataframe tbody tr th:only-of-type {\n",
       "        vertical-align: middle;\n",
       "    }\n",
       "\n",
       "    .dataframe tbody tr th {\n",
       "        vertical-align: top;\n",
       "    }\n",
       "\n",
       "    .dataframe thead th {\n",
       "        text-align: right;\n",
       "    }\n",
       "</style>\n",
       "<table border=\"1\" class=\"dataframe\">\n",
       "  <thead>\n",
       "    <tr style=\"text-align: right;\">\n",
       "      <th></th>\n",
       "      <th>Company</th>\n",
       "      <th>Industry</th>\n",
       "      <th>Investor_Name</th>\n",
       "      <th>Amount Invested</th>\n",
       "      <th>Specification</th>\n",
       "      <th>Dates</th>\n",
       "    </tr>\n",
       "  </thead>\n",
       "  <tbody>\n",
       "    <tr>\n",
       "      <th>0</th>\n",
       "      <td>BYJU’S</td>\n",
       "      <td>Edu-tech</td>\n",
       "      <td>Innoven Capital</td>\n",
       "      <td>460,000,000</td>\n",
       "      <td>Series F</td>\n",
       "      <td>01/04/2021</td>\n",
       "    </tr>\n",
       "    <tr>\n",
       "      <th>1</th>\n",
       "      <td>Meesho</td>\n",
       "      <td>E-commerce</td>\n",
       "      <td>SoftBank Vision Fund 2</td>\n",
       "      <td>300,000,000</td>\n",
       "      <td>Series E</td>\n",
       "      <td>05/04/2021</td>\n",
       "    </tr>\n",
       "    <tr>\n",
       "      <th>2</th>\n",
       "      <td>Swiggy</td>\n",
       "      <td>Online Food Delivery</td>\n",
       "      <td>Amansa Holdings, Carmignac, Falcon Edge Capita...</td>\n",
       "      <td>343,000,000</td>\n",
       "      <td>Series J</td>\n",
       "      <td>14/04/2021</td>\n",
       "    </tr>\n",
       "    <tr>\n",
       "      <th>3</th>\n",
       "      <td>Groww</td>\n",
       "      <td>FinTech</td>\n",
       "      <td>MC Global Edtech, B Capital, Baron, others</td>\n",
       "      <td>83,000,000</td>\n",
       "      <td>Series D</td>\n",
       "      <td>07/04/2021</td>\n",
       "    </tr>\n",
       "    <tr>\n",
       "      <th>4</th>\n",
       "      <td>Beldara</td>\n",
       "      <td>E-commerce</td>\n",
       "      <td>Hindustan Media Ventures</td>\n",
       "      <td>7,400,000</td>\n",
       "      <td>Venture</td>\n",
       "      <td>14/04/2021</td>\n",
       "    </tr>\n",
       "    <tr>\n",
       "      <th>...</th>\n",
       "      <td>...</td>\n",
       "      <td>...</td>\n",
       "      <td>...</td>\n",
       "      <td>...</td>\n",
       "      <td>...</td>\n",
       "      <td>...</td>\n",
       "    </tr>\n",
       "    <tr>\n",
       "      <th>387</th>\n",
       "      <td>zippserv</td>\n",
       "      <td>Consumer Internet</td>\n",
       "      <td>Info Edge (India) Ltd</td>\n",
       "      <td>440,000</td>\n",
       "      <td>Seed/ Angel Funding</td>\n",
       "      <td>09/07/2018</td>\n",
       "    </tr>\n",
       "    <tr>\n",
       "      <th>388</th>\n",
       "      <td>Groww</td>\n",
       "      <td>Consumer Internet</td>\n",
       "      <td>Insignia Ventures Partners, Lightbridge Partne...</td>\n",
       "      <td>1,100,000</td>\n",
       "      <td>Seed/ Angel Funding</td>\n",
       "      <td>09/07/2018</td>\n",
       "    </tr>\n",
       "    <tr>\n",
       "      <th>389</th>\n",
       "      <td>Avenue Growth</td>\n",
       "      <td>Consumer Internet</td>\n",
       "      <td>Avtar Monga, chief operating office at IDFC Ba...</td>\n",
       "      <td>437,000</td>\n",
       "      <td>Seed/ Angel Funding</td>\n",
       "      <td>10/07/2018</td>\n",
       "    </tr>\n",
       "    <tr>\n",
       "      <th>390</th>\n",
       "      <td>iNICU</td>\n",
       "      <td>Healthcare</td>\n",
       "      <td>Venture Catalysts</td>\n",
       "      <td>N/A</td>\n",
       "      <td>Seed/ Angel Funding</td>\n",
       "      <td>10/07/2018</td>\n",
       "    </tr>\n",
       "    <tr>\n",
       "      <th>391</th>\n",
       "      <td>Kinara Capital</td>\n",
       "      <td>Finance</td>\n",
       "      <td>ResponsAbility</td>\n",
       "      <td>5,000,000</td>\n",
       "      <td>Private Equity</td>\n",
       "      <td>10/07/2018</td>\n",
       "    </tr>\n",
       "  </tbody>\n",
       "</table>\n",
       "<p>392 rows × 6 columns</p>\n",
       "</div>"
      ],
      "text/plain": [
       "            Company              Industry  \\\n",
       "0            BYJU’S              Edu-tech   \n",
       "1            Meesho            E-commerce   \n",
       "2            Swiggy  Online Food Delivery   \n",
       "3             Groww               FinTech   \n",
       "4           Beldara            E-commerce   \n",
       "..              ...                   ...   \n",
       "387        zippserv     Consumer Internet   \n",
       "388           Groww     Consumer Internet   \n",
       "389   Avenue Growth     Consumer Internet   \n",
       "390           iNICU            Healthcare   \n",
       "391  Kinara Capital               Finance   \n",
       "\n",
       "                                         Investor_Name Amount Invested  \\\n",
       "0                                      Innoven Capital     460,000,000   \n",
       "1                               SoftBank Vision Fund 2     300,000,000   \n",
       "2    Amansa Holdings, Carmignac, Falcon Edge Capita...     343,000,000   \n",
       "3           MC Global Edtech, B Capital, Baron, others      83,000,000   \n",
       "4                             Hindustan Media Ventures       7,400,000   \n",
       "..                                                 ...             ...   \n",
       "387                              Info Edge (India) Ltd         440,000   \n",
       "388  Insignia Ventures Partners, Lightbridge Partne...       1,100,000   \n",
       "389  Avtar Monga, chief operating office at IDFC Ba...         437,000   \n",
       "390                                  Venture Catalysts             N/A   \n",
       "391                                     ResponsAbility       5,000,000   \n",
       "\n",
       "           Specification       Dates  \n",
       "0               Series F  01/04/2021  \n",
       "1               Series E  05/04/2021  \n",
       "2               Series J  14/04/2021  \n",
       "3               Series D  07/04/2021  \n",
       "4                Venture  14/04/2021  \n",
       "..                   ...         ...  \n",
       "387  Seed/ Angel Funding  09/07/2018  \n",
       "388  Seed/ Angel Funding  09/07/2018  \n",
       "389  Seed/ Angel Funding  10/07/2018  \n",
       "390  Seed/ Angel Funding  10/07/2018  \n",
       "391       Private Equity  10/07/2018  \n",
       "\n",
       "[392 rows x 6 columns]"
      ]
     },
     "execution_count": 253,
     "metadata": {},
     "output_type": "execute_result"
    }
   ],
   "source": [
    "Funding"
   ]
  },
  {
   "cell_type": "code",
   "execution_count": 254,
   "id": "181eb58e",
   "metadata": {},
   "outputs": [],
   "source": [
    "Funding.to_csv('funding.csv')"
   ]
  },
  {
   "cell_type": "code",
   "execution_count": 255,
   "id": "314ebb46",
   "metadata": {},
   "outputs": [],
   "source": [
    "driver.close()"
   ]
  },
  {
   "cell_type": "markdown",
   "id": "d0a418b8",
   "metadata": {},
   "source": [
    "### 7. Write a program to scrap all the available details of best gaming laptops from digit.in. "
   ]
  },
  {
   "cell_type": "code",
   "execution_count": 256,
   "id": "c21ea7d3",
   "metadata": {},
   "outputs": [],
   "source": [
    "driver = webdriver.Chrome(r\"C:\\Users\\dell\\Downloads\\chromedriver_win32\\chromedriver.exe\")"
   ]
  },
  {
   "cell_type": "code",
   "execution_count": 257,
   "id": "25b36cf3",
   "metadata": {},
   "outputs": [],
   "source": [
    "url=\"https://www.digit.in/top-products/best-gaming-laptops-40.html\""
   ]
  },
  {
   "cell_type": "code",
   "execution_count": 258,
   "id": "64d817f1",
   "metadata": {},
   "outputs": [],
   "source": [
    "driver.get(url)"
   ]
  },
  {
   "cell_type": "code",
   "execution_count": 259,
   "id": "e71a266b",
   "metadata": {},
   "outputs": [],
   "source": [
    "Brands=[]\n",
    "Products_Description=[]\n",
    "Specification=[]"
   ]
  },
  {
   "cell_type": "code",
   "execution_count": 260,
   "id": "ee178092",
   "metadata": {},
   "outputs": [
    {
     "data": {
      "text/plain": [
       "['1.MSI RAIDER GE76',\n",
       " '2.ASUS ROG STRIX SCAR 15',\n",
       " '3.ACER NITRO 5',\n",
       " '4.MSI STEALTH 15M',\n",
       " '5.ASUS ROG STRIX SCAR 15',\n",
       " '6.ASUS ROG STRIX SCAR 15',\n",
       " '7.ASUS ZEPHYRUS G14',\n",
       " '8.HP OMEN 16',\n",
       " '9.ASUS ROG ZEPHYRUS DUO 15',\n",
       " '10.ACER ASPIRE 7 GAMING LAPTOP']"
      ]
     },
     "execution_count": 260,
     "metadata": {},
     "output_type": "execute_result"
    }
   ],
   "source": [
    "brand=driver.find_elements_by_xpath(\"//div[@class='TopNumbeHeading active sticky-footer']\")\n",
    "for i in brand:\n",
    "    Brands.append(str(i.text).replace(\"\\n\",\"\"))\n",
    "Brands"
   ]
  },
  {
   "cell_type": "code",
   "execution_count": 261,
   "id": "3d3a540d",
   "metadata": {},
   "outputs": [
    {
     "data": {
      "text/plain": [
       "['OSWINDOWS 11 HOMEDISPLAY17\" (3840 X 2160)PROCESSOR12TH GEN INTEL CORE I9-12900HK | 5 GHZMEMORY2 TB SSD/16 GBGB DDR5',\n",
       " 'OSWINDOWS 11 HOMEDISPLAY15.6\" (2560 X 1440)PROCESSOR12TH GEN INTEL CORE I9-12900H | 2.5 GHZMEMORY2 TB SSD/32 GBGB DDR5',\n",
       " 'OSWINDOWS 10DISPLAY15.6\" (1920 X 1080)PROCESSORAMD RYZEN 9 OCTA CORE | 2.4 GHZMEMORY1 TB HDD/16 GBGB DDR4',\n",
       " 'OSWINDOWS 10DISPLAY15.6\" (1920 X 1080)PROCESSORINTEL CORE I7 11TH GEN - 11375H | NAMEMORY1 TB SSD/16 GBGB DDR4',\n",
       " 'OSWINDOWS 10DISPLAY15.6\" (2560 X 1440)PROCESSORAMD RYZEN 9 OCTA CORE - 5900HX | 3.3 GHZMEMORY2 TB SSD/32 GBGB DDR4',\n",
       " 'OSWINDOWS 10 HOMEDISPLAY15.6\" (1920 X 1080)PROCESSORAMD RYZEN™ 9 5900HX | 3.3 GHZMEMORY1 TB SSD/16 GBGB DDR4',\n",
       " 'OSWINDOWS 10 HOMEDISPLAY14\" (1920 X 1080)PROCESSORAMD 3RD GEN RYZEN 9 | 3.3 GHZMEMORY1 TB SSD/16 GBGB DDR4',\n",
       " 'OSWINDOWS 11 HOMEDISPLAY16.1\" (1920 X 1080)PROCESSOR12TH GEN INTEL CORE I7-12700H | 4.7 GHZMEMORY1 TB SSD/16 GBGB DDR4',\n",
       " 'OSWINDOWS 10DISPLAY15.6\" (3840 X 1100)PROCESSORINTEL CORE I7 10TH GEN 10875H | NAMEMORY512 GB SSD/4 GBGB DDR4',\n",
       " 'OSWINDOWS 10 HOMEDISPLAY15.6\" (1920 X 1080)PROCESSORAMD RYZEN™ 5-5500U HEXA-CORE | NAMEMORY512 GB SSD/8 GBGB DDR4']"
      ]
     },
     "execution_count": 261,
     "metadata": {},
     "output_type": "execute_result"
    }
   ],
   "source": [
    "specification_tag=driver.find_elements_by_xpath(\"//div[@class='Specs-Wrap']\")\n",
    "for i in specification_tag:\n",
    "    Specification.append(str(i.text).replace(\"\\n\",\"\"))\n",
    "Specification"
   ]
  },
  {
   "cell_type": "code",
   "execution_count": 262,
   "id": "2c4d2c7b",
   "metadata": {},
   "outputs": [
    {
     "data": {
      "text/plain": [
       "['Possibly the most high-end gaming laptop anyone can buy is the MSI Raider GTE76 2022 edition. Last year’s model was impressive that it won the Digit Zero 1 award for the best gaming laptop bar none. The current year model is no different either. It comes with an Intel 12th Gen Core i9-12900HK chip, which is a 14-core, 20-thread CPU. It is probably the most powerful processor in a laptop at the time of writing this article. It is paired with an equally capable Nvidia GeForce RTX 3080 Ti with 16GB GDDR6 VRAM featuring 175W TGP. The laptop also features 32GB DDR5 memory running in Quad-channel mode. To top it all off, the MSI Raider GE76 also comes equipped with a 2TB NVMe PCIe Gen 4 SSD to load all your files and games in an instant. If you have the budget, then the MSI Raider GE76 stands top of the list of the best gaming laptops and it’ll do so probably for a while now.SPECIFICATIONOS : Windows 11 HomeDisplay : 17\" (3840 x 2160)Processor : 12th Gen Intel Core i9-12900HK | 5 GHzMemory : 2 TB SSD/16 GBGB DDR5Weight : 2.9Dimension : 397 x 284 x 26Graphics Processor : NVIDIA GeForce RTX 3080TiAVAILABLE ₹ 429,940BUY NOWBUY ON EMI ₹ 71,656/MONTHGET EMI*0% Interest*0 Down Payment*No Processing Fee',\n",
       " 'The second high-end gaming laptop on the list is the ASUS ROG Strix Scar 15 featuring an Intel 12th Gen Core i9-12900H CPU and an Nvidia RTX 3080 Ti GPU. The Intel chip is a little slower than the Core i9-12900HK mostly in multicore performance, but in most applications, the user will hardly notice a major difference. Both, the Intel Core i9-12900HK and the i9-12900H can hit the 5.00GHz boost clock, which is also a good thing. The top gaming laptop features an Nvidia RTX 3080 Ti GPU with 16GB GDDR6 VRAM and 150W TGP. The ASUS ROG Strix Scar 15 also features 32GB DDR5 memory running in quad-channel mode. For easy and fast access to all your files, the ASUS ROG Strix Scar 15 comes equipped with a PCI Gen 4 SSD as well. Overall, it is one of the top gaming laptops in India that money can buy.SPECIFICATIONOS : Windows 11 HomeDisplay : 15.6\" (2560 x 1440)Processor : 12th Gen Intel Core i9-12900H | 2.5 GHzMemory : 2 TB SSD/32 GBGB DDR5Weight : 2.3Dimension : 259 x 354 x 27Graphics Processor : NVIDIA GeForce RTX 3070 TiAVAILABLE ₹ 285,390BUY NOWBUY ON EMI ₹ 47,565/MONTHGET EMI*0% Interest*0 Down Payment*No Processing Fee',\n",
       " 'Possibly the best value-for-money gaming laptop on the market, the Acer Nitro 5 checks all the right boxes. It features an ultra-fast Ryzen 9 Octa-Core processor paired with an RTX 3070 GPU. The high-end gaming laptop comes with 16GB RAM, 256GB SSD, 1TB SSD and a 15.6-inch FHD display.SPECIFICATIONOS : Windows 10Display : 15.6\" (1920 x 1080)Processor : AMD Ryzen 9 Octa Core | 2.4 GHzMemory : 1 TB HDD/16 GBGB DDR4Weight : 2.4Dimension : 363.4 x 255 x 23.9Graphics Processor : NVIDIA GeForce RTX 3070AVAILABLE ₹ 129,990BUY NOWBUY ON EMI ₹ 21,665/MONTHGET EMI*0% Interest*0 Down Payment*No Processing Fee',\n",
       " 'If you’re looking for a powerful gaming laptop that is also portable then MSI Stealth 15M is the one for you. It strikes a great balance between form factor and performance thanks to the 11th Gen Core i7 processor, RTX 3060 GPU, 16GB RAM, and 1TB SSD. On top of that, the high-end gaming laptop looks very sleek.SPECIFICATIONOS : Windows 10Display : 15.6\" (1920 x 1080)Processor : Intel Core i7 11th Gen - 11375H | NAMemory : 1 TB SSD/16 GBGB DDR4Weight : 1.7Dimension : 358.3 x 248 x 16.15Graphics Processor : NVIDIA GeForce RTX 3060AVAILABLE ₹ 134,990BUY NOWBUY ON EMI ₹ 22,498/MONTHGET EMI*0% Interest*0 Down Payment*No Processing Fee',\n",
       " 'If you want possibly the best performance possible on a gaming laptop that’s not Alienware then ASUS ROG Strix Scar 15 should fir the bill. It’s on the list of the best gaming laptops thanks to a superfast Ryzen 9 5900HX processor, an Nvidia RTX 3080 GPU, 32GB RAM, and 2TB SSD. The laptop is a super-charged machine capable of delivering high performance in all modern tasks.SPECIFICATIONOS : Windows 10Display : 15.6\" (2560 x 1440)Processor : AMD Ryzen 9 Octa Core - 5900HX | 3.3 GHzMemory : 2 TB SSD/32 GBGB DDR4Weight : 2.30Dimension : 354 x 259 x 22.6Graphics Processor : NVIDIA GeForce RTX 3080AVAILABLE ₹ 268,990BUY NOWOUT OF STOCK ₹ 193,990BUY NOWBUY ON EMI ₹ 32,331/MONTHGET EMI*0% Interest*0 Down Payment*No Processing Fee',\n",
       " 'When the ASUS ROG Strix Scar 15 ended up on our test bench, we immediately knew it was overkill. But you know what? It\\'s a good kind of overkill. ASUS\\' annual upgrade to the Scar lineup saw some significant changes this year and we like most of them. The Asus ROG Strix Scar 15 comes with up to AMD Ryzen 9 5900HX and Nvidia GeForce RTX 3080. The laptop also features per-key RGB on its opto-mechanical keyboard. The new Scar laptops also have a slightly new design, making them look a little different from the older ones. It\\'s also worth pointing out that the laptop comes with a 15.6-inch 1440p display with a refresh rate of 165Hz.Pros1440p, 165Hz display is great for gaming.Impressive performance beyond just gaming.On-board speakers are loud and good.ConsTends to run hot, but doesn\\'t throttle.No game leveraged 16GB VRAM on the Nvidia GeForce RTX 3080.SPECIFICATIONOS : Windows 10 HomeDisplay : 15.6\" (1920 x 1080)Processor : AMD Ryzen™ 9 5900HX | 3.3 GHzMemory : 1 TB SSD/16 GBGB DDR4Weight : 2.30Dimension : 35.4 x 25.9 x 2.26Graphics Processor : NVIDIA® GeForce RTX™ 3070AVAILABLE ₹ 215,990BUY NOWBUY ON EMI ₹ 35,998/MONTHGET EMI*0% Interest*0 Down Payment*No Processing Fee',\n",
       " 'The Asus Zephyrus G14 is a first-of-its-kind gaming laptop, featuring a high-power 8-core CPU in a 14-inch chassis. Powered by the AMD Ryzen 4000 series processors going all the way up to Ryzen 9 4900HS and an Nvidia GeForce RTX 2060, the AMD Zephyrus G14 is a perfect laptop for those kinds of people who like to game and create, but put a priority on doing so using a light-weight machine.ProsImpressive performance for the form-factor.Anime Matrix display is a very well implemented gimmick.Truly one-of-a-kind machine at the moment.ConsHeat makes the keyboard unusable.Uses a mid-range SSD.No Pg Up or Pg Dn keysSPECIFICATIONOS : Windows 10 HomeDisplay : 14\" (1920 x 1080)Processor : AMD 3rd Gen Ryzen 9 | 3.3 GHzMemory : 1 TB SSD/16 GBGB DDR4Weight : 1.65Dimension : 32.5 x 22.1 x 1.8Graphics Processor : NVIDIA GeForce RTX 2060AVAILABLE ₹ 164,990BUY NOWOUT OF STOCK ₹ 144,990BUY NOWBUY ON EMI ₹ 24,165/MONTHGET EMI*0% Interest*0 Down Payment*No Processing Fee',\n",
       " 'It is difficult to find a laptop that offers a good mixture of high specifications, good thermal performance, and a decent price tag. HP Omen 16 is probably one of the laptops that offer all these things in a great overall package. The gaming laptop is powered by an Intel Core i7-12700H an 14-core 20-thread processor capable of delivering up to 4.70GHz of maximum clock speed with Intel Turbo boost technology. The powerful CPU is paired with an Nvidia RTX 3060 GPU with 6GB GDDR6 VRAM, to deliver high performance while gaming. To further take advantage of these two chips, the HP Omen 16 gaming laptop also comes with a 16.1-inch 1080p display with support for up to 144Hz maximum refresh rate so the user can play all the modern gaming titles at a high refresh rate. For memory and storage, the HP Omen 16 comes with 16GB DDR5 memory running in quad-channel mode and 1TB PCIe NVMe M.2 SSD, making the laptop easily capable of handling games and other resource-heavy applications.SPECIFICATIONOS : Windows 11 HomeDisplay : 16.1\" (1920 x 1080)Processor : 12th Gen Intel Core i7-12700H | 4.7 GHzMemory : 1 TB SSD/16 GBGB DDR4Weight : 2.32Dimension : 36.92 x 24.8 x 2.3Graphics Processor : NVIDIA GeForce RTX 3060AVAILABLE ₹ 139,990BUY NOWAVAILABLE ₹ 145,999BUY NOWBUY ON EMI ₹ 23,331/MONTHGET EMI*0% Interest*0 Down Payment*No Processing Fee',\n",
       " 'The machine is powered by an Intel Core i7-10875H processor, offering 8 cores and 16 threads. So, you can leave behind all your concerns around the CPU bottlenecking the overall performance during gaming. With an Nvidia GeForce RTX 2070 Max-Q, this laptop can manage pretty much anything game you throw at it and then some more. The star of the show however is the awesome 300Hz refresh rate capable, 1080p IPS panel on this gaming laptop. Yes, you read that correctly, 300Hz, which means you can get silky smooth, brag-worthy 300FPS on e-sports centric games on this machine.SPECIFICATIONOS : Windows 10Display : 15.6\" (3840 x 1100)Processor : Intel Core i7 10th Gen 10875H | NAMemory : 512 GB SSD/4 GBGB DDR4Weight : 2.4Dimension : 268.30 x 360.00 x 20.90Graphics Processor : NVIDIA GeForce RTX 2070 Max-QAVAILABLE ₹ 185,000BUY NOWBUY ON EMI ₹ 30,833/MONTHGET EMI*0% Interest*0 Down Payment*No Processing Fee',\n",
       " 'The Acer Aspire 7 gaming laptop is a very capable laptop that has made it to a lot of our recommendation lists. It costs less than Rs 60,000 but it packs a decent set of internals that should be enough to handle your gaming needs. The laptop even managed to run a lot of modern AAA titles without any issues even though it only has a GTX 1650 GPU. The Ryzen 5 5500U processor inside this laptop runs the show flawlessly. It also has a really good battery life, something that often goes missing when it comes to gaming laptops. You can check out our review of the laptop right here.ProsUnderstated designGreat performance with AMD Ryzen 5 5500UExcellent battery lifeGood port selectionConsHighly uncalibrated displayThe speakers could have been betterSPECIFICATIONOS : Windows 10 HomeDisplay : 15.6\" (1920 x 1080)Processor : AMD Ryzen™ 5-5500U hexa-core | NAMemory : 512 GB SSD/8 GBGB DDR4Weight : 2.15Dimension : 2.29 x 36.3 x 25.4Graphics Processor : NVIDIA® GeForce® GTX 1650OUT OF STOCK ₹ 53,490BUY NOWBUY ON EMI ₹ 8,915/MONTHGET EMI*0% Interest*0 Down Payment*No Processing Fee']"
      ]
     },
     "execution_count": 262,
     "metadata": {},
     "output_type": "execute_result"
    }
   ],
   "source": [
    "description=driver.find_elements_by_xpath(\"//div[@class='Section-center']\")\n",
    "for i in description:\n",
    "    Products_Description.append(str(i.text).replace(\"\\n\",\"\"))\n",
    "Products_Description"
   ]
  },
  {
   "cell_type": "code",
   "execution_count": 265,
   "id": "45122373",
   "metadata": {},
   "outputs": [
    {
     "data": {
      "text/plain": [
       "['429,940',\n",
       " '285,390',\n",
       " '129,990',\n",
       " '134,990',\n",
       " '193,990',\n",
       " '215,990',\n",
       " '144,990',\n",
       " '139,990',\n",
       " '185,000',\n",
       " '53,490']"
      ]
     },
     "execution_count": 265,
     "metadata": {},
     "output_type": "execute_result"
    }
   ],
   "source": [
    "Price=[]\n",
    "price_tag=driver.find_elements_by_xpath(\"//td[@class='smprice']\")\n",
    "for i in price_tag:\n",
    "    Price.append(str(i.text).replace(\"\\n\",\"\").replace('₹ ',''))\n",
    "Price"
   ]
  },
  {
   "cell_type": "code",
   "execution_count": 266,
   "id": "85f1b1da",
   "metadata": {},
   "outputs": [],
   "source": [
    "laptop=pd.DataFrame()\n",
    "laptop['Brands']=Brands[0:10]\n",
    "laptop['Price']=Price[0:10]\n",
    "laptop['Specification']=Specification[0:10]\n",
    "laptop['Description']=Products_Description[0:10]"
   ]
  },
  {
   "cell_type": "code",
   "execution_count": 267,
   "id": "3764bd99",
   "metadata": {},
   "outputs": [
    {
     "data": {
      "text/html": [
       "<div>\n",
       "<style scoped>\n",
       "    .dataframe tbody tr th:only-of-type {\n",
       "        vertical-align: middle;\n",
       "    }\n",
       "\n",
       "    .dataframe tbody tr th {\n",
       "        vertical-align: top;\n",
       "    }\n",
       "\n",
       "    .dataframe thead th {\n",
       "        text-align: right;\n",
       "    }\n",
       "</style>\n",
       "<table border=\"1\" class=\"dataframe\">\n",
       "  <thead>\n",
       "    <tr style=\"text-align: right;\">\n",
       "      <th></th>\n",
       "      <th>Brands</th>\n",
       "      <th>Price</th>\n",
       "      <th>Specification</th>\n",
       "      <th>Description</th>\n",
       "    </tr>\n",
       "  </thead>\n",
       "  <tbody>\n",
       "    <tr>\n",
       "      <th>0</th>\n",
       "      <td>1.MSI RAIDER GE76</td>\n",
       "      <td>429,940</td>\n",
       "      <td>OSWINDOWS 11 HOMEDISPLAY17\" (3840 X 2160)PROCE...</td>\n",
       "      <td>Possibly the most high-end gaming laptop anyon...</td>\n",
       "    </tr>\n",
       "    <tr>\n",
       "      <th>1</th>\n",
       "      <td>2.ASUS ROG STRIX SCAR 15</td>\n",
       "      <td>285,390</td>\n",
       "      <td>OSWINDOWS 11 HOMEDISPLAY15.6\" (2560 X 1440)PRO...</td>\n",
       "      <td>The second high-end gaming laptop on the list ...</td>\n",
       "    </tr>\n",
       "    <tr>\n",
       "      <th>2</th>\n",
       "      <td>3.ACER NITRO 5</td>\n",
       "      <td>129,990</td>\n",
       "      <td>OSWINDOWS 10DISPLAY15.6\" (1920 X 1080)PROCESSO...</td>\n",
       "      <td>Possibly the best value-for-money gaming lapto...</td>\n",
       "    </tr>\n",
       "    <tr>\n",
       "      <th>3</th>\n",
       "      <td>4.MSI STEALTH 15M</td>\n",
       "      <td>134,990</td>\n",
       "      <td>OSWINDOWS 10DISPLAY15.6\" (1920 X 1080)PROCESSO...</td>\n",
       "      <td>If you’re looking for a powerful gaming laptop...</td>\n",
       "    </tr>\n",
       "    <tr>\n",
       "      <th>4</th>\n",
       "      <td>5.ASUS ROG STRIX SCAR 15</td>\n",
       "      <td>193,990</td>\n",
       "      <td>OSWINDOWS 10DISPLAY15.6\" (2560 X 1440)PROCESSO...</td>\n",
       "      <td>If you want possibly the best performance poss...</td>\n",
       "    </tr>\n",
       "    <tr>\n",
       "      <th>5</th>\n",
       "      <td>6.ASUS ROG STRIX SCAR 15</td>\n",
       "      <td>215,990</td>\n",
       "      <td>OSWINDOWS 10 HOMEDISPLAY15.6\" (1920 X 1080)PRO...</td>\n",
       "      <td>When the ASUS ROG Strix Scar 15 ended up on ou...</td>\n",
       "    </tr>\n",
       "    <tr>\n",
       "      <th>6</th>\n",
       "      <td>7.ASUS ZEPHYRUS G14</td>\n",
       "      <td>144,990</td>\n",
       "      <td>OSWINDOWS 10 HOMEDISPLAY14\" (1920 X 1080)PROCE...</td>\n",
       "      <td>The Asus Zephyrus G14 is a first-of-its-kind g...</td>\n",
       "    </tr>\n",
       "    <tr>\n",
       "      <th>7</th>\n",
       "      <td>8.HP OMEN 16</td>\n",
       "      <td>139,990</td>\n",
       "      <td>OSWINDOWS 11 HOMEDISPLAY16.1\" (1920 X 1080)PRO...</td>\n",
       "      <td>It is difficult to find a laptop that offers a...</td>\n",
       "    </tr>\n",
       "    <tr>\n",
       "      <th>8</th>\n",
       "      <td>9.ASUS ROG ZEPHYRUS DUO 15</td>\n",
       "      <td>185,000</td>\n",
       "      <td>OSWINDOWS 10DISPLAY15.6\" (3840 X 1100)PROCESSO...</td>\n",
       "      <td>The machine is powered by an Intel Core i7-108...</td>\n",
       "    </tr>\n",
       "    <tr>\n",
       "      <th>9</th>\n",
       "      <td>10.ACER ASPIRE 7 GAMING LAPTOP</td>\n",
       "      <td>53,490</td>\n",
       "      <td>OSWINDOWS 10 HOMEDISPLAY15.6\" (1920 X 1080)PRO...</td>\n",
       "      <td>The Acer Aspire 7 gaming laptop is a very capa...</td>\n",
       "    </tr>\n",
       "  </tbody>\n",
       "</table>\n",
       "</div>"
      ],
      "text/plain": [
       "                           Brands    Price  \\\n",
       "0               1.MSI RAIDER GE76  429,940   \n",
       "1        2.ASUS ROG STRIX SCAR 15  285,390   \n",
       "2                  3.ACER NITRO 5  129,990   \n",
       "3               4.MSI STEALTH 15M  134,990   \n",
       "4        5.ASUS ROG STRIX SCAR 15  193,990   \n",
       "5        6.ASUS ROG STRIX SCAR 15  215,990   \n",
       "6             7.ASUS ZEPHYRUS G14  144,990   \n",
       "7                    8.HP OMEN 16  139,990   \n",
       "8      9.ASUS ROG ZEPHYRUS DUO 15  185,000   \n",
       "9  10.ACER ASPIRE 7 GAMING LAPTOP   53,490   \n",
       "\n",
       "                                       Specification  \\\n",
       "0  OSWINDOWS 11 HOMEDISPLAY17\" (3840 X 2160)PROCE...   \n",
       "1  OSWINDOWS 11 HOMEDISPLAY15.6\" (2560 X 1440)PRO...   \n",
       "2  OSWINDOWS 10DISPLAY15.6\" (1920 X 1080)PROCESSO...   \n",
       "3  OSWINDOWS 10DISPLAY15.6\" (1920 X 1080)PROCESSO...   \n",
       "4  OSWINDOWS 10DISPLAY15.6\" (2560 X 1440)PROCESSO...   \n",
       "5  OSWINDOWS 10 HOMEDISPLAY15.6\" (1920 X 1080)PRO...   \n",
       "6  OSWINDOWS 10 HOMEDISPLAY14\" (1920 X 1080)PROCE...   \n",
       "7  OSWINDOWS 11 HOMEDISPLAY16.1\" (1920 X 1080)PRO...   \n",
       "8  OSWINDOWS 10DISPLAY15.6\" (3840 X 1100)PROCESSO...   \n",
       "9  OSWINDOWS 10 HOMEDISPLAY15.6\" (1920 X 1080)PRO...   \n",
       "\n",
       "                                         Description  \n",
       "0  Possibly the most high-end gaming laptop anyon...  \n",
       "1  The second high-end gaming laptop on the list ...  \n",
       "2  Possibly the best value-for-money gaming lapto...  \n",
       "3  If you’re looking for a powerful gaming laptop...  \n",
       "4  If you want possibly the best performance poss...  \n",
       "5  When the ASUS ROG Strix Scar 15 ended up on ou...  \n",
       "6  The Asus Zephyrus G14 is a first-of-its-kind g...  \n",
       "7  It is difficult to find a laptop that offers a...  \n",
       "8  The machine is powered by an Intel Core i7-108...  \n",
       "9  The Acer Aspire 7 gaming laptop is a very capa...  "
      ]
     },
     "execution_count": 267,
     "metadata": {},
     "output_type": "execute_result"
    }
   ],
   "source": [
    "laptop"
   ]
  },
  {
   "cell_type": "code",
   "execution_count": 268,
   "id": "3639104f",
   "metadata": {},
   "outputs": [],
   "source": [
    "laptop.to_csv('laptop.csv')"
   ]
  },
  {
   "cell_type": "code",
   "execution_count": 269,
   "id": "c78cb79d",
   "metadata": {},
   "outputs": [],
   "source": [
    "driver.close()"
   ]
  },
  {
   "cell_type": "markdown",
   "id": "f249074f",
   "metadata": {},
   "source": [
    "### 8. Write a python program to scrape the details for all billionaires from www.forbes.com. Details to be scrapped: “Rank”, “Name”, “Net worth”, “Age”, “Citizenship”, “Source”, “Industry”. "
   ]
  },
  {
   "cell_type": "code",
   "execution_count": 273,
   "id": "9bff9657",
   "metadata": {},
   "outputs": [],
   "source": [
    "driver = webdriver.Chrome(r\"C:\\Users\\dell\\Downloads\\chromedriver_win32\\chromedriver.exe\")"
   ]
  },
  {
   "cell_type": "code",
   "execution_count": 274,
   "id": "b7f1f401",
   "metadata": {},
   "outputs": [],
   "source": [
    "url='https://www.forbes.com/billionaires/'"
   ]
  },
  {
   "cell_type": "code",
   "execution_count": 275,
   "id": "2b43b178",
   "metadata": {},
   "outputs": [],
   "source": [
    "driver.get(url)"
   ]
  },
  {
   "cell_type": "code",
   "execution_count": 277,
   "id": "822e0114",
   "metadata": {},
   "outputs": [],
   "source": [
    "Name=[]\n",
    "Rank=[]\n",
    "Net_worth=[]\n",
    "Citizenship=[]"
   ]
  },
  {
   "cell_type": "code",
   "execution_count": 280,
   "id": "981a66f3",
   "metadata": {},
   "outputs": [],
   "source": [
    "name_tag=driver.find_elements_by_xpath('//div[@class=\"personName\"]/div[1]')\n",
    "for x in name_tag:\n",
    "    Name.append(x.text)"
   ]
  },
  {
   "cell_type": "code",
   "execution_count": 281,
   "id": "5cae0285",
   "metadata": {},
   "outputs": [
    {
     "name": "stdout",
     "output_type": "stream",
     "text": [
      "200 ['Elon Musk', 'Jeff Bezos', 'Bernard Arnault & family', 'Bill Gates', 'Warren Buffett', 'Larry Page', 'Sergey Brin', 'Larry Ellison', 'Steve Ballmer', 'Mukesh Ambani', 'Gautam Adani & family', 'Michael Bloomberg', 'Carlos Slim Helu & family', 'Francoise Bettencourt Meyers & family', 'Mark Zuckerberg', 'Jim Walton', 'Zhong Shanshan', 'Alice Walton', 'Rob Walton', 'Changpeng Zhao', 'Charles Koch', 'Julia Koch & family', 'Amancio Ortega', 'Michael Dell', 'Zhang Yiming', 'David Thomson & family', 'Phil Knight & family', 'Dieter Schwarz', 'Robin Zeng', 'MacKenzie Scott', 'Rodolphe Saadé & family', 'François Pinault & family', 'Klaus-Michael Kuehne', 'Ma Huateng', 'Beate Heister & Karl Albrecht Jr. & family', 'Giovanni Ferrero', 'Li Ka-shing', 'Stephen Schwarzman', 'Lee Shau Kee', 'Len Blavatnik', 'Jacqueline Mars', 'John Mars', 'Alain Wertheimer', 'Gerard Wertheimer', 'German Larrea Mota Velasco & family', 'Gina Rinehart', 'Shiv Nadar', 'Jim Simons', 'He Xiangjian', 'Miriam Adelson', 'Dietrich Mateschitz', 'Leonardo Del Vecchio & family', 'Ken Griffin', 'Tadashi Yanai & family', 'William Lei Ding', 'Susanne Klatten', 'Cyrus Poonawalla', 'Wang Wei', 'Qin Yinglin', 'Sam Bankman-Fried', 'Takemitsu Takizaki', 'Li Shufu', 'Emmanuel Besnier', 'R. Budi Hartono', 'Leonard Lauder', 'Guillaume Pousaz', 'Iris Fontbona & family', 'Jack Ma', 'Michael Hartono', 'Eric Schmidt', 'Ray Dalio', 'Daniel Gilbert', 'Thomas Frist, Jr. & family', 'Masayoshi Son', 'Abigail Johnson', 'Rupert Murdoch & family', 'Stefan Quandt', 'Jensen Huang', 'Huang Shilin', 'Thomas Peterffy', 'Radhakishan Damani', 'Pang Kang', 'Wang Chuanfu', 'Reinhold Wuerth & family', 'Theo Albrecht, Jr. & family', 'Yang Huiyan & family', 'Vladimir Lisin', 'Fan Hongwei & family', 'Lakshmi Mittal', 'Andrew Forrest', 'Jiang Rensheng & family', 'Savitri Jindal & family', 'Wang Wenyin', 'Li Xiting', 'Stefan Persson', 'Steve Cohen', 'Vladimir Potanin', 'Harold Hamm & family', 'Sun Piaoyang', 'Luo Liguo & family', 'Peter Woo', 'Gianluigi & Rafaela Aponte', 'David Tepper', 'Renata Kellnerova & family', 'John Menard, Jr.', 'Kumar Birla', 'Carl Icahn', 'Hank & Doug Meijer', 'Lukas Walton', 'Laurene Powell Jobs & family', 'James Ratcliffe', 'Donald Bren', 'Xu Hang', 'Lu Xiangyang', 'Dilip Shanghvi', 'Wei Jianjun & family', 'Jorge Paulo Lemann & family', 'Eyal Ofer', 'Mike Cannon-Brookes', 'Wu Yajun', 'Charlene de Carvalho-Heineken & family', 'Michael Platt', 'Pavel Durov', 'Scott Farquhar', 'Pallonji Mistry', 'Dang Yanbao', 'Robert Pera', 'Donald Newhouse', 'Uday Kotak', 'Aliko Dangote', 'Leonid Mikhelson', 'Sunil Mittal & family', 'Robert & Philip Ng', 'Liu Hanyuan', 'Joseph Lau', 'Anders Holch Povlsen', 'Dhanin Chearavanont', 'Gong Hongjia & family', 'Liu Yongxing', 'Alexey Mordashov', 'Wang Jianlin', 'David Duffield', 'Li Zhenguo & family', 'Harry Triguboff', 'Zhang Zhidong', 'Chen Bang', 'John Doerr', 'Hinduja brothers', 'Kwong Siu-hing', 'Pei Zhenhua', 'Ricardo Salinas Pliego & family', 'Jim Pattison', 'Charles Schwab', 'Goh Cheng Liang', 'Lin Jianhua & family', 'Charoen Sirivadhanabhakdi', 'Jeff Yass', 'John Fredriksen', 'Andreas Struengmann & family', 'Thomas Struengmann & family', 'Mikhail Fridman', 'Sarath Ratanavadi', 'Robert Kuok', 'Lei Jun', 'Zhang Congyuan', 'Lui Che Woo', 'Brian Chesky', 'Israel Englander', 'Dustin Moskovitz', 'Alisher Usmanov', 'Jay Chaudhry', 'Anthony Pratt', 'Colin Zheng Huang', 'Jin Baofang', 'Pierre Omidyar', 'Gennady Timchenko', 'Carl Cook', 'Andrey Melnichenko', 'Xing Wang', 'Philip Anschutz', 'David Cheriton', 'Alexander Otto', 'Diane Hendricks', 'Stanley Kroenke', 'Jerry Jones', 'Quek Leng Chan', 'Eduardo Saverin', 'Vagit Alekperov', 'Richard Liu', 'Idan Ofer', 'Melker Schorling & family', 'Chase Coleman, III.', 'Shuirong Li', 'Stefano Pessina', 'Mikhail Prokhorov', 'Marcel Herrmann Telles', 'Leon Black', 'Joe Gebbia', 'David Geffen', 'Yu Renrong']\n"
     ]
    }
   ],
   "source": [
    "print(len(Name),Name)"
   ]
  },
  {
   "cell_type": "code",
   "execution_count": 285,
   "id": "80368a85",
   "metadata": {},
   "outputs": [
    {
     "name": "stdout",
     "output_type": "stream",
     "text": [
      "200 ['1', '2', '3', '4', '5', '6', '7', '8', '9', '10', '11', '12', '13', '14', '15', '16', '17', '18', '19', '19', '21', '21', '23', '24', '25', '26', '27', '28', '29', '30', '31', '32', '33', '34', '35', '36', '37', '37', '39', '40', '41', '41', '43', '43', '45', '46', '47', '48', '49', '50', '51', '52', '53', '54', '55', '56', '56', '56', '59', '60', '61', '62', '63', '64', '65', '66', '67', '67', '69', '70', '71', '71', '73', '74', '75', '76', '77', '78', '79', '80', '81', '82', '83', '84', '85', '85', '87', '88', '89', '90', '91', '91', '91', '94', '94', '96', '97', '98', '99', '100', '100', '102', '103', '104', '104', '106', '106', '106', '106', '110', '111', '112', '113', '114', '115', '116', '117', '117', '119', '119', '121', '121', '123', '123', '125', '126', '127', '128', '129', '130', '130', '132', '133', '134', '135', '135', '137', '138', '138', '138', '138', '142', '142', '144', '144', '146', '146', '146', '149', '150', '151', '152', '152', '154', '154', '156', '156', '158', '158', '158', '161', '161', '163', '163', '163', '166', '167', '167', '167', '167', '171', '171', '173', '173', '173', '173', '177', '177', '179', '180', '180', '180', '183', '183', '185', '185', '185', '188', '188', '188', '191', '192', '192', '192', '192', '192', '197', '197', '197', '197']\n"
     ]
    }
   ],
   "source": [
    "rank_tag=driver.find_elements_by_xpath('//div[@class=\"rank\"]')\n",
    "for x in rank_tag:\n",
    "    Rank.append(x.text.replace('.',''))\n",
    "print(len(Rank),Rank)"
   ]
  },
  {
   "cell_type": "code",
   "execution_count": 288,
   "id": "c5428638",
   "metadata": {},
   "outputs": [
    {
     "name": "stdout",
     "output_type": "stream",
     "text": [
      "200 ['219  Billion Dollers', '171  Billion Dollers', '158  Billion Dollers', '129  Billion Dollers', '118  Billion Dollers', '111  Billion Dollers', '107  Billion Dollers', '106  Billion Dollers', '91.4  Billion Dollers', '90.7  Billion Dollers', '90  Billion Dollers', '82  Billion Dollers', '81.2  Billion Dollers', '74.8  Billion Dollers', '67.3  Billion Dollers', '66.2  Billion Dollers', '65.7  Billion Dollers', '65.3  Billion Dollers', '65  Billion Dollers', '65  Billion Dollers', '60  Billion Dollers', '60  Billion Dollers', '59.6  Billion Dollers', '55.1  Billion Dollers', '50  Billion Dollers', '49.2  Billion Dollers', '47.3  Billion Dollers', '47.1  Billion Dollers', '44.8  Billion Dollers', '43.6  Billion Dollers', '41.4  Billion Dollers', '40.4  Billion Dollers', '37.3  Billion Dollers', '37.2  Billion Dollers', '36.8  Billion Dollers', '36.2  Billion Dollers', '34.8  Billion Dollers', '34.8  Billion Dollers', '32.6  Billion Dollers', '32.5  Billion Dollers', '31.7  Billion Dollers', '31.7  Billion Dollers', '31.2  Billion Dollers', '31.2  Billion Dollers', '30.8  Billion Dollers', '30.2  Billion Dollers', '28.7  Billion Dollers', '28.6  Billion Dollers', '28.3  Billion Dollers', '27.5  Billion Dollers', '27.4  Billion Dollers', '27.3  Billion Dollers', '27.2  Billion Dollers', '26.1  Billion Dollers', '25.2  Billion Dollers', '24.3  Billion Dollers', '24.3  Billion Dollers', '24.3  Billion Dollers', '24.1  Billion Dollers', '24  Billion Dollers', '23.9  Billion Dollers', '23.7  Billion Dollers', '23.5  Billion Dollers', '23.2  Billion Dollers', '23.1  Billion Dollers', '23  Billion Dollers', '22.8  Billion Dollers', '22.8  Billion Dollers', '22.3  Billion Dollers', '22.1  Billion Dollers', '22  Billion Dollers', '22  Billion Dollers', '21.8  Billion Dollers', '21.3  Billion Dollers', '21.2  Billion Dollers', '20.8  Billion Dollers', '20.7  Billion Dollers', '20.6  Billion Dollers', '20.3  Billion Dollers', '20.1  Billion Dollers', '20  Billion Dollers', '19.6  Billion Dollers', '19.5  Billion Dollers', '19  Billion Dollers', '18.7  Billion Dollers', '18.7  Billion Dollers', '18.4  Billion Dollers', '18.2  Billion Dollers', '17.9  Billion Dollers', '17.8  Billion Dollers', '17.7  Billion Dollers', '17.7  Billion Dollers', '17.7  Billion Dollers', '17.6  Billion Dollers', '17.6  Billion Dollers', '17.4  Billion Dollers', '17.3  Billion Dollers', '17.2  Billion Dollers', '17.1  Billion Dollers', '17  Billion Dollers', '17  Billion Dollers', '16.8  Billion Dollers', '16.7  Billion Dollers', '16.6  Billion Dollers', '16.6  Billion Dollers', '16.5  Billion Dollers', '16.5  Billion Dollers', '16.5  Billion Dollers', '16.5  Billion Dollers', '16.4  Billion Dollers', '16.3  Billion Dollers', '16.2  Billion Dollers', '16.1  Billion Dollers', '15.7  Billion Dollers', '15.6  Billion Dollers', '15.5  Billion Dollers', '15.4  Billion Dollers', '15.4  Billion Dollers', '15.3  Billion Dollers', '15.3  Billion Dollers', '15.2  Billion Dollers', '15.2  Billion Dollers', '15.1  Billion Dollers', '15.1  Billion Dollers', '15  Billion Dollers', '14.8  Billion Dollers', '14.6  Billion Dollers', '14.4  Billion Dollers', '14.3  Billion Dollers', '14  Billion Dollers', '14  Billion Dollers', '13.9  Billion Dollers', '13.7  Billion Dollers', '13.65  Billion Dollers', '13.6  Billion Dollers', '13.6  Billion Dollers', '13.5  Billion Dollers', '13.2  Billion Dollers', '13.2  Billion Dollers', '13.2  Billion Dollers', '13.2  Billion Dollers', '12.9  Billion Dollers', '12.9  Billion Dollers', '12.8  Billion Dollers', '12.8  Billion Dollers', '12.7  Billion Dollers', '12.7  Billion Dollers', '12.7  Billion Dollers', '12.6  Billion Dollers', '12.5  Billion Dollers', '12.4  Billion Dollers', '12.2  Billion Dollers', '12.2  Billion Dollers', '12.1  Billion Dollers', '12.1  Billion Dollers', '12  Billion Dollers', '12  Billion Dollers', '11.9  Billion Dollers', '11.9  Billion Dollers', '11.9  Billion Dollers', '11.8  Billion Dollers', '11.8  Billion Dollers', '11.7  Billion Dollers', '11.7  Billion Dollers', '11.7  Billion Dollers', '11.6  Billion Dollers', '11.5  Billion Dollers', '11.5  Billion Dollers', '11.5  Billion Dollers', '11.5  Billion Dollers', '11.4  Billion Dollers', '11.4  Billion Dollers', '11.3  Billion Dollers', '11.3  Billion Dollers', '11.3  Billion Dollers', '11.3  Billion Dollers', '11.1  Billion Dollers', '11.1  Billion Dollers', '11  Billion Dollers', '10.9  Billion Dollers', '10.9  Billion Dollers', '10.9  Billion Dollers', '10.7  Billion Dollers', '10.7  Billion Dollers', '10.6  Billion Dollers', '10.6  Billion Dollers', '10.6  Billion Dollers', '10.5  Billion Dollers', '10.5  Billion Dollers', '10.5  Billion Dollers', '10.4  Billion Dollers', '10.3  Billion Dollers', '10.3  Billion Dollers', '10.3  Billion Dollers', '10.3  Billion Dollers', '10.3  Billion Dollers', '10  Billion Dollers', '10  Billion Dollers', '10  Billion Dollers', '10  Billion Dollers']\n"
     ]
    }
   ],
   "source": [
    "net=driver.find_elements_by_xpath('//div[@class=\"netWorth\"]/div[1]')\n",
    "for x in net:\n",
    "    Net_worth.append(x.text.replace('B',' Billion Dollers').replace('$',''))\n",
    "print(len(Net_worth),Net_worth)"
   ]
  },
  {
   "cell_type": "code",
   "execution_count": 289,
   "id": "30f7a105",
   "metadata": {},
   "outputs": [
    {
     "name": "stdout",
     "output_type": "stream",
     "text": [
      "200 ['United States', 'United States', 'France', 'United States', 'United States', 'United States', 'United States', 'United States', 'United States', 'India', 'India', 'United States', 'Mexico', 'France', 'United States', 'United States', 'China', 'United States', 'United States', 'Canada', 'United States', 'United States', 'Spain', 'United States', 'China', 'Canada', 'United States', 'Germany', 'Hong Kong', 'United States', 'France', 'France', 'Germany', 'China', 'Germany', 'Italy', 'Hong Kong', 'United States', 'Hong Kong', 'United States', 'United States', 'United States', 'France', 'France', 'Mexico', 'Australia', 'India', 'United States', 'China', 'United States', 'Austria', 'Italy', 'United States', 'Japan', 'China', 'Germany', 'India', 'China', 'China', 'United States', 'Japan', 'China', 'France', 'Indonesia', 'United States', 'Switzerland', 'Chile', 'China', 'Indonesia', 'United States', 'United States', 'United States', 'United States', 'Japan', 'United States', 'United States', 'Germany', 'United States', 'China', 'United States', 'India', 'China', 'China', 'Germany', 'Germany', 'China', 'Russia', 'China', 'India', 'Australia', 'China', 'India', 'China', 'Singapore', 'Sweden', 'United States', 'Russia', 'United States', 'China', 'China', 'Hong Kong', 'Switzerland', 'United States', 'Czechia', 'United States', 'India', 'United States', 'United States', 'United States', 'United States', 'United Kingdom', 'United States', 'Hong Kong', 'China', 'India', 'China', 'Brazil', 'Israel', 'Australia', 'China', 'Netherlands', 'United Kingdom', 'United Arab Emirates', 'Australia', 'Ireland', 'China', 'United States', 'United States', 'India', 'Nigeria', 'Russia', 'India', 'Singapore', 'China', 'Hong Kong', 'Denmark', 'Thailand', 'Hong Kong', 'China', 'Russia', 'China', 'United States', 'China', 'Australia', 'China', 'China', 'United States', 'United Kingdom', 'Hong Kong', 'China', 'Mexico', 'Canada', 'United States', 'Singapore', 'China', 'Thailand', 'United States', 'Cyprus', 'Germany', 'Germany', 'Russia', 'Thailand', 'Malaysia', 'China', 'Taiwan', 'Hong Kong', 'United States', 'United States', 'United States', 'Russia', 'United States', 'Australia', 'China', 'China', 'United States', 'Russia', 'United States', 'Russia', 'China', 'United States', 'Canada', 'Germany', 'United States', 'United States', 'United States', 'Malaysia', 'Brazil', 'Russia', 'China', 'Israel', 'Sweden', 'United States', 'China', 'Monaco', 'Russia', 'Brazil', 'United States', 'United States', 'United States', 'China']\n"
     ]
    }
   ],
   "source": [
    "citizenship=driver.find_elements_by_xpath('//div[@class=\"countryOfCitizenship\"]')\n",
    "for x in citizenship:\n",
    "    Citizenship.append(x.text)\n",
    "print(len(Citizenship),Citizenship)"
   ]
  },
  {
   "cell_type": "code",
   "execution_count": 304,
   "id": "282d4e3e",
   "metadata": {},
   "outputs": [
    {
     "name": "stdout",
     "output_type": "stream",
     "text": [
      "200 ['', '', '', '', '', '', '', '', '', '', '', '', '', '', '', 'Walmart', 'beverages, pharmaceuticals', 'Walmart', 'Walmart', 'cryptocurrency exchange', 'Koch Industries', 'Koch Industries', 'Zara', 'Dell computers', 'TikTok', 'media', 'Nike', 'retail', 'batteries', 'Amazon', 'shipping', 'luxury goods', 'shipping', 'internet media', 'supermarkets', 'Nutella, chocolates', 'diversified', 'investments', 'real estate', 'music, chemicals', 'candy, pet food', 'candy, pet food', 'Chanel', 'Chanel', 'mining', 'mining', 'software services', 'hedge funds', 'home appliances', 'casinos', 'Red Bull', 'eyeglasses', 'hedge funds', 'fashion retail', 'online games', 'BMW, pharmaceuticals', 'vaccines', 'package delivery', 'pig breeding', 'cryptocurrency exchange', 'sensors', 'automobiles', 'cheese', 'banking, tobacco', 'Estee Lauder', 'fintech', 'mining', 'e-commerce', 'banking, tobacco', 'Google', 'hedge funds', 'Quicken Loans', 'hospitals', 'internet, telecom', 'money management', 'newspapers, TV network', 'BMW', 'semiconductors', 'batteries', 'discount brokerage', 'retail, investments', 'soy sauce', 'batteries, automobiles', 'fasteners', \"Aldi, Trader Joe's\", 'real estate', 'steel, transport', 'petrochemicals', 'steel', 'mining', 'vaccines', 'steel', 'mining, copper products', 'medical devices', 'H&M', 'hedge funds', 'metals', 'oil & gas', 'pharmaceuticals', 'chemicals', 'real estate', 'Shipping', 'hedge funds', 'finance, telecommunications', 'home improvement stores', 'commodities', 'investments', 'supermarkets', 'Walmart', 'Apple, Disney', 'chemicals', 'real estate', 'medical devices', 'automobiles, batteries', 'pharmaceuticals', 'automobiles', 'beer', 'real estate, shipping', 'software', 'real estate', 'Heineken', 'hedge funds', 'messaging app', 'software', 'construction', 'coal', 'wireless networking gear', 'media', 'banking', 'cement, sugar', 'gas, chemicals', 'telecom', 'real estate', 'agribusiness', 'real estate', 'fashion retail', 'diversified', 'video surveillance', 'diversified', 'steel, investments', 'real estate', 'business software', 'solar wafers and modules', 'real estate', 'internet media', 'hospitals', 'venture capital', 'diversified', 'real estate', 'batteries', 'retail, media', 'diversified', 'discount brokerage', 'paints', 'solar panel components', 'alcohol, real estate', 'trading, investments', 'shipping', 'pharmaceuticals', 'pharmaceuticals', 'oil, banking, telecom', 'energy', 'palm oil, shipping, property', 'smartphones', 'shoes', 'casinos/hotels', 'Airbnb', 'hedge funds', 'Facebook', 'steel, telecom, investments', 'security software', 'manufacturing', 'e-commerce', 'solar panels', 'eBay, PayPal', 'oil, gas', 'medical devices', 'coal, fertilizers', 'e-commerce', 'investments', 'Google', 'real estate', 'roofing', 'sports, real estate', 'Dallas Cowboys', 'banking, property', 'Facebook', 'oil', 'e-commerce', 'drilling, shipping', 'investments', 'investments', 'petrochemicals', 'drugstores', 'investments', 'beer', 'private equity', 'Airbnb', 'movies, record labels', 'semiconductors']\n"
     ]
    }
   ],
   "source": [
    "Source=[]\n",
    "source=driver.find_elements_by_xpath('//div[@class=\"expand-row__icon-container\"]/span[1]')\n",
    "for x in source:\n",
    "    Source.append(x.text)\n",
    "print(len(Source),Source)"
   ]
  },
  {
   "cell_type": "code",
   "execution_count": 301,
   "id": "9a452d35",
   "metadata": {},
   "outputs": [],
   "source": [
    "billionaires=pd.DataFrame()\n",
    "billionaires['Rank']=Rank\n",
    "billionaires['Name']=Name\n",
    "billionaires['Net Worth']=Net_worth\n",
    "billionaires['Citizenship/Country']=Citizenship\n",
    "billionaires['Source']=Source"
   ]
  },
  {
   "cell_type": "code",
   "execution_count": 302,
   "id": "341cc5f1",
   "metadata": {},
   "outputs": [
    {
     "data": {
      "text/html": [
       "<div>\n",
       "<style scoped>\n",
       "    .dataframe tbody tr th:only-of-type {\n",
       "        vertical-align: middle;\n",
       "    }\n",
       "\n",
       "    .dataframe tbody tr th {\n",
       "        vertical-align: top;\n",
       "    }\n",
       "\n",
       "    .dataframe thead th {\n",
       "        text-align: right;\n",
       "    }\n",
       "</style>\n",
       "<table border=\"1\" class=\"dataframe\">\n",
       "  <thead>\n",
       "    <tr style=\"text-align: right;\">\n",
       "      <th></th>\n",
       "      <th>Rank</th>\n",
       "      <th>Name</th>\n",
       "      <th>Net Worth</th>\n",
       "      <th>Citizenship/Country</th>\n",
       "      <th>Source</th>\n",
       "    </tr>\n",
       "  </thead>\n",
       "  <tbody>\n",
       "    <tr>\n",
       "      <th>0</th>\n",
       "      <td>1</td>\n",
       "      <td>Elon Musk</td>\n",
       "      <td>219  Billion Dollers</td>\n",
       "      <td>United States</td>\n",
       "      <td></td>\n",
       "    </tr>\n",
       "    <tr>\n",
       "      <th>1</th>\n",
       "      <td>2</td>\n",
       "      <td>Jeff Bezos</td>\n",
       "      <td>171  Billion Dollers</td>\n",
       "      <td>United States</td>\n",
       "      <td></td>\n",
       "    </tr>\n",
       "    <tr>\n",
       "      <th>2</th>\n",
       "      <td>3</td>\n",
       "      <td>Bernard Arnault &amp; family</td>\n",
       "      <td>158  Billion Dollers</td>\n",
       "      <td>France</td>\n",
       "      <td></td>\n",
       "    </tr>\n",
       "    <tr>\n",
       "      <th>3</th>\n",
       "      <td>4</td>\n",
       "      <td>Bill Gates</td>\n",
       "      <td>129  Billion Dollers</td>\n",
       "      <td>United States</td>\n",
       "      <td></td>\n",
       "    </tr>\n",
       "    <tr>\n",
       "      <th>4</th>\n",
       "      <td>5</td>\n",
       "      <td>Warren Buffett</td>\n",
       "      <td>118  Billion Dollers</td>\n",
       "      <td>United States</td>\n",
       "      <td></td>\n",
       "    </tr>\n",
       "    <tr>\n",
       "      <th>...</th>\n",
       "      <td>...</td>\n",
       "      <td>...</td>\n",
       "      <td>...</td>\n",
       "      <td>...</td>\n",
       "      <td>...</td>\n",
       "    </tr>\n",
       "    <tr>\n",
       "      <th>195</th>\n",
       "      <td>192</td>\n",
       "      <td>Marcel Herrmann Telles</td>\n",
       "      <td>10.3  Billion Dollers</td>\n",
       "      <td>Brazil</td>\n",
       "      <td>beer</td>\n",
       "    </tr>\n",
       "    <tr>\n",
       "      <th>196</th>\n",
       "      <td>197</td>\n",
       "      <td>Leon Black</td>\n",
       "      <td>10  Billion Dollers</td>\n",
       "      <td>United States</td>\n",
       "      <td>private equity</td>\n",
       "    </tr>\n",
       "    <tr>\n",
       "      <th>197</th>\n",
       "      <td>197</td>\n",
       "      <td>Joe Gebbia</td>\n",
       "      <td>10  Billion Dollers</td>\n",
       "      <td>United States</td>\n",
       "      <td>Airbnb</td>\n",
       "    </tr>\n",
       "    <tr>\n",
       "      <th>198</th>\n",
       "      <td>197</td>\n",
       "      <td>David Geffen</td>\n",
       "      <td>10  Billion Dollers</td>\n",
       "      <td>United States</td>\n",
       "      <td>movies, record labels</td>\n",
       "    </tr>\n",
       "    <tr>\n",
       "      <th>199</th>\n",
       "      <td>197</td>\n",
       "      <td>Yu Renrong</td>\n",
       "      <td>10  Billion Dollers</td>\n",
       "      <td>China</td>\n",
       "      <td>semiconductors</td>\n",
       "    </tr>\n",
       "  </tbody>\n",
       "</table>\n",
       "<p>200 rows × 5 columns</p>\n",
       "</div>"
      ],
      "text/plain": [
       "    Rank                      Name              Net Worth Citizenship/Country  \\\n",
       "0      1                 Elon Musk   219  Billion Dollers       United States   \n",
       "1      2                Jeff Bezos   171  Billion Dollers       United States   \n",
       "2      3  Bernard Arnault & family   158  Billion Dollers              France   \n",
       "3      4                Bill Gates   129  Billion Dollers       United States   \n",
       "4      5            Warren Buffett   118  Billion Dollers       United States   \n",
       "..   ...                       ...                    ...                 ...   \n",
       "195  192    Marcel Herrmann Telles  10.3  Billion Dollers              Brazil   \n",
       "196  197                Leon Black    10  Billion Dollers       United States   \n",
       "197  197                Joe Gebbia    10  Billion Dollers       United States   \n",
       "198  197              David Geffen    10  Billion Dollers       United States   \n",
       "199  197                Yu Renrong    10  Billion Dollers               China   \n",
       "\n",
       "                    Source  \n",
       "0                           \n",
       "1                           \n",
       "2                           \n",
       "3                           \n",
       "4                           \n",
       "..                     ...  \n",
       "195                   beer  \n",
       "196         private equity  \n",
       "197                 Airbnb  \n",
       "198  movies, record labels  \n",
       "199         semiconductors  \n",
       "\n",
       "[200 rows x 5 columns]"
      ]
     },
     "execution_count": 302,
     "metadata": {},
     "output_type": "execute_result"
    }
   ],
   "source": [
    "billionaires"
   ]
  },
  {
   "cell_type": "code",
   "execution_count": 305,
   "id": "af684169",
   "metadata": {},
   "outputs": [],
   "source": [
    "billionaires.to_csv('Billionaires.csv')"
   ]
  },
  {
   "cell_type": "code",
   "execution_count": 306,
   "id": "89824441",
   "metadata": {},
   "outputs": [],
   "source": [
    "driver.close()"
   ]
  },
  {
   "cell_type": "markdown",
   "id": "e89c67c8",
   "metadata": {},
   "source": [
    "### 9. Write a program to extract at least 500 Comments, Comment upvote and time when comment was posted from any YouTube Video. "
   ]
  },
  {
   "cell_type": "code",
   "execution_count": 307,
   "id": "76b21469",
   "metadata": {},
   "outputs": [],
   "source": [
    "driver = webdriver.Chrome(r\"C:\\Users\\dell\\Downloads\\chromedriver_win32\\chromedriver.exe\")"
   ]
  },
  {
   "cell_type": "code",
   "execution_count": 308,
   "id": "dd65abc0",
   "metadata": {},
   "outputs": [],
   "source": [
    "url='https://www.youtube.com/watch?v=geWjooaLm1I'"
   ]
  },
  {
   "cell_type": "code",
   "execution_count": 309,
   "id": "94be0c39",
   "metadata": {},
   "outputs": [],
   "source": [
    "driver.get(url)"
   ]
  },
  {
   "cell_type": "code",
   "execution_count": 316,
   "id": "88e3d1bc",
   "metadata": {},
   "outputs": [
    {
     "name": "stdout",
     "output_type": "stream",
     "text": [
      "40 ['', 'We want arjun and parvathi again to start their journeys in saregamapa', '', \"True talent should come without any bias  and don't let any one come for trps. it is about talent .\", '', 'Arjun is soo good he must come back', '', 'Arun Vijay and Vinod Sharma are the two most deserving candidates than the rest.', '', 'Charan tej and Arjun Vijay ️', '', 'True talent should come ', '', 'Frankly to say parvathi is not able to sing that good. We should appreciate her hard work. But competition is only seen as a competition', '', 'Arjun Vijay he is fantastic singer', '', 'We want Parvati again to start journey ', '', 'I voted for keerthana..hope she gets reentry into the show.', '', 'PLZZZZ We want Rasool to Rock again', '', 'Parvathi deserves the re-entry again', '', 'We want Parvathi journey again', '', 'Parvathi we want to see back your performance All the best', '', 'Arjun Vijay ', '', 'పార్వతి గారు మళ్లీ రావడం చాలా సంతోషంగా ఆనందంగా ఉంది', '', 'Wow...Parvathi is back.....So happy for you Parvathi.....& All the very best again ', '', 'Paravati garu All the best', '', 'పార్వతి పాటలు మళ్ళీ వినాలని ఎంతమంది wait చేస్తున్నారు.. మళ్ళీ రావాలని మనసు పూర్తిగా కోరుకుంటున్నపార్వతి లాంటి అమ్మాయి నీ Encourage చేయాలని కోరుకుంటున్న', '', 'We want parvathi']\n"
     ]
    }
   ],
   "source": [
    "comments=[]\n",
    "comment=driver.find_elements_by_xpath('//yt-formatted-string[@class=\"style-scope ytd-comment-renderer\"]')\n",
    "for x in comment:\n",
    "    comments.append(x.text)\n",
    "print(len(comments),comments)"
   ]
  },
  {
   "cell_type": "code",
   "execution_count": 317,
   "id": "4c788b76",
   "metadata": {},
   "outputs": [
    {
     "name": "stdout",
     "output_type": "stream",
     "text": [
      "40 ['', '344', '', '79', '', '204', '', '81', '', '65', '', '13', '', '96', '', '16', '', '7', '', '24', '', '10', '', '65', '', '18', '', '38', '', '40', '', '101', '', '55', '', '16', '', '325', '', '12']\n"
     ]
    }
   ],
   "source": [
    "upvote=[]\n",
    "vote=driver.find_elements_by_xpath('//span[@class=\"style-scope ytd-comment-action-buttons-renderer\"]')\n",
    "for x in vote:\n",
    "    upvote.append(x.text)\n",
    "print(len(upvote),upvote)"
   ]
  },
  {
   "cell_type": "code",
   "execution_count": 329,
   "id": "a6e05ba3",
   "metadata": {},
   "outputs": [
    {
     "name": "stdout",
     "output_type": "stream",
     "text": [
      "20 ['11 hours ago', '11 hours ago', '11 hours ago', '11 hours ago', '11 hours ago', '10 hours ago', '9 hours ago', '11 hours ago', '7 hours ago', '11 hours ago (edited)', '11 hours ago', '10 hours ago', '11 hours ago', '10 hours ago', '11 hours ago', '11 hours ago', '11 hours ago', '11 hours ago', '11 hours ago', '11 hours ago']\n"
     ]
    }
   ],
   "source": [
    "time=[]\n",
    "tm=driver.find_elements_by_xpath('//yt-formatted-string[@class=\"published-time-text above-comment style-scope ytd-comment-renderer\"]/a[1]')\n",
    "for x in tm:\n",
    "    time.append(x.text)\n",
    "print(len(time),time)"
   ]
  },
  {
   "cell_type": "code",
   "execution_count": 330,
   "id": "88542f95",
   "metadata": {},
   "outputs": [],
   "source": [
    "for i in range(0,40):\n",
    "    if i%2==0:\n",
    "        time.insert(i,'-')\n",
    "    else:\n",
    "        continue"
   ]
  },
  {
   "cell_type": "code",
   "execution_count": 331,
   "id": "fcc8dbb3",
   "metadata": {},
   "outputs": [
    {
     "name": "stdout",
     "output_type": "stream",
     "text": [
      "40 ['-', '11 hours ago', '-', '11 hours ago', '-', '11 hours ago', '-', '11 hours ago', '-', '11 hours ago', '-', '10 hours ago', '-', '9 hours ago', '-', '11 hours ago', '-', '7 hours ago', '-', '11 hours ago (edited)', '-', '11 hours ago', '-', '10 hours ago', '-', '11 hours ago', '-', '10 hours ago', '-', '11 hours ago', '-', '11 hours ago', '-', '11 hours ago', '-', '11 hours ago', '-', '11 hours ago', '-', '11 hours ago']\n"
     ]
    }
   ],
   "source": [
    "print(len(time),time)"
   ]
  },
  {
   "cell_type": "code",
   "execution_count": 332,
   "id": "6b75dcee",
   "metadata": {},
   "outputs": [
    {
     "data": {
      "text/html": [
       "<div>\n",
       "<style scoped>\n",
       "    .dataframe tbody tr th:only-of-type {\n",
       "        vertical-align: middle;\n",
       "    }\n",
       "\n",
       "    .dataframe tbody tr th {\n",
       "        vertical-align: top;\n",
       "    }\n",
       "\n",
       "    .dataframe thead th {\n",
       "        text-align: right;\n",
       "    }\n",
       "</style>\n",
       "<table border=\"1\" class=\"dataframe\">\n",
       "  <thead>\n",
       "    <tr style=\"text-align: right;\">\n",
       "      <th></th>\n",
       "      <th>Comments</th>\n",
       "      <th>Up Vote</th>\n",
       "      <th>Time of Comments</th>\n",
       "    </tr>\n",
       "  </thead>\n",
       "  <tbody>\n",
       "    <tr>\n",
       "      <th>0</th>\n",
       "      <td></td>\n",
       "      <td></td>\n",
       "      <td>-</td>\n",
       "    </tr>\n",
       "    <tr>\n",
       "      <th>1</th>\n",
       "      <td>We want arjun and parvathi again to start thei...</td>\n",
       "      <td>344</td>\n",
       "      <td>11 hours ago</td>\n",
       "    </tr>\n",
       "    <tr>\n",
       "      <th>2</th>\n",
       "      <td></td>\n",
       "      <td></td>\n",
       "      <td>-</td>\n",
       "    </tr>\n",
       "    <tr>\n",
       "      <th>3</th>\n",
       "      <td>True talent should come without any bias  and ...</td>\n",
       "      <td>79</td>\n",
       "      <td>11 hours ago</td>\n",
       "    </tr>\n",
       "    <tr>\n",
       "      <th>4</th>\n",
       "      <td></td>\n",
       "      <td></td>\n",
       "      <td>-</td>\n",
       "    </tr>\n",
       "    <tr>\n",
       "      <th>5</th>\n",
       "      <td>Arjun is soo good he must come back</td>\n",
       "      <td>204</td>\n",
       "      <td>11 hours ago</td>\n",
       "    </tr>\n",
       "    <tr>\n",
       "      <th>6</th>\n",
       "      <td></td>\n",
       "      <td></td>\n",
       "      <td>-</td>\n",
       "    </tr>\n",
       "    <tr>\n",
       "      <th>7</th>\n",
       "      <td>Arun Vijay and Vinod Sharma are the two most d...</td>\n",
       "      <td>81</td>\n",
       "      <td>11 hours ago</td>\n",
       "    </tr>\n",
       "    <tr>\n",
       "      <th>8</th>\n",
       "      <td></td>\n",
       "      <td></td>\n",
       "      <td>-</td>\n",
       "    </tr>\n",
       "    <tr>\n",
       "      <th>9</th>\n",
       "      <td>Charan tej and Arjun Vijay ️</td>\n",
       "      <td>65</td>\n",
       "      <td>11 hours ago</td>\n",
       "    </tr>\n",
       "    <tr>\n",
       "      <th>10</th>\n",
       "      <td></td>\n",
       "      <td></td>\n",
       "      <td>-</td>\n",
       "    </tr>\n",
       "    <tr>\n",
       "      <th>11</th>\n",
       "      <td>True talent should come</td>\n",
       "      <td>13</td>\n",
       "      <td>10 hours ago</td>\n",
       "    </tr>\n",
       "    <tr>\n",
       "      <th>12</th>\n",
       "      <td></td>\n",
       "      <td></td>\n",
       "      <td>-</td>\n",
       "    </tr>\n",
       "    <tr>\n",
       "      <th>13</th>\n",
       "      <td>Frankly to say parvathi is not able to sing th...</td>\n",
       "      <td>96</td>\n",
       "      <td>9 hours ago</td>\n",
       "    </tr>\n",
       "    <tr>\n",
       "      <th>14</th>\n",
       "      <td></td>\n",
       "      <td></td>\n",
       "      <td>-</td>\n",
       "    </tr>\n",
       "    <tr>\n",
       "      <th>15</th>\n",
       "      <td>Arjun Vijay he is fantastic singer</td>\n",
       "      <td>16</td>\n",
       "      <td>11 hours ago</td>\n",
       "    </tr>\n",
       "    <tr>\n",
       "      <th>16</th>\n",
       "      <td></td>\n",
       "      <td></td>\n",
       "      <td>-</td>\n",
       "    </tr>\n",
       "    <tr>\n",
       "      <th>17</th>\n",
       "      <td>We want Parvati again to start journey</td>\n",
       "      <td>7</td>\n",
       "      <td>7 hours ago</td>\n",
       "    </tr>\n",
       "    <tr>\n",
       "      <th>18</th>\n",
       "      <td></td>\n",
       "      <td></td>\n",
       "      <td>-</td>\n",
       "    </tr>\n",
       "    <tr>\n",
       "      <th>19</th>\n",
       "      <td>I voted for keerthana..hope she gets reentry i...</td>\n",
       "      <td>24</td>\n",
       "      <td>11 hours ago (edited)</td>\n",
       "    </tr>\n",
       "    <tr>\n",
       "      <th>20</th>\n",
       "      <td></td>\n",
       "      <td></td>\n",
       "      <td>-</td>\n",
       "    </tr>\n",
       "    <tr>\n",
       "      <th>21</th>\n",
       "      <td>PLZZZZ We want Rasool to Rock again</td>\n",
       "      <td>10</td>\n",
       "      <td>11 hours ago</td>\n",
       "    </tr>\n",
       "    <tr>\n",
       "      <th>22</th>\n",
       "      <td></td>\n",
       "      <td></td>\n",
       "      <td>-</td>\n",
       "    </tr>\n",
       "    <tr>\n",
       "      <th>23</th>\n",
       "      <td>Parvathi deserves the re-entry again</td>\n",
       "      <td>65</td>\n",
       "      <td>10 hours ago</td>\n",
       "    </tr>\n",
       "    <tr>\n",
       "      <th>24</th>\n",
       "      <td></td>\n",
       "      <td></td>\n",
       "      <td>-</td>\n",
       "    </tr>\n",
       "    <tr>\n",
       "      <th>25</th>\n",
       "      <td>We want Parvathi journey again</td>\n",
       "      <td>18</td>\n",
       "      <td>11 hours ago</td>\n",
       "    </tr>\n",
       "    <tr>\n",
       "      <th>26</th>\n",
       "      <td></td>\n",
       "      <td></td>\n",
       "      <td>-</td>\n",
       "    </tr>\n",
       "    <tr>\n",
       "      <th>27</th>\n",
       "      <td>Parvathi we want to see back your performance ...</td>\n",
       "      <td>38</td>\n",
       "      <td>10 hours ago</td>\n",
       "    </tr>\n",
       "    <tr>\n",
       "      <th>28</th>\n",
       "      <td></td>\n",
       "      <td></td>\n",
       "      <td>-</td>\n",
       "    </tr>\n",
       "    <tr>\n",
       "      <th>29</th>\n",
       "      <td>Arjun Vijay</td>\n",
       "      <td>40</td>\n",
       "      <td>11 hours ago</td>\n",
       "    </tr>\n",
       "    <tr>\n",
       "      <th>30</th>\n",
       "      <td></td>\n",
       "      <td></td>\n",
       "      <td>-</td>\n",
       "    </tr>\n",
       "    <tr>\n",
       "      <th>31</th>\n",
       "      <td>పార్వతి గారు మళ్లీ రావడం చాలా సంతోషంగా ఆనందంగా...</td>\n",
       "      <td>101</td>\n",
       "      <td>11 hours ago</td>\n",
       "    </tr>\n",
       "    <tr>\n",
       "      <th>32</th>\n",
       "      <td></td>\n",
       "      <td></td>\n",
       "      <td>-</td>\n",
       "    </tr>\n",
       "    <tr>\n",
       "      <th>33</th>\n",
       "      <td>Wow...Parvathi is back.....So happy for you Pa...</td>\n",
       "      <td>55</td>\n",
       "      <td>11 hours ago</td>\n",
       "    </tr>\n",
       "    <tr>\n",
       "      <th>34</th>\n",
       "      <td></td>\n",
       "      <td></td>\n",
       "      <td>-</td>\n",
       "    </tr>\n",
       "    <tr>\n",
       "      <th>35</th>\n",
       "      <td>Paravati garu All the best</td>\n",
       "      <td>16</td>\n",
       "      <td>11 hours ago</td>\n",
       "    </tr>\n",
       "    <tr>\n",
       "      <th>36</th>\n",
       "      <td></td>\n",
       "      <td></td>\n",
       "      <td>-</td>\n",
       "    </tr>\n",
       "    <tr>\n",
       "      <th>37</th>\n",
       "      <td>పార్వతి పాటలు మళ్ళీ వినాలని ఎంతమంది wait చేస్త...</td>\n",
       "      <td>325</td>\n",
       "      <td>11 hours ago</td>\n",
       "    </tr>\n",
       "    <tr>\n",
       "      <th>38</th>\n",
       "      <td></td>\n",
       "      <td></td>\n",
       "      <td>-</td>\n",
       "    </tr>\n",
       "    <tr>\n",
       "      <th>39</th>\n",
       "      <td>We want parvathi</td>\n",
       "      <td>12</td>\n",
       "      <td>11 hours ago</td>\n",
       "    </tr>\n",
       "  </tbody>\n",
       "</table>\n",
       "</div>"
      ],
      "text/plain": [
       "                                             Comments Up Vote  \\\n",
       "0                                                               \n",
       "1   We want arjun and parvathi again to start thei...     344   \n",
       "2                                                               \n",
       "3   True talent should come without any bias  and ...      79   \n",
       "4                                                               \n",
       "5                 Arjun is soo good he must come back     204   \n",
       "6                                                               \n",
       "7   Arun Vijay and Vinod Sharma are the two most d...      81   \n",
       "8                                                               \n",
       "9                        Charan tej and Arjun Vijay ️      65   \n",
       "10                                                              \n",
       "11                           True talent should come       13   \n",
       "12                                                              \n",
       "13  Frankly to say parvathi is not able to sing th...      96   \n",
       "14                                                              \n",
       "15                 Arjun Vijay he is fantastic singer      16   \n",
       "16                                                              \n",
       "17            We want Parvati again to start journey        7   \n",
       "18                                                              \n",
       "19  I voted for keerthana..hope she gets reentry i...      24   \n",
       "20                                                              \n",
       "21                PLZZZZ We want Rasool to Rock again      10   \n",
       "22                                                              \n",
       "23               Parvathi deserves the re-entry again      65   \n",
       "24                                                              \n",
       "25                     We want Parvathi journey again      18   \n",
       "26                                                              \n",
       "27  Parvathi we want to see back your performance ...      38   \n",
       "28                                                              \n",
       "29                                       Arjun Vijay       40   \n",
       "30                                                              \n",
       "31  పార్వతి గారు మళ్లీ రావడం చాలా సంతోషంగా ఆనందంగా...     101   \n",
       "32                                                              \n",
       "33  Wow...Parvathi is back.....So happy for you Pa...      55   \n",
       "34                                                              \n",
       "35                         Paravati garu All the best      16   \n",
       "36                                                              \n",
       "37  పార్వతి పాటలు మళ్ళీ వినాలని ఎంతమంది wait చేస్త...     325   \n",
       "38                                                              \n",
       "39                                   We want parvathi      12   \n",
       "\n",
       "         Time of Comments  \n",
       "0                       -  \n",
       "1            11 hours ago  \n",
       "2                       -  \n",
       "3            11 hours ago  \n",
       "4                       -  \n",
       "5            11 hours ago  \n",
       "6                       -  \n",
       "7            11 hours ago  \n",
       "8                       -  \n",
       "9            11 hours ago  \n",
       "10                      -  \n",
       "11           10 hours ago  \n",
       "12                      -  \n",
       "13            9 hours ago  \n",
       "14                      -  \n",
       "15           11 hours ago  \n",
       "16                      -  \n",
       "17            7 hours ago  \n",
       "18                      -  \n",
       "19  11 hours ago (edited)  \n",
       "20                      -  \n",
       "21           11 hours ago  \n",
       "22                      -  \n",
       "23           10 hours ago  \n",
       "24                      -  \n",
       "25           11 hours ago  \n",
       "26                      -  \n",
       "27           10 hours ago  \n",
       "28                      -  \n",
       "29           11 hours ago  \n",
       "30                      -  \n",
       "31           11 hours ago  \n",
       "32                      -  \n",
       "33           11 hours ago  \n",
       "34                      -  \n",
       "35           11 hours ago  \n",
       "36                      -  \n",
       "37           11 hours ago  \n",
       "38                      -  \n",
       "39           11 hours ago  "
      ]
     },
     "execution_count": 332,
     "metadata": {},
     "output_type": "execute_result"
    }
   ],
   "source": [
    "df=pd.DataFrame()\n",
    "df['Comments']=comments\n",
    "df['Up Vote']=upvote\n",
    "df['Time of Comments']=time\n",
    "df"
   ]
  },
  {
   "cell_type": "code",
   "execution_count": 333,
   "id": "4e253edc",
   "metadata": {},
   "outputs": [],
   "source": [
    "for i in range(0,39):\n",
    "    if i%2==0:\n",
    "        df.drop(i,axis=0,inplace=True)\n",
    "    else:\n",
    "        continue"
   ]
  },
  {
   "cell_type": "code",
   "execution_count": 334,
   "id": "a8c324d7",
   "metadata": {},
   "outputs": [
    {
     "data": {
      "text/html": [
       "<div>\n",
       "<style scoped>\n",
       "    .dataframe tbody tr th:only-of-type {\n",
       "        vertical-align: middle;\n",
       "    }\n",
       "\n",
       "    .dataframe tbody tr th {\n",
       "        vertical-align: top;\n",
       "    }\n",
       "\n",
       "    .dataframe thead th {\n",
       "        text-align: right;\n",
       "    }\n",
       "</style>\n",
       "<table border=\"1\" class=\"dataframe\">\n",
       "  <thead>\n",
       "    <tr style=\"text-align: right;\">\n",
       "      <th></th>\n",
       "      <th>Comments</th>\n",
       "      <th>Up Vote</th>\n",
       "      <th>Time of Comments</th>\n",
       "    </tr>\n",
       "  </thead>\n",
       "  <tbody>\n",
       "    <tr>\n",
       "      <th>1</th>\n",
       "      <td>We want arjun and parvathi again to start thei...</td>\n",
       "      <td>344</td>\n",
       "      <td>11 hours ago</td>\n",
       "    </tr>\n",
       "    <tr>\n",
       "      <th>3</th>\n",
       "      <td>True talent should come without any bias  and ...</td>\n",
       "      <td>79</td>\n",
       "      <td>11 hours ago</td>\n",
       "    </tr>\n",
       "    <tr>\n",
       "      <th>5</th>\n",
       "      <td>Arjun is soo good he must come back</td>\n",
       "      <td>204</td>\n",
       "      <td>11 hours ago</td>\n",
       "    </tr>\n",
       "    <tr>\n",
       "      <th>7</th>\n",
       "      <td>Arun Vijay and Vinod Sharma are the two most d...</td>\n",
       "      <td>81</td>\n",
       "      <td>11 hours ago</td>\n",
       "    </tr>\n",
       "    <tr>\n",
       "      <th>9</th>\n",
       "      <td>Charan tej and Arjun Vijay ️</td>\n",
       "      <td>65</td>\n",
       "      <td>11 hours ago</td>\n",
       "    </tr>\n",
       "    <tr>\n",
       "      <th>11</th>\n",
       "      <td>True talent should come</td>\n",
       "      <td>13</td>\n",
       "      <td>10 hours ago</td>\n",
       "    </tr>\n",
       "    <tr>\n",
       "      <th>13</th>\n",
       "      <td>Frankly to say parvathi is not able to sing th...</td>\n",
       "      <td>96</td>\n",
       "      <td>9 hours ago</td>\n",
       "    </tr>\n",
       "    <tr>\n",
       "      <th>15</th>\n",
       "      <td>Arjun Vijay he is fantastic singer</td>\n",
       "      <td>16</td>\n",
       "      <td>11 hours ago</td>\n",
       "    </tr>\n",
       "    <tr>\n",
       "      <th>17</th>\n",
       "      <td>We want Parvati again to start journey</td>\n",
       "      <td>7</td>\n",
       "      <td>7 hours ago</td>\n",
       "    </tr>\n",
       "    <tr>\n",
       "      <th>19</th>\n",
       "      <td>I voted for keerthana..hope she gets reentry i...</td>\n",
       "      <td>24</td>\n",
       "      <td>11 hours ago (edited)</td>\n",
       "    </tr>\n",
       "    <tr>\n",
       "      <th>21</th>\n",
       "      <td>PLZZZZ We want Rasool to Rock again</td>\n",
       "      <td>10</td>\n",
       "      <td>11 hours ago</td>\n",
       "    </tr>\n",
       "    <tr>\n",
       "      <th>23</th>\n",
       "      <td>Parvathi deserves the re-entry again</td>\n",
       "      <td>65</td>\n",
       "      <td>10 hours ago</td>\n",
       "    </tr>\n",
       "    <tr>\n",
       "      <th>25</th>\n",
       "      <td>We want Parvathi journey again</td>\n",
       "      <td>18</td>\n",
       "      <td>11 hours ago</td>\n",
       "    </tr>\n",
       "    <tr>\n",
       "      <th>27</th>\n",
       "      <td>Parvathi we want to see back your performance ...</td>\n",
       "      <td>38</td>\n",
       "      <td>10 hours ago</td>\n",
       "    </tr>\n",
       "    <tr>\n",
       "      <th>29</th>\n",
       "      <td>Arjun Vijay</td>\n",
       "      <td>40</td>\n",
       "      <td>11 hours ago</td>\n",
       "    </tr>\n",
       "    <tr>\n",
       "      <th>31</th>\n",
       "      <td>పార్వతి గారు మళ్లీ రావడం చాలా సంతోషంగా ఆనందంగా...</td>\n",
       "      <td>101</td>\n",
       "      <td>11 hours ago</td>\n",
       "    </tr>\n",
       "    <tr>\n",
       "      <th>33</th>\n",
       "      <td>Wow...Parvathi is back.....So happy for you Pa...</td>\n",
       "      <td>55</td>\n",
       "      <td>11 hours ago</td>\n",
       "    </tr>\n",
       "    <tr>\n",
       "      <th>35</th>\n",
       "      <td>Paravati garu All the best</td>\n",
       "      <td>16</td>\n",
       "      <td>11 hours ago</td>\n",
       "    </tr>\n",
       "    <tr>\n",
       "      <th>37</th>\n",
       "      <td>పార్వతి పాటలు మళ్ళీ వినాలని ఎంతమంది wait చేస్త...</td>\n",
       "      <td>325</td>\n",
       "      <td>11 hours ago</td>\n",
       "    </tr>\n",
       "    <tr>\n",
       "      <th>39</th>\n",
       "      <td>We want parvathi</td>\n",
       "      <td>12</td>\n",
       "      <td>11 hours ago</td>\n",
       "    </tr>\n",
       "  </tbody>\n",
       "</table>\n",
       "</div>"
      ],
      "text/plain": [
       "                                             Comments Up Vote  \\\n",
       "1   We want arjun and parvathi again to start thei...     344   \n",
       "3   True talent should come without any bias  and ...      79   \n",
       "5                 Arjun is soo good he must come back     204   \n",
       "7   Arun Vijay and Vinod Sharma are the two most d...      81   \n",
       "9                        Charan tej and Arjun Vijay ️      65   \n",
       "11                           True talent should come       13   \n",
       "13  Frankly to say parvathi is not able to sing th...      96   \n",
       "15                 Arjun Vijay he is fantastic singer      16   \n",
       "17            We want Parvati again to start journey        7   \n",
       "19  I voted for keerthana..hope she gets reentry i...      24   \n",
       "21                PLZZZZ We want Rasool to Rock again      10   \n",
       "23               Parvathi deserves the re-entry again      65   \n",
       "25                     We want Parvathi journey again      18   \n",
       "27  Parvathi we want to see back your performance ...      38   \n",
       "29                                       Arjun Vijay       40   \n",
       "31  పార్వతి గారు మళ్లీ రావడం చాలా సంతోషంగా ఆనందంగా...     101   \n",
       "33  Wow...Parvathi is back.....So happy for you Pa...      55   \n",
       "35                         Paravati garu All the best      16   \n",
       "37  పార్వతి పాటలు మళ్ళీ వినాలని ఎంతమంది wait చేస్త...     325   \n",
       "39                                   We want parvathi      12   \n",
       "\n",
       "         Time of Comments  \n",
       "1            11 hours ago  \n",
       "3            11 hours ago  \n",
       "5            11 hours ago  \n",
       "7            11 hours ago  \n",
       "9            11 hours ago  \n",
       "11           10 hours ago  \n",
       "13            9 hours ago  \n",
       "15           11 hours ago  \n",
       "17            7 hours ago  \n",
       "19  11 hours ago (edited)  \n",
       "21           11 hours ago  \n",
       "23           10 hours ago  \n",
       "25           11 hours ago  \n",
       "27           10 hours ago  \n",
       "29           11 hours ago  \n",
       "31           11 hours ago  \n",
       "33           11 hours ago  \n",
       "35           11 hours ago  \n",
       "37           11 hours ago  \n",
       "39           11 hours ago  "
      ]
     },
     "execution_count": 334,
     "metadata": {},
     "output_type": "execute_result"
    }
   ],
   "source": [
    "df"
   ]
  },
  {
   "cell_type": "code",
   "execution_count": 335,
   "id": "722f14b9",
   "metadata": {},
   "outputs": [],
   "source": [
    "#save Dataframe\n",
    "df.to_csv('comments.csv')"
   ]
  },
  {
   "cell_type": "code",
   "execution_count": 336,
   "id": "2a0cbce6",
   "metadata": {},
   "outputs": [],
   "source": [
    "driver.close()"
   ]
  },
  {
   "cell_type": "markdown",
   "id": "e9d998fd",
   "metadata": {},
   "source": [
    "### 10. Write a python program to scrape a data for all available Hostels from https://www.hostelworld.com/ in “London” location. You have to scrape hostel name, distance from city centre, ratings, total reviews, overall reviews, privates from price, dorms from price, facilities and property description. "
   ]
  },
  {
   "cell_type": "code",
   "execution_count": 337,
   "id": "edd25c7e",
   "metadata": {},
   "outputs": [],
   "source": [
    "driver = webdriver.Chrome(r\"C:\\Users\\dell\\Downloads\\chromedriver_win32\\chromedriver.exe\")"
   ]
  },
  {
   "cell_type": "code",
   "execution_count": 338,
   "id": "97dd99fd",
   "metadata": {},
   "outputs": [],
   "source": [
    "url='https://www.hostelworld.com/s?q=London,%20England&city=London&country=England&type=city&id=3&from=2022-05-24&to=2022-05-27&guests=2&page=1'"
   ]
  },
  {
   "cell_type": "code",
   "execution_count": 339,
   "id": "a793ced9",
   "metadata": {},
   "outputs": [],
   "source": [
    "driver.get(url)"
   ]
  },
  {
   "cell_type": "code",
   "execution_count": 340,
   "id": "0dde197d",
   "metadata": {},
   "outputs": [
    {
     "name": "stdout",
     "output_type": "stream",
     "text": [
      "30 [\"St Christopher's Village\", 'Selina Camden', 'Palmers Lodge - Swiss Cottage', 'Generator London', 'Urbany Hostel London', 'Astor Hyde Park', 'Safestay London Elephant & Castle', 'Smart Camden Inn Hostel', 'Smart Russell Square Hostel', 'No.8 Seven Sisters', 'London Backpackers', 'Barmy Badger Backpackers', 'Safestay London Kensington Holland Park', 'Prime Backpackers Angel', 'Phoenix Hostel', 'Smart Hyde Park View Hostel', \"Wombat's City Hostel London\", 'Queen Elizabeth Chelsea', 'Smart Hyde Park Inn Hostel', 'NX London Hostel', 'Hostel One Notting Hill', \"St Christopher's Hammersmith\", 'Strand Continental', \"St Christopher's Camden\", 'London Waterloo Hostel', 'Clink261', \"St Christopher's Greenwich\", 'PubLove @ The Steam Engine, Waterloo', \"St Christopher's Shepherds Bush\", 'The Dictionary Hostel']\n"
     ]
    }
   ],
   "source": [
    "hotel_name=[]\n",
    "name=driver.find_elements_by_xpath('//h2[@class=\"title title-6\"]/a[1]')\n",
    "for x in name:\n",
    "    hotel_name.append(x.text)\n",
    "print(len(hotel_name),hotel_name)"
   ]
  },
  {
   "cell_type": "code",
   "execution_count": 341,
   "id": "1da10958",
   "metadata": {},
   "outputs": [
    {
     "name": "stdout",
     "output_type": "stream",
     "text": [
      "30 ['Hostel - 1.8km from city centre', 'Hostel - 5.5km from city centre', 'Hostel - 6.5km from city centre', 'Hostel - 3km from city centre', 'Hostel - 5.4km from city centre', 'Hostel - 4.3km from city centre', 'Hostel - 1.7km from city centre', 'Hostel - 4.4km from city centre', 'Hostel - 2.6km from city centre', 'Hostel - 9km from city centre', 'Hostel - 11.9km from city centre', 'Hostel - 5.5km from city centre', 'Hostel - 5.9km from city centre', 'Hostel - 3.6km from city centre', 'Hostel - 4.2km from city centre', 'Hostel - 5km from city centre', 'Hostel - 3.6km from city centre', 'Hostel - 5.7km from city centre', 'Hostel - 5km from city centre', 'Hostel - 6.1km from city centre', 'Hostel - 5.5km from city centre', 'Hostel - 7.5km from city centre', 'Hostel - 1.3km from city centre', 'Hostel - 4.3km from city centre', 'Hostel - 0.7km from city centre', 'Hostel - 3.2km from city centre', 'Hostel - 7.6km from city centre', 'Hostel - 0.5km from city centre', 'Hostel - 7km from city centre', 'Hostel - 4.1km from city centre']\n"
     ]
    }
   ],
   "source": [
    "distance=[]\n",
    "dis=driver.find_elements_by_xpath('//span[@class=\"description\"]')\n",
    "for x in dis:\n",
    "    distance.append(x.text)\n",
    "print(len(distance),distance)"
   ]
  },
  {
   "cell_type": "code",
   "execution_count": 342,
   "id": "be6d211c",
   "metadata": {},
   "outputs": [
    {
     "name": "stdout",
     "output_type": "stream",
     "text": [
      "30 ['8.1', '9.3', '9.0', '7.7', '9.4', '8.5', '7.4', '8.5', '6.8', '6.7', '8.3', '9.2', '7.1', '8.7', '7.8', '7.8', '9.0', '7.0', '6.5', '7.1', '8.5', '7.8', '7.1', '7.7', '6.7', '7.5', '7.4', '8.0', '7.5', '7.2']\n"
     ]
    }
   ],
   "source": [
    "ratings=[]\n",
    "rate=driver.find_elements_by_xpath('//div[@class=\"score orange big\"]')\n",
    "for x in rate:\n",
    "    ratings.append(x.text)\n",
    "print(len(ratings),ratings)"
   ]
  },
  {
   "cell_type": "code",
   "execution_count": 343,
   "id": "51dafa05",
   "metadata": {},
   "outputs": [
    {
     "name": "stdout",
     "output_type": "stream",
     "text": [
      "30 ['11196 Total Reviews', '24 Total Reviews', '15338 Total Reviews', '6936 Total Reviews', '305 Total Reviews', '11484 Total Reviews', '4234 Total Reviews', '2830 Total Reviews', '9641 Total Reviews', '3756 Total Reviews', '4238 Total Reviews', '1735 Total Reviews', '1191 Total Reviews', '572 Total Reviews', '3555 Total Reviews', '4549 Total Reviews', '13592 Total Reviews', '3261 Total Reviews', '6296 Total Reviews', '1123 Total Reviews', '1353 Total Reviews', '4017 Total Reviews', '839 Total Reviews', '3763 Total Reviews', '2494 Total Reviews', '77 Total Reviews', '3186 Total Reviews', '265 Total Reviews', '665 Total Reviews', '46 Total Reviews']\n"
     ]
    }
   ],
   "source": [
    "reviews=[]\n",
    "review=driver.find_elements_by_xpath('//div[@class=\"reviews\"]')\n",
    "for x in review:\n",
    "    reviews.append(x.text)\n",
    "print(len(reviews),reviews)"
   ]
  },
  {
   "cell_type": "code",
   "execution_count": 347,
   "id": "bf438c5a",
   "metadata": {},
   "outputs": [],
   "source": [
    "df=pd.DataFrame()\n",
    "df['Hostel_Name']=hotel_name\n",
    "df['distance from city centre']=distance\n",
    "df['Ratings']=ratings\n",
    "df['Reviews']=reviews"
   ]
  },
  {
   "cell_type": "code",
   "execution_count": 348,
   "id": "8ca93bfa",
   "metadata": {},
   "outputs": [
    {
     "data": {
      "text/html": [
       "<div>\n",
       "<style scoped>\n",
       "    .dataframe tbody tr th:only-of-type {\n",
       "        vertical-align: middle;\n",
       "    }\n",
       "\n",
       "    .dataframe tbody tr th {\n",
       "        vertical-align: top;\n",
       "    }\n",
       "\n",
       "    .dataframe thead th {\n",
       "        text-align: right;\n",
       "    }\n",
       "</style>\n",
       "<table border=\"1\" class=\"dataframe\">\n",
       "  <thead>\n",
       "    <tr style=\"text-align: right;\">\n",
       "      <th></th>\n",
       "      <th>Hostel_Name</th>\n",
       "      <th>distance from city centre</th>\n",
       "      <th>Ratings</th>\n",
       "      <th>Reviews</th>\n",
       "    </tr>\n",
       "  </thead>\n",
       "  <tbody>\n",
       "    <tr>\n",
       "      <th>0</th>\n",
       "      <td>St Christopher's Village</td>\n",
       "      <td>Hostel - 1.8km from city centre</td>\n",
       "      <td>8.1</td>\n",
       "      <td>11196 Total Reviews</td>\n",
       "    </tr>\n",
       "    <tr>\n",
       "      <th>1</th>\n",
       "      <td>Selina Camden</td>\n",
       "      <td>Hostel - 5.5km from city centre</td>\n",
       "      <td>9.3</td>\n",
       "      <td>24 Total Reviews</td>\n",
       "    </tr>\n",
       "    <tr>\n",
       "      <th>2</th>\n",
       "      <td>Palmers Lodge - Swiss Cottage</td>\n",
       "      <td>Hostel - 6.5km from city centre</td>\n",
       "      <td>9.0</td>\n",
       "      <td>15338 Total Reviews</td>\n",
       "    </tr>\n",
       "    <tr>\n",
       "      <th>3</th>\n",
       "      <td>Generator London</td>\n",
       "      <td>Hostel - 3km from city centre</td>\n",
       "      <td>7.7</td>\n",
       "      <td>6936 Total Reviews</td>\n",
       "    </tr>\n",
       "    <tr>\n",
       "      <th>4</th>\n",
       "      <td>Urbany Hostel London</td>\n",
       "      <td>Hostel - 5.4km from city centre</td>\n",
       "      <td>9.4</td>\n",
       "      <td>305 Total Reviews</td>\n",
       "    </tr>\n",
       "    <tr>\n",
       "      <th>5</th>\n",
       "      <td>Astor Hyde Park</td>\n",
       "      <td>Hostel - 4.3km from city centre</td>\n",
       "      <td>8.5</td>\n",
       "      <td>11484 Total Reviews</td>\n",
       "    </tr>\n",
       "    <tr>\n",
       "      <th>6</th>\n",
       "      <td>Safestay London Elephant &amp; Castle</td>\n",
       "      <td>Hostel - 1.7km from city centre</td>\n",
       "      <td>7.4</td>\n",
       "      <td>4234 Total Reviews</td>\n",
       "    </tr>\n",
       "    <tr>\n",
       "      <th>7</th>\n",
       "      <td>Smart Camden Inn Hostel</td>\n",
       "      <td>Hostel - 4.4km from city centre</td>\n",
       "      <td>8.5</td>\n",
       "      <td>2830 Total Reviews</td>\n",
       "    </tr>\n",
       "    <tr>\n",
       "      <th>8</th>\n",
       "      <td>Smart Russell Square Hostel</td>\n",
       "      <td>Hostel - 2.6km from city centre</td>\n",
       "      <td>6.8</td>\n",
       "      <td>9641 Total Reviews</td>\n",
       "    </tr>\n",
       "    <tr>\n",
       "      <th>9</th>\n",
       "      <td>No.8 Seven Sisters</td>\n",
       "      <td>Hostel - 9km from city centre</td>\n",
       "      <td>6.7</td>\n",
       "      <td>3756 Total Reviews</td>\n",
       "    </tr>\n",
       "    <tr>\n",
       "      <th>10</th>\n",
       "      <td>London Backpackers</td>\n",
       "      <td>Hostel - 11.9km from city centre</td>\n",
       "      <td>8.3</td>\n",
       "      <td>4238 Total Reviews</td>\n",
       "    </tr>\n",
       "    <tr>\n",
       "      <th>11</th>\n",
       "      <td>Barmy Badger Backpackers</td>\n",
       "      <td>Hostel - 5.5km from city centre</td>\n",
       "      <td>9.2</td>\n",
       "      <td>1735 Total Reviews</td>\n",
       "    </tr>\n",
       "    <tr>\n",
       "      <th>12</th>\n",
       "      <td>Safestay London Kensington Holland Park</td>\n",
       "      <td>Hostel - 5.9km from city centre</td>\n",
       "      <td>7.1</td>\n",
       "      <td>1191 Total Reviews</td>\n",
       "    </tr>\n",
       "    <tr>\n",
       "      <th>13</th>\n",
       "      <td>Prime Backpackers Angel</td>\n",
       "      <td>Hostel - 3.6km from city centre</td>\n",
       "      <td>8.7</td>\n",
       "      <td>572 Total Reviews</td>\n",
       "    </tr>\n",
       "    <tr>\n",
       "      <th>14</th>\n",
       "      <td>Phoenix Hostel</td>\n",
       "      <td>Hostel - 4.2km from city centre</td>\n",
       "      <td>7.8</td>\n",
       "      <td>3555 Total Reviews</td>\n",
       "    </tr>\n",
       "    <tr>\n",
       "      <th>15</th>\n",
       "      <td>Smart Hyde Park View Hostel</td>\n",
       "      <td>Hostel - 5km from city centre</td>\n",
       "      <td>7.8</td>\n",
       "      <td>4549 Total Reviews</td>\n",
       "    </tr>\n",
       "    <tr>\n",
       "      <th>16</th>\n",
       "      <td>Wombat's City Hostel London</td>\n",
       "      <td>Hostel - 3.6km from city centre</td>\n",
       "      <td>9.0</td>\n",
       "      <td>13592 Total Reviews</td>\n",
       "    </tr>\n",
       "    <tr>\n",
       "      <th>17</th>\n",
       "      <td>Queen Elizabeth Chelsea</td>\n",
       "      <td>Hostel - 5.7km from city centre</td>\n",
       "      <td>7.0</td>\n",
       "      <td>3261 Total Reviews</td>\n",
       "    </tr>\n",
       "    <tr>\n",
       "      <th>18</th>\n",
       "      <td>Smart Hyde Park Inn Hostel</td>\n",
       "      <td>Hostel - 5km from city centre</td>\n",
       "      <td>6.5</td>\n",
       "      <td>6296 Total Reviews</td>\n",
       "    </tr>\n",
       "    <tr>\n",
       "      <th>19</th>\n",
       "      <td>NX London Hostel</td>\n",
       "      <td>Hostel - 6.1km from city centre</td>\n",
       "      <td>7.1</td>\n",
       "      <td>1123 Total Reviews</td>\n",
       "    </tr>\n",
       "    <tr>\n",
       "      <th>20</th>\n",
       "      <td>Hostel One Notting Hill</td>\n",
       "      <td>Hostel - 5.5km from city centre</td>\n",
       "      <td>8.5</td>\n",
       "      <td>1353 Total Reviews</td>\n",
       "    </tr>\n",
       "    <tr>\n",
       "      <th>21</th>\n",
       "      <td>St Christopher's Hammersmith</td>\n",
       "      <td>Hostel - 7.5km from city centre</td>\n",
       "      <td>7.8</td>\n",
       "      <td>4017 Total Reviews</td>\n",
       "    </tr>\n",
       "    <tr>\n",
       "      <th>22</th>\n",
       "      <td>Strand Continental</td>\n",
       "      <td>Hostel - 1.3km from city centre</td>\n",
       "      <td>7.1</td>\n",
       "      <td>839 Total Reviews</td>\n",
       "    </tr>\n",
       "    <tr>\n",
       "      <th>23</th>\n",
       "      <td>St Christopher's Camden</td>\n",
       "      <td>Hostel - 4.3km from city centre</td>\n",
       "      <td>7.7</td>\n",
       "      <td>3763 Total Reviews</td>\n",
       "    </tr>\n",
       "    <tr>\n",
       "      <th>24</th>\n",
       "      <td>London Waterloo Hostel</td>\n",
       "      <td>Hostel - 0.7km from city centre</td>\n",
       "      <td>6.7</td>\n",
       "      <td>2494 Total Reviews</td>\n",
       "    </tr>\n",
       "    <tr>\n",
       "      <th>25</th>\n",
       "      <td>Clink261</td>\n",
       "      <td>Hostel - 3.2km from city centre</td>\n",
       "      <td>7.5</td>\n",
       "      <td>77 Total Reviews</td>\n",
       "    </tr>\n",
       "    <tr>\n",
       "      <th>26</th>\n",
       "      <td>St Christopher's Greenwich</td>\n",
       "      <td>Hostel - 7.6km from city centre</td>\n",
       "      <td>7.4</td>\n",
       "      <td>3186 Total Reviews</td>\n",
       "    </tr>\n",
       "    <tr>\n",
       "      <th>27</th>\n",
       "      <td>PubLove @ The Steam Engine, Waterloo</td>\n",
       "      <td>Hostel - 0.5km from city centre</td>\n",
       "      <td>8.0</td>\n",
       "      <td>265 Total Reviews</td>\n",
       "    </tr>\n",
       "    <tr>\n",
       "      <th>28</th>\n",
       "      <td>St Christopher's Shepherds Bush</td>\n",
       "      <td>Hostel - 7km from city centre</td>\n",
       "      <td>7.5</td>\n",
       "      <td>665 Total Reviews</td>\n",
       "    </tr>\n",
       "    <tr>\n",
       "      <th>29</th>\n",
       "      <td>The Dictionary Hostel</td>\n",
       "      <td>Hostel - 4.1km from city centre</td>\n",
       "      <td>7.2</td>\n",
       "      <td>46 Total Reviews</td>\n",
       "    </tr>\n",
       "  </tbody>\n",
       "</table>\n",
       "</div>"
      ],
      "text/plain": [
       "                                Hostel_Name         distance from city centre  \\\n",
       "0                  St Christopher's Village   Hostel - 1.8km from city centre   \n",
       "1                             Selina Camden   Hostel - 5.5km from city centre   \n",
       "2             Palmers Lodge - Swiss Cottage   Hostel - 6.5km from city centre   \n",
       "3                          Generator London     Hostel - 3km from city centre   \n",
       "4                      Urbany Hostel London   Hostel - 5.4km from city centre   \n",
       "5                           Astor Hyde Park   Hostel - 4.3km from city centre   \n",
       "6         Safestay London Elephant & Castle   Hostel - 1.7km from city centre   \n",
       "7                   Smart Camden Inn Hostel   Hostel - 4.4km from city centre   \n",
       "8               Smart Russell Square Hostel   Hostel - 2.6km from city centre   \n",
       "9                        No.8 Seven Sisters     Hostel - 9km from city centre   \n",
       "10                       London Backpackers  Hostel - 11.9km from city centre   \n",
       "11                 Barmy Badger Backpackers   Hostel - 5.5km from city centre   \n",
       "12  Safestay London Kensington Holland Park   Hostel - 5.9km from city centre   \n",
       "13                  Prime Backpackers Angel   Hostel - 3.6km from city centre   \n",
       "14                           Phoenix Hostel   Hostel - 4.2km from city centre   \n",
       "15              Smart Hyde Park View Hostel     Hostel - 5km from city centre   \n",
       "16              Wombat's City Hostel London   Hostel - 3.6km from city centre   \n",
       "17                  Queen Elizabeth Chelsea   Hostel - 5.7km from city centre   \n",
       "18               Smart Hyde Park Inn Hostel     Hostel - 5km from city centre   \n",
       "19                         NX London Hostel   Hostel - 6.1km from city centre   \n",
       "20                  Hostel One Notting Hill   Hostel - 5.5km from city centre   \n",
       "21             St Christopher's Hammersmith   Hostel - 7.5km from city centre   \n",
       "22                       Strand Continental   Hostel - 1.3km from city centre   \n",
       "23                  St Christopher's Camden   Hostel - 4.3km from city centre   \n",
       "24                   London Waterloo Hostel   Hostel - 0.7km from city centre   \n",
       "25                                 Clink261   Hostel - 3.2km from city centre   \n",
       "26               St Christopher's Greenwich   Hostel - 7.6km from city centre   \n",
       "27     PubLove @ The Steam Engine, Waterloo   Hostel - 0.5km from city centre   \n",
       "28          St Christopher's Shepherds Bush     Hostel - 7km from city centre   \n",
       "29                    The Dictionary Hostel   Hostel - 4.1km from city centre   \n",
       "\n",
       "   Ratings              Reviews  \n",
       "0      8.1  11196 Total Reviews  \n",
       "1      9.3     24 Total Reviews  \n",
       "2      9.0  15338 Total Reviews  \n",
       "3      7.7   6936 Total Reviews  \n",
       "4      9.4    305 Total Reviews  \n",
       "5      8.5  11484 Total Reviews  \n",
       "6      7.4   4234 Total Reviews  \n",
       "7      8.5   2830 Total Reviews  \n",
       "8      6.8   9641 Total Reviews  \n",
       "9      6.7   3756 Total Reviews  \n",
       "10     8.3   4238 Total Reviews  \n",
       "11     9.2   1735 Total Reviews  \n",
       "12     7.1   1191 Total Reviews  \n",
       "13     8.7    572 Total Reviews  \n",
       "14     7.8   3555 Total Reviews  \n",
       "15     7.8   4549 Total Reviews  \n",
       "16     9.0  13592 Total Reviews  \n",
       "17     7.0   3261 Total Reviews  \n",
       "18     6.5   6296 Total Reviews  \n",
       "19     7.1   1123 Total Reviews  \n",
       "20     8.5   1353 Total Reviews  \n",
       "21     7.8   4017 Total Reviews  \n",
       "22     7.1    839 Total Reviews  \n",
       "23     7.7   3763 Total Reviews  \n",
       "24     6.7   2494 Total Reviews  \n",
       "25     7.5     77 Total Reviews  \n",
       "26     7.4   3186 Total Reviews  \n",
       "27     8.0    265 Total Reviews  \n",
       "28     7.5    665 Total Reviews  \n",
       "29     7.2     46 Total Reviews  "
      ]
     },
     "execution_count": 348,
     "metadata": {},
     "output_type": "execute_result"
    }
   ],
   "source": [
    "df"
   ]
  },
  {
   "cell_type": "code",
   "execution_count": 349,
   "id": "5fea1521",
   "metadata": {},
   "outputs": [],
   "source": [
    "df.to_csv('Hostels_in_London.csv')"
   ]
  },
  {
   "cell_type": "code",
   "execution_count": 350,
   "id": "19cb95e3",
   "metadata": {},
   "outputs": [],
   "source": [
    "driver.close()"
   ]
  }
 ],
 "metadata": {
  "kernelspec": {
   "display_name": "Python 3",
   "language": "python",
   "name": "python3"
  },
  "language_info": {
   "codemirror_mode": {
    "name": "ipython",
    "version": 3
   },
   "file_extension": ".py",
   "mimetype": "text/x-python",
   "name": "python",
   "nbconvert_exporter": "python",
   "pygments_lexer": "ipython3",
   "version": "3.8.8"
  }
 },
 "nbformat": 4,
 "nbformat_minor": 5
}
